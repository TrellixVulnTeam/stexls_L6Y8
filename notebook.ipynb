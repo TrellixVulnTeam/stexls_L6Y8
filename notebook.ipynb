{
 "cells": [
  {
   "cell_type": "code",
   "execution_count": 5,
   "metadata": {},
   "outputs": [],
   "source": [
    "from importlib import reload\n",
    "import json\n",
    "import itertools\n",
    "from pickle import loads, dumps\n",
    "from tqdm import tqdm_notebook as tqdm\n",
    "from glob import glob\n",
    "from copy import deepcopy\n",
    "from os.path import isfile, isdir, exists\n",
    "import numpy as np\n",
    "import re\n",
    "import nltk\n"
   ]
  },
  {
   "cell_type": "code",
   "execution_count": 273,
   "metadata": {},
   "outputs": [],
   "source": [
    "from trefier.linting import dependencies\n",
    "reload(dependencies)\n",
    "from trefier.linting.dependencies import DependencyGraph, DependencyGraphSymbol"
   ]
  },
  {
   "cell_type": "code",
   "execution_count": 274,
   "metadata": {},
   "outputs": [],
   "source": [
    "g = DependencyGraph()"
   ]
  },
  {
   "cell_type": "code",
   "execution_count": 275,
   "metadata": {},
   "outputs": [
    {
     "data": {
      "text/plain": [
       "{DependencyGraphSymbol:a, DependencyGraphSymbol:b, DependencyGraphSymbol:c}"
      ]
     },
     "execution_count": 275,
     "metadata": {},
     "output_type": "execute_result"
    }
   ],
   "source": [
    "a = g.create_symbol('a')\n",
    "a.provide('symbol')\n",
    "a.provide('a1')\n",
    "b = g.create_symbol('b')\n",
    "b.provide('symbol')\n",
    "b.provide('b1')\n",
    "c = g.create_symbol('c')\n",
    "c.require('symbol')\n",
    "c.provide('c1')\n",
    "c.provide('c2')\n",
    "g.poll_changed()"
   ]
  },
  {
   "cell_type": "code",
   "execution_count": 277,
   "metadata": {},
   "outputs": [
    {
     "data": {
      "text/plain": [
       "({'symbol': {DependencyGraphSymbol:c}},\n",
       " {'symbol': {DependencyGraphSymbol:a, DependencyGraphSymbol:b},\n",
       "  'a1': {DependencyGraphSymbol:a},\n",
       "  'b1': {DependencyGraphSymbol:b},\n",
       "  'c1': {DependencyGraphSymbol:c},\n",
       "  'c2': {DependencyGraphSymbol:c}})"
      ]
     },
     "execution_count": 277,
     "metadata": {},
     "output_type": "execute_result"
    }
   ],
   "source": [
    "g._dependencies, g._provided_symbols"
   ]
  },
  {
   "cell_type": "code",
   "execution_count": 280,
   "metadata": {},
   "outputs": [
    {
     "data": {
      "text/plain": [
       "({}, {})"
      ]
     },
     "execution_count": 280,
     "metadata": {},
     "output_type": "execute_result"
    }
   ],
   "source": [
    "b.destroy()\n",
    "g._dependencies, g._provided_symbols"
   ]
  }
 ],
 "metadata": {
  "kernelspec": {
   "display_name": "Python 3",
   "language": "python",
   "name": "python3"
  },
  "language_info": {
   "codemirror_mode": {
    "name": "ipython",
    "version": 3
   },
   "file_extension": ".py",
   "mimetype": "text/x-python",
   "name": "python",
   "nbconvert_exporter": "python",
   "pygments_lexer": "ipython3",
   "version": "3.7.2"
  }
 },
 "nbformat": 4,
 "nbformat_minor": 2
}
