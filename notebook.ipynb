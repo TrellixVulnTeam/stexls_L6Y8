{
 "cells": [
  {
   "cell_type": "code",
   "execution_count": 1,
   "metadata": {},
   "outputs": [],
   "source": [
    "from importlib import reload\n",
    "import json\n",
    "import itertools\n",
    "import pickle\n",
    "from tqdm import tqdm_notebook as tqdm\n",
    "from glob import glob\n",
    "from copy import deepcopy\n",
    "from numpy import *"
   ]
  },
  {
   "cell_type": "code",
   "execution_count": 2,
   "metadata": {},
   "outputs": [
    {
     "name": "stderr",
     "output_type": "stream",
     "text": [
      "Using TensorFlow backend.\n"
     ]
    },
    {
     "data": {
      "text/plain": [
       "<module 'trefier.linting.linter' from '/home/marian/projects/trefier-backend/trefier/linting/linter.py'>"
      ]
     },
     "execution_count": 2,
     "metadata": {},
     "output_type": "execute_result"
    }
   ],
   "source": [
    "from trefier.linting import *;\n",
    "reload(imports)\n",
    "reload(linter)\n"
   ]
  },
  {
   "cell_type": "code",
   "execution_count": 3,
   "metadata": {
    "scrolled": true
   },
   "outputs": [
    {
     "name": "stdout",
     "output_type": "stream",
     "text": [
      "WARNING:tensorflow:From /home/marian/.pyenv/versions/3.7.2/lib/python3.7/site-packages/tensorflow/python/framework/op_def_library.py:263: colocate_with (from tensorflow.python.framework.ops) is deprecated and will be removed in a future version.\n",
      "Instructions for updating:\n",
      "Colocations handled automatically by placer.\n",
      "WARNING:tensorflow:From /home/marian/.pyenv/versions/3.7.2/lib/python3.7/site-packages/keras/backend/tensorflow_backend.py:3445: calling dropout (from tensorflow.python.ops.nn_ops) with keep_prob is deprecated and will be removed in a future version.\n",
      "Instructions for updating:\n",
      "Please use `rate` instead of `keep_prob`. Rate should be set to `rate = 1 - keep_prob`.\n",
      "WARNING:tensorflow:From /home/marian/.pyenv/versions/3.7.2/lib/python3.7/site-packages/tensorflow/python/ops/math_ops.py:3066: to_int32 (from tensorflow.python.ops.math_ops) is deprecated and will be removed in a future version.\n",
      "Instructions for updating:\n",
      "Use tf.cast instead.\n",
      "+FILE /home/marian/projects/trefier-backend/trefier/tests/testdb/two_peaks/source/peak2.lang.tex\n",
      "+BINDING testdb/two_peaks/peak2 lang peak2.lang.tex\n",
      "+FILE /home/marian/projects/trefier-backend/trefier/tests/testdb/two_peaks/source/bottom1.lang.tex\n",
      "+BINDING testdb/two_peaks/bottom1 lang bottom1.lang.tex\n",
      "+FILE /home/marian/projects/trefier-backend/trefier/tests/testdb/two_peaks/source/middle3.tex\n",
      "+MODULE testdb/two_peaks/middle3 middle3.tex\n",
      "+FILE /home/marian/projects/trefier-backend/trefier/tests/testdb/two_peaks/source/bottom3.tex\n",
      "+MODULE testdb/two_peaks/bottom3 bottom3.tex\n",
      "+FILE /home/marian/projects/trefier-backend/trefier/tests/testdb/two_peaks/source/middle1.tex\n",
      "+MODULE testdb/two_peaks/middle1 middle1.tex\n",
      "+FILE /home/marian/projects/trefier-backend/trefier/tests/testdb/two_peaks/source/middle2.tex\n",
      "+MODULE testdb/two_peaks/middle2 middle2.tex\n",
      "+FILE /home/marian/projects/trefier-backend/trefier/tests/testdb/two_peaks/source/peak1.lang.tex\n",
      "+BINDING testdb/two_peaks/peak1 lang peak1.lang.tex\n",
      "+FILE /home/marian/projects/trefier-backend/trefier/tests/testdb/two_peaks/source/bottom3.lang.tex\n",
      "+BINDING testdb/two_peaks/bottom3 lang bottom3.lang.tex\n",
      "+FILE /home/marian/projects/trefier-backend/trefier/tests/testdb/two_peaks/source/bottom1.tex\n",
      "+MODULE testdb/two_peaks/bottom1 bottom1.tex\n",
      "+FILE /home/marian/projects/trefier-backend/trefier/tests/testdb/two_peaks/source/middle1.lang.tex\n",
      "+BINDING testdb/two_peaks/middle1 lang middle1.lang.tex\n",
      "+FILE /home/marian/projects/trefier-backend/trefier/tests/testdb/two_peaks/source/peak2.tex\n",
      "+MODULE testdb/two_peaks/peak2 peak2.tex\n",
      "+FILE /home/marian/projects/trefier-backend/trefier/tests/testdb/two_peaks/source/peak1.tex\n",
      "+MODULE testdb/two_peaks/peak1 peak1.tex\n",
      "+FILE /home/marian/projects/trefier-backend/trefier/tests/testdb/two_peaks/source/bottom2.tex\n",
      "+MODULE testdb/two_peaks/bottom2 bottom2.tex\n",
      "+FILE /home/marian/projects/trefier-backend/trefier/tests/testdb/two_peaks/source/middle2.lang.tex\n",
      "+BINDING testdb/two_peaks/middle2 lang middle2.lang.tex\n",
      "+FILE /home/marian/projects/trefier-backend/trefier/tests/testdb/two_peaks/source/bottom2.lang.tex\n",
      "+BINDING testdb/two_peaks/bottom2 lang bottom2.lang.tex\n",
      "+FILE /home/marian/projects/trefier-backend/trefier/tests/testdb/two_peaks/source/middle3.lang.tex\n",
      "+BINDING testdb/two_peaks/middle3 lang middle3.lang.tex\n"
     ]
    },
    {
     "data": {
      "text/plain": [
       "16"
      ]
     },
     "execution_count": 3,
     "metadata": {},
     "output_type": "execute_result"
    }
   ],
   "source": [
    "l = linter.Linter()\n",
    "l.load_tagger_model('/home/marian/projects/trefier-backend/tagger.model')\n",
    "l.add_directory('trefier/tests/testdb/two_peaks/source')\n",
    "l.update()"
   ]
  },
  {
   "cell_type": "code",
   "execution_count": 4,
   "metadata": {},
   "outputs": [
    {
     "data": {
      "text/plain": [
       "{'/home/marian/projects/trefier-backend/trefier/tests/testdb/two_peaks/source/bottom2.lang.tex': [(testdb/two_peaks/bottom3,\n",
       "   'bottom3-symbol1',\n",
       "   [((4, 28), (4, 35)), ((4, 37), (4, 44))]),\n",
       "  (testdb/two_peaks/bottom1,\n",
       "   'bottom1-symbol1',\n",
       "   [((4, 28), (4, 35)), ((4, 37), (4, 44))]),\n",
       "  (testdb/two_peaks/bottom2,\n",
       "   'bottom2-symbol1',\n",
       "   [((4, 28), (4, 35)), ((4, 37), (4, 44))])],\n",
       " '/home/marian/projects/trefier-backend/trefier/tests/testdb/two_peaks/source/peak1.lang.tex': [(testdb/two_peaks/peak2,\n",
       "   'peak2-symbol1',\n",
       "   [((2, 19), (2, 24)), ((2, 26), (2, 33))]),\n",
       "  (testdb/two_peaks/peak1,\n",
       "   'peak1-symbol1',\n",
       "   [((2, 19), (2, 24)), ((2, 26), (2, 33))]),\n",
       "  (testdb/two_peaks/bottom3,\n",
       "   'bottom3-symbol1',\n",
       "   [((7, 28), (7, 35)), ((7, 37), (7, 44))]),\n",
       "  (testdb/two_peaks/bottom1,\n",
       "   'bottom1-symbol1',\n",
       "   [((7, 28), (7, 35)), ((7, 37), (7, 44))]),\n",
       "  (testdb/two_peaks/bottom2,\n",
       "   'bottom2-symbol1',\n",
       "   [((7, 28), (7, 35)), ((7, 37), (7, 44))])],\n",
       " '/home/marian/projects/trefier-backend/trefier/tests/testdb/two_peaks/source/bottom3.lang.tex': [(testdb/two_peaks/bottom3,\n",
       "   'bottom3-symbol1',\n",
       "   [((2, 19), (2, 26)), ((2, 28), (2, 35))]),\n",
       "  (testdb/two_peaks/bottom1,\n",
       "   'bottom1-symbol1',\n",
       "   [((2, 19), (2, 26)), ((2, 28), (2, 35))]),\n",
       "  (testdb/two_peaks/bottom2,\n",
       "   'bottom2-symbol1',\n",
       "   [((2, 19), (2, 26)), ((2, 28), (2, 35))])],\n",
       " '/home/marian/projects/trefier-backend/trefier/tests/testdb/two_peaks/source/middle3.lang.tex': [(testdb/two_peaks/middle3,\n",
       "   'middle3-symbol1',\n",
       "   [((2, 19), (2, 26)), ((2, 28), (2, 35))]),\n",
       "  (testdb/two_peaks/middle1,\n",
       "   'middle1-symbol1',\n",
       "   [((2, 19), (2, 26)), ((2, 28), (2, 35))]),\n",
       "  (testdb/two_peaks/middle2,\n",
       "   'middle2-symbol1',\n",
       "   [((2, 19), (2, 26)), ((2, 28), (2, 35))]),\n",
       "  (testdb/two_peaks/bottom3,\n",
       "   'bottom3-symbol1',\n",
       "   [((5, 28), (5, 35)), ((5, 37), (5, 44))]),\n",
       "  (testdb/two_peaks/bottom1,\n",
       "   'bottom1-symbol1',\n",
       "   [((5, 28), (5, 35)), ((5, 37), (5, 44))]),\n",
       "  (testdb/two_peaks/bottom2,\n",
       "   'bottom2-symbol1',\n",
       "   [((5, 28), (5, 35)), ((5, 37), (5, 44))])],\n",
       " '/home/marian/projects/trefier-backend/trefier/tests/testdb/two_peaks/source/middle2.lang.tex': [(testdb/two_peaks/middle3,\n",
       "   'middle3-symbol1',\n",
       "   [((2, 19), (2, 26)), ((2, 28), (2, 35))]),\n",
       "  (testdb/two_peaks/middle1,\n",
       "   'middle1-symbol1',\n",
       "   [((2, 19), (2, 26)), ((2, 28), (2, 35))]),\n",
       "  (testdb/two_peaks/middle2,\n",
       "   'middle2-symbol1',\n",
       "   [((2, 19), (2, 26)), ((2, 28), (2, 35))]),\n",
       "  (testdb/two_peaks/bottom3,\n",
       "   'bottom3-symbol1',\n",
       "   [((6, 28), (6, 35)), ((6, 37), (6, 44))]),\n",
       "  (testdb/two_peaks/bottom1,\n",
       "   'bottom1-symbol1',\n",
       "   [((6, 28), (6, 35)), ((6, 37), (6, 44))]),\n",
       "  (testdb/two_peaks/bottom2,\n",
       "   'bottom2-symbol1',\n",
       "   [((6, 28), (6, 35)), ((6, 37), (6, 44))])],\n",
       " '/home/marian/projects/trefier-backend/trefier/tests/testdb/two_peaks/source/middle1.lang.tex': [(testdb/two_peaks/middle3,\n",
       "   'middle3-symbol1',\n",
       "   [((2, 19), (2, 26)), ((2, 28), (2, 35))]),\n",
       "  (testdb/two_peaks/middle1,\n",
       "   'middle1-symbol1',\n",
       "   [((2, 19), (2, 26)), ((2, 28), (2, 35))]),\n",
       "  (testdb/two_peaks/middle2,\n",
       "   'middle2-symbol1',\n",
       "   [((2, 19), (2, 26)), ((2, 28), (2, 35))]),\n",
       "  (testdb/two_peaks/bottom3,\n",
       "   'bottom3-symbol1',\n",
       "   [((4, 28), (4, 35)), ((4, 37), (4, 44))]),\n",
       "  (testdb/two_peaks/bottom1,\n",
       "   'bottom1-symbol1',\n",
       "   [((4, 28), (4, 35)), ((4, 37), (4, 44))]),\n",
       "  (testdb/two_peaks/bottom2,\n",
       "   'bottom2-symbol1',\n",
       "   [((4, 28), (4, 35)), ((4, 37), (4, 44))])],\n",
       " '/home/marian/projects/trefier-backend/trefier/tests/testdb/two_peaks/source/peak2.lang.tex': [(testdb/two_peaks/peak2,\n",
       "   'peak2-symbol1',\n",
       "   [((2, 19), (2, 24)), ((2, 26), (2, 33))]),\n",
       "  (testdb/two_peaks/peak1,\n",
       "   'peak1-symbol1',\n",
       "   [((2, 19), (2, 24)), ((2, 26), (2, 33))]),\n",
       "  (testdb/two_peaks/bottom3,\n",
       "   'bottom3-symbol1',\n",
       "   [((9, 28), (9, 35)), ((9, 37), (9, 44))]),\n",
       "  (testdb/two_peaks/bottom1,\n",
       "   'bottom1-symbol1',\n",
       "   [((9, 28), (9, 35)), ((9, 37), (9, 44))]),\n",
       "  (testdb/two_peaks/bottom2,\n",
       "   'bottom2-symbol1',\n",
       "   [((9, 28), (9, 35)), ((9, 37), (9, 44))])],\n",
       " '/home/marian/projects/trefier-backend/trefier/tests/testdb/two_peaks/source/bottom1.lang.tex': [(testdb/two_peaks/bottom3,\n",
       "   'bottom3-symbol1',\n",
       "   [((3, 19), (3, 26)), ((3, 28), (3, 35))]),\n",
       "  (testdb/two_peaks/bottom1,\n",
       "   'bottom1-symbol1',\n",
       "   [((3, 19), (3, 26)), ((3, 28), (3, 35))]),\n",
       "  (testdb/two_peaks/bottom2,\n",
       "   'bottom2-symbol1',\n",
       "   [((3, 19), (3, 26)), ((3, 28), (3, 35))])]}"
      ]
     },
     "execution_count": 4,
     "metadata": {},
     "output_type": "execute_result"
    }
   ],
   "source": [
    "l.possible_trefis"
   ]
  }
 ],
 "metadata": {
  "kernelspec": {
   "display_name": "Python 3",
   "language": "python",
   "name": "python3"
  },
  "language_info": {
   "codemirror_mode": {
    "name": "ipython",
    "version": 3
   },
   "file_extension": ".py",
   "mimetype": "text/x-python",
   "name": "python",
   "nbconvert_exporter": "python",
   "pygments_lexer": "ipython3",
   "version": "3.7.2"
  }
 },
 "nbformat": 4,
 "nbformat_minor": 2
}
