{
 "cells": [
  {
   "cell_type": "code",
   "execution_count": null,
   "metadata": {},
   "outputs": [],
   "source": [
    "import matplotlib.pyplot as plt\n",
    "from importlib import reload\n",
    "import numpy as np\n"
   ]
  },
  {
   "cell_type": "code",
   "execution_count": 3,
   "metadata": {},
   "outputs": [],
   "source": [
    "from trefier.datasets.smglom import load_documents, parse"
   ]
  },
  {
   "cell_type": "code",
   "execution_count": 8,
   "metadata": {},
   "outputs": [
    {
     "data": {
      "text/plain": [
       "[('creators', 16, 24, ['mhmodnl', 'OArg']),\n",
       " ('=', 24, 25, ['mhmodnl', 'OArg']),\n",
       " ('jusche', 25, 31, ['mhmodnl', 'OArg']),\n",
       " ('alpharenaming', 33, 46, ['mhmodnl', 'RArg']),\n",
       " ('en', 48, 50, ['mhmodnl', 'RArg']),\n",
       " ('We', 77, 79, ['mhmodnl', 'definition']),\n",
       " ('call', 80, 84, ['mhmodnl', 'definition']),\n",
       " ('a', 85, 86, ['mhmodnl', 'definition']),\n",
       " ('formula', 87, 94, ['mhmodnl', 'definition']),\n",
       " ('$\\\\bA$', 95, 100, ['mhmodnl', 'definition', '$']),\n",
       " ('an', 101, 103, ['mhmodnl', 'definition']),\n",
       " ('alphabetic', 111, 121, ['mhmodnl', 'definition', 'defii', 'RArg']),\n",
       " ('variant', 123, 130, ['mhmodnl', 'definition', 'defii', 'RArg']),\n",
       " ('of', 132, 134, ['mhmodnl', 'definition']),\n",
       " ('$\\\\bB$', 135, 140, ['mhmodnl', 'definition', '$']),\n",
       " ('(', 141, 142, ['mhmodnl', 'definition']),\n",
       " ('or', 142, 144, ['mhmodnl', 'definition']),\n",
       " ('name', 157, 161, ['mhmodnl', 'definition', 'adefii', 'OArg']),\n",
       " ('=', 161, 162, ['mhmodnl', 'definition', 'adefii', 'OArg']),\n",
       " ('alphabetic', 162, 172, ['mhmodnl', 'definition', 'adefii', 'OArg']),\n",
       " ('-', 172, 173, ['mhmodnl', 'definition', 'adefii', 'OArg']),\n",
       " ('variant', 173, 180, ['mhmodnl', 'definition', 'adefii', 'OArg']),\n",
       " ('$\\\\alphaeqFN$', 182, 194, ['mhmodnl', 'definition', 'adefii', 'RArg', '$']),\n",
       " ('-', 194, 195, ['mhmodnl', 'definition', 'adefii', 'RArg']),\n",
       " ('equal', 195, 200, ['mhmodnl', 'definition', 'adefii', 'RArg']),\n",
       " ('alpha', 202, 207, ['mhmodnl', 'definition', 'adefii', 'RArg']),\n",
       " ('equal', 209, 214, ['mhmodnl', 'definition', 'adefii', 'RArg']),\n",
       " (';', 215, 216, ['mhmodnl', 'definition']),\n",
       " ('write', 217, 222, ['mhmodnl', 'definition']),\n",
       " ('$\\\\alphaeq{\\\\bA,\\\\bB}$', 227, 246, ['mhmodnl', 'definition', '$']),\n",
       " (')', 246, 247, ['mhmodnl', 'definition']),\n",
       " (',', 247, 248, ['mhmodnl', 'definition']),\n",
       " ('iff', 249, 252, ['mhmodnl', 'definition']),\n",
       " ('$\\\\bB$', 253, 258, ['mhmodnl', 'definition', '$']),\n",
       " ('can', 259, 262, ['mhmodnl', 'definition']),\n",
       " ('be', 263, 265, ['mhmodnl', 'definition']),\n",
       " ('obtained', 266, 274, ['mhmodnl', 'definition']),\n",
       " ('from', 275, 279, ['mhmodnl', 'definition']),\n",
       " ('$\\\\bA$', 280, 285, ['mhmodnl', 'definition', '$']),\n",
       " ('by', 286, 288, ['mhmodnl', 'definition']),\n",
       " ('systematically', 289, 303, ['mhmodnl', 'definition']),\n",
       " ('renaming', 304, 312, ['mhmodnl', 'definition']),\n",
       " ('bound', 317, 322, ['mhmodnl', 'definition']),\n",
       " ('variables', 323, 332, ['mhmodnl', 'definition']),\n",
       " ('.', 332, 333, ['mhmodnl', 'definition'])]"
      ]
     },
     "execution_count": 8,
     "metadata": {},
     "output_type": "execute_result"
    }
   ],
   "source": [
    "docs[0].tokens\n",
    "    "
   ]
  },
  {
   "cell_type": "code",
   "execution_count": 4,
   "metadata": {
    "scrolled": true
   },
   "outputs": [
    {
     "name": "stdout",
     "output_type": "stream",
     "text": [
      "Cloning https://gl.mathhub.info/smglom/SMGloM into data/smglom/SMGloM...OK\n",
      "Cloning https://gl.mathhub.info/smglom/chevahir into data/smglom/chevahir...OK\n",
      "Cloning https://gl.mathhub.info/smglom/mv into data/smglom/mv...OK\n",
      "Cloning https://gl.mathhub.info/smglom/sets into data/smglom/sets...OK\n",
      "Cloning https://gl.mathhub.info/smglom/graphs into data/smglom/graphs...OK\n",
      "Cloning https://gl.mathhub.info/smglom/algebra into data/smglom/algebra...OK\n",
      "Cloning https://gl.mathhub.info/smglom/calculus into data/smglom/calculus...OK\n",
      "Cloning https://gl.mathhub.info/smglom/topology into data/smglom/topology...OK\n",
      "Cloning https://gl.mathhub.info/smglom/geometry into data/smglom/geometry...OK\n",
      "Cloning https://gl.mathhub.info/smglom/functional-analysis into data/smglom/functional-analysis...OK\n",
      "Cloning https://gl.mathhub.info/smglom/magic into data/smglom/magic...OK\n",
      "Cloning https://gl.mathhub.info/smglom/linear-algebra into data/smglom/linear-algebra...OK\n",
      "Cloning https://gl.mathhub.info/smglom/primes into data/smglom/primes...OK\n",
      "Cloning https://gl.mathhub.info/smglom/numbers into data/smglom/numbers...OK\n",
      "Cloning https://gl.mathhub.info/smglom/trigonometry into data/smglom/trigonometry...OK\n",
      "Cloning https://gl.mathhub.info/smglom/analysis into data/smglom/analysis...OK\n",
      "Cloning https://gl.mathhub.info/smglom/constants into data/smglom/constants...OK\n",
      "Cloning https://gl.mathhub.info/smglom/numthyfun into data/smglom/numthyfun...OK\n",
      "Cloning https://gl.mathhub.info/smglom/identities into data/smglom/identities...OK\n",
      "Cloning https://gl.mathhub.info/smglom/numthy into data/smglom/numthy...OK\n",
      "Cloning https://gl.mathhub.info/smglom/manifolds into data/smglom/manifolds...OK\n",
      "Cloning https://gl.mathhub.info/smglom/elliptic-curves into data/smglom/elliptic-curves...OK\n",
      "Cloning https://gl.mathhub.info/smglom/arithmetics into data/smglom/arithmetics...OK\n",
      "Cloning https://gl.mathhub.info/smglom/complexity into data/smglom/complexity...OK\n",
      "Cloning https://gl.mathhub.info/smglom/theresas-playground into data/smglom/theresas-playground...OK\n",
      "Cloning https://gl.mathhub.info/smglom/categories into data/smglom/categories...OK\n",
      "Cloning https://gl.mathhub.info/smglom/tannakian into data/smglom/tannakian...OK\n",
      "Cloning https://gl.mathhub.info/smglom/measure-theory into data/smglom/measure-theory...OK\n",
      "Cloning https://gl.mathhub.info/smglom/stats into data/smglom/stats...OK\n"
     ]
    },
    {
     "name": "stderr",
     "output_type": "stream",
     "text": [
      "874it [00:07, 113.55it/s]\n"
     ]
    }
   ],
   "source": [
    "docs = load_documents(n_jobs=6)"
   ]
  }
 ],
 "metadata": {
  "kernelspec": {
   "display_name": "Python 3",
   "language": "python",
   "name": "python3"
  },
  "language_info": {
   "codemirror_mode": {
    "name": "ipython",
    "version": 3
   },
   "file_extension": ".py",
   "mimetype": "text/x-python",
   "name": "python",
   "nbconvert_exporter": "python",
   "pygments_lexer": "ipython3",
   "version": "3.7.2"
  }
 },
 "nbformat": 4,
 "nbformat_minor": 2
}
