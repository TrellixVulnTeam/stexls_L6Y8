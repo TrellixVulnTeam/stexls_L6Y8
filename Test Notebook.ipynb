{
 "cells": [
  {
   "cell_type": "code",
   "execution_count": 1,
   "metadata": {},
   "outputs": [],
   "source": [
    "from pathlib import Path\n",
    "from tqdm.notebook import tqdm\n",
    "from stexls.vscode import *\n",
    "from stexls.util.workspace import Workspace\n",
    "from stexls.stex.compiler import Compiler\n",
    "from stexls.stex.linker import Linker\n",
    "from stexls.linter.linter import Linter\n",
    "from stexls.stex.references import *\n",
    "import os, sys"
   ]
  },
  {
   "cell_type": "code",
   "execution_count": 2,
   "metadata": {
    "scrolled": true
   },
   "outputs": [
    {
     "name": "stdout",
     "output_type": "stream",
     "text": [
      "2951\n"
     ]
    }
   ],
   "source": [
    "outdir = Path('/tmp/out')\n",
    "mathhub = Path('~/MathHub').expanduser()\n",
    "agenttypes = Path('/home/marian/MathHub/MiKoMH/AI/source/rational-agents/en/agent-types.tex')\n",
    "balancedprime = Path('/home/marian/MathHub/smglom/primes/source/balancedprime.en.tex')\n",
    "assert mathhub.is_dir()\n",
    "ws = Workspace(mathhub)\n",
    "ws.include = '.*/smglom/.*'\n",
    "print(len(ws.files))\n",
    "c = Compiler(ws.root, outdir)\n",
    "ln = Linker(outdir)\n",
    "global_step = False\n",
    "def on_progress(it, title, files):\n",
    "    try:\n",
    "        total = len(it)\n",
    "    except:\n",
    "        total = len(files)\n",
    "    it = tqdm(it, total=total)\n",
    "    it.set_description(title)\n",
    "    return it\n",
    "linter = Linter(ws, outdir, enable_global_validation=global_step, on_progress_fun=on_progress, num_jobs=1)"
   ]
  },
  {
   "cell_type": "code",
   "execution_count": 3,
   "metadata": {
    "scrolled": true
   },
   "outputs": [],
   "source": [
    "ln = linter.lint(agenttypes)"
   ]
  },
  {
   "cell_type": "code",
   "execution_count": 4,
   "metadata": {},
   "outputs": [
    {
     "name": "stdout",
     "output_type": "stream",
     "text": [
      "/home/marian/MathHub/MiKoMH/AI/source/rational-agents/en/agent-types.tex:2:4 Warning - Already located inside directory \"rational-agents/en\" (is-current-dir-check)\n",
      "/home/marian/MathHub/MiKoMH/AI/source/rational-agents/en/agent-types.tex:25:8 Warning - Already located inside directory \"rational-agents/en\" (is-current-dir-check)\n",
      "/home/marian/MathHub/MiKoMH/AI/source/rational-agents/en/agent-types.tex:26:8 Warning - Already located inside directory \"rational-agents/en\" (is-current-dir-check)\n",
      "/home/marian/MathHub/MiKoMH/AI/source/rational-agents/en/agent-types.tex:28:8 Warning - Already located inside directory \"rational-agents/en\" (is-current-dir-check)\n",
      "/home/marian/MathHub/MiKoMH/AI/source/rational-agents/en/agent-types.tex:29:8 Warning - Already located inside directory \"rational-agents/en\" (is-current-dir-check)\n",
      "/home/marian/MathHub/MiKoMH/AI/source/rational-agents/en/agent-types.tex:10:49 Error - Undefined symbol \"agentenv?agent\" of type \"def\", \"dref\", \"symdef\" or \"sym\": Did you mean \"agent-types?agent-math\", \"agent-types?argseq\" or \"agent-types?agent-program\"? (undefined-symbol)\n",
      "/home/marian/MathHub/MiKoMH/AI/source/rational-agents/en/agent-types.tex:11:22 Error - Undefined symbol \"agentenv?agent-function\" of type \"def\", \"dref\", \"symdef\" or \"sym\": Did you mean \"agent-types?agent-math?agentfunction\", \"agent-types?agent-math?agentactions\" or \"agent-types?functions\"? (undefined-symbol)\n",
      "/home/marian/MathHub/MiKoMH/AI/source/rational-agents/en/agent-types.tex:33:14 Error - Undefined symbol \"simple-reflex-agent?simple-reflex-agent\" of type \"def\", \"dref\", \"symdef\" or \"sym\" (undefined-symbol)\n",
      "/home/marian/MathHub/MiKoMH/AI/source/rational-agents/en/agent-types.tex:34:14 Error - Undefined symbol \"stateful-reflex-agent?reflex-agents-with state\" of type \"def\", \"dref\", \"symdef\" or \"sym\" (undefined-symbol)\n",
      "/home/marian/MathHub/MiKoMH/AI/source/rational-agents/en/agent-types.tex:35:14 Error - Undefined symbol \"goal-based-agent?goal-based-agent\" of type \"def\", \"dref\", \"symdef\" or \"sym\" (undefined-symbol)\n",
      "/home/marian/MathHub/MiKoMH/AI/source/rational-agents/en/agent-types.tex:36:14 Error - Undefined symbol \"utility-based-agent?utility-based-agent\" of type \"def\", \"dref\", \"symdef\" or \"sym\" (undefined-symbol)\n",
      "/home/marian/MathHub/MiKoMH/AI/source/rational-agents/en/agent-types.tex:39:47 Error - Undefined symbol \"learning-agent\" of type \"module\" or \"modsig\" (undefined-symbol)\n",
      "/home/marian/MathHub/MiKoMH/AI/source/rational-agents/en/agent-types.tex:39:39 Error - Undefined symbol \"learning-agent?learning-agent\" of type \"def\", \"dref\", \"symdef\" or \"sym\" (undefined-symbol)\n"
     ]
    }
   ],
   "source": [
    "ln.format_messages()"
   ]
  },
  {
   "cell_type": "code",
   "execution_count": null,
   "metadata": {},
   "outputs": [],
   "source": []
  }
 ],
 "metadata": {
  "kernelspec": {
   "display_name": "Python 3",
   "language": "python",
   "name": "python3"
  },
  "language_info": {
   "codemirror_mode": {
    "name": "ipython",
    "version": 3
   },
   "file_extension": ".py",
   "mimetype": "text/x-python",
   "name": "python",
   "nbconvert_exporter": "python",
   "pygments_lexer": "ipython3",
   "version": "3.7.5"
  }
 },
 "nbformat": 4,
 "nbformat_minor": 4
}
