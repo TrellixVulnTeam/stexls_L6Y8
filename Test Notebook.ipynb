{
 "cells": [
  {
   "cell_type": "code",
   "execution_count": 1,
   "metadata": {},
   "outputs": [],
   "source": [
    "import json\n",
    "from glob import glob\n",
    "from multiprocessing import Pool\n",
    "from pathlib import Path\n",
    "import os\n",
    "from typing import *\n",
    "from tqdm.notebook import tqdm\n",
    "from importlib import reload\n",
    "from stexls.util import file_watcher\n",
    "from pickle import dumps, loads, dump, load\n",
    "\n",
    "from stexls.util.latex import parser\n",
    "\n",
    "from stexls import *"
   ]
  },
  {
   "cell_type": "code",
   "execution_count": 2,
   "metadata": {
    "scrolled": true
   },
   "outputs": [
    {
     "name": "stdout",
     "output_type": "stream",
     "text": [
      "/home/marian/Downloads\n"
     ]
    }
   ],
   "source": [
    "%cd ~/Downloads"
   ]
  },
  {
   "cell_type": "code",
   "execution_count": 3,
   "metadata": {},
   "outputs": [],
   "source": [
    "def parse_files(root=Path.home()/'Downloads/smglom', limit: int = -1):\n",
    "    ww = file_watcher.WorkspaceWatcher(root, filter='*.tex')\n",
    "    changes = ww.update()\n",
    "    with Pool() as pool:\n",
    "        parsed_files = list(tqdm(pool.imap_unordered(parse, list(changes.created | changes.modified)[:limit])))\n",
    "    return parsed_files"
   ]
  },
  {
   "cell_type": "code",
   "execution_count": null,
   "metadata": {
    "scrolled": true
   },
   "outputs": [
    {
     "data": {
      "application/vnd.jupyter.widget-view+json": {
       "model_id": "14202ca5424a4a8ca9da003e8a8c0d32",
       "version_major": 2,
       "version_minor": 0
      },
      "text/plain": [
       "HBox(children=(FloatProgress(value=1.0, bar_style='info', max=1.0), HTML(value='')))"
      ]
     },
     "metadata": {},
     "output_type": "display_data"
    },
    {
     "name": "stderr",
     "output_type": "stream",
     "text": [
      "line 5:0 mismatched input '<EOF>' expecting {'{', '[', ']', '=', ',', MATH_ENV, TEXT, 'begin', 'end', INLINE_ENV_NAME}\n",
      "line 7:0 mismatched input '<EOF>' expecting {'{', '[', ']', '=', ',', MATH_ENV, TEXT, 'begin', 'end', INLINE_ENV_NAME}\n"
     ]
    }
   ],
   "source": [
    "use_cache = False\n",
    "cachefile = Path('/tmp/cache.bin')\n",
    "if cachefile.is_file() and use_cache:\n",
    "    with open(cachefile, 'rb') as fd:\n",
    "        parsed_files = load(fd)\n",
    "else:\n",
    "    parsed_files = parse_files()\n",
    "    with open(cachefile, 'w+b') as fd:\n",
    "        dump(parsed_files, fd)"
   ]
  },
  {
   "cell_type": "code",
   "execution_count": null,
   "metadata": {},
   "outputs": [],
   "source": [
    "for pf in parsed_files:\n",
    "    if pf.errors:\n",
    "        print(pf.errors)\n",
    "        print()\n",
    "        print('-'*80)\n",
    "        print()"
   ]
  },
  {
   "cell_type": "code",
   "execution_count": null,
   "metadata": {},
   "outputs": [],
   "source": [
    "with Pool() as pool:\n",
    "    compiled_files = pool.map(StexObject.compile, tqdm(parsed_files))"
   ]
  },
  {
   "cell_type": "code",
   "execution_count": null,
   "metadata": {},
   "outputs": [],
   "source": [
    "ok = list(filter(None, compiled_files))"
   ]
  },
  {
   "cell_type": "code",
   "execution_count": null,
   "metadata": {},
   "outputs": [],
   "source": [
    "links, resolved_references = index_and_link(ok)"
   ]
  },
  {
   "cell_type": "code",
   "execution_count": null,
   "metadata": {},
   "outputs": [],
   "source": [
    "for id, refs in resolved_references.items():\n",
    "    for ref in refs:\n",
    "        if isinstance(ref, DefSymbol):\n",
    "            if ref.noverb or ref.noverbs:\n",
    "                print(ref, ref.noverbs)"
   ]
  },
  {
   "cell_type": "code",
   "execution_count": null,
   "metadata": {},
   "outputs": [],
   "source": [
    "resolved_references"
   ]
  }
 ],
 "metadata": {
  "kernelspec": {
   "display_name": "Python 3",
   "language": "python",
   "name": "python3"
  },
  "language_info": {
   "codemirror_mode": {
    "name": "ipython",
    "version": 3
   },
   "file_extension": ".py",
   "mimetype": "text/x-python",
   "name": "python",
   "nbconvert_exporter": "python",
   "pygments_lexer": "ipython3",
   "version": "3.7.5"
  }
 },
 "nbformat": 4,
 "nbformat_minor": 2
}
