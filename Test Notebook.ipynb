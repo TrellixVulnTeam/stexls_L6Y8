{
 "cells": [
  {
   "cell_type": "code",
   "execution_count": 1,
   "metadata": {},
   "outputs": [],
   "source": [
    "from pathlib import Path\n",
    "from multiprocessing import Pool\n",
    "import time\n",
    "from tqdm.notebook import tqdm\n",
    "from stexls.vscode import *\n",
    "from stexls.util.workspace import Workspace\n",
    "from stexls.stex.compiler import Compiler\n",
    "from stexls.stex.linker import Linker\n",
    "from stexls.linter.linter import Linter\n",
    "from stexls.stex.references import *\n",
    "import os, sys"
   ]
  },
  {
   "cell_type": "code",
   "execution_count": 2,
   "metadata": {
    "scrolled": true
   },
   "outputs": [
    {
     "name": "stdout",
     "output_type": "stream",
     "text": [
      "2951\n"
     ]
    }
   ],
   "source": [
    "outdir = Path('/tmp/out')\n",
    "mathhub = Path('~/MathHub').expanduser()\n",
    "agenttypes = Path('/home/marian/MathHub/MiKoMH/AI/source/rational-agents/en/agent-types.tex')\n",
    "balancedprime = Path('/home/marian/MathHub/smglom/primes/source/balancedprime.en.tex')\n",
    "assert mathhub.is_dir()\n",
    "ws = Workspace(mathhub)\n",
    "ws.include = '.*/smglom/.*'\n",
    "print(len(ws.files))\n",
    "c = Compiler(ws.root, outdir)\n",
    "ln = Linker(outdir)\n",
    "global_step = False\n",
    "linter = Linter(ws, outdir, enable_global_validation=global_step, num_jobs=8)\n",
    "if global_step:\n",
    "    it = list(tqdm(linter.compile_workspace()))"
   ]
  },
  {
   "cell_type": "code",
   "execution_count": 3,
   "metadata": {},
   "outputs": [
    {
     "name": "stdout",
     "output_type": "stream",
     "text": [
      "\n",
      "File: \"/home/marian/MathHub/smglom/primes/source/balancedprime.en.tex\"\n",
      "Creation time: 2020-10-11 15:59:07.775137\n",
      "Dependencies:\n",
      "\t/home/marian/MathHub/smglom/primes/source/balancedprime.en.tex:1:33: balancedprime from \"/home/marian/MathHub/smglom/primes/source/balancedprime.tex\"\n",
      "References:\n",
      "\t/home/marian/MathHub/smglom/primes/source/balancedprime.en.tex:1:33: balancedprime of type ReferenceType.MODSIG\n",
      "\t/home/marian/MathHub/smglom/primes/source/balancedprime.en.tex:4:6: balancedprime?balanced-prime of type ReferenceType.ANY_DEFINITION\n",
      "\t/home/marian/MathHub/smglom/primes/source/balancedprime.en.tex:4:42: primenumber of type ReferenceType.MODSIG|MODULE\n",
      "\t/home/marian/MathHub/smglom/primes/source/balancedprime.en.tex:4:35: primenumber?prime-number of type ReferenceType.ANY_DEFINITION\n",
      "Diagnostics:\n",
      "\t/home/marian/MathHub/smglom/primes/source/balancedprime.en.tex:3:4 Error - Defi argument count mismatch: Expected 1 vs actual 2. (parser-exception)\n",
      "Symbol Table:\n",
      "├ [PUBLIC Symbol __root__]\n",
      "  ├ [PUBLIC BindingSymbol balancedprime.en at line 1, column 2]\n"
     ]
    }
   ],
   "source": [
    "print(linter.compiler.compile(balancedprime).format())"
   ]
  },
  {
   "cell_type": "code",
   "execution_count": null,
   "metadata": {},
   "outputs": [],
   "source": []
  }
 ],
 "metadata": {
  "kernelspec": {
   "display_name": "Python 3",
   "language": "python",
   "name": "python3"
  },
  "language_info": {
   "codemirror_mode": {
    "name": "ipython",
    "version": 3
   },
   "file_extension": ".py",
   "mimetype": "text/x-python",
   "name": "python",
   "nbconvert_exporter": "python",
   "pygments_lexer": "ipython3",
   "version": "3.7.5"
  }
 },
 "nbformat": 4,
 "nbformat_minor": 4
}
