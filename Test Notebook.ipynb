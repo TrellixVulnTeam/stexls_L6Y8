{
 "cells": [
  {
   "cell_type": "code",
   "execution_count": 1,
   "metadata": {},
   "outputs": [
    {
     "name": "stdout",
     "output_type": "stream",
     "text": [
      "/home/marian/MathHub\n"
     ]
    }
   ],
   "source": [
    "import json\n",
    "from glob import glob\n",
    "import fnmatch\n",
    "from multiprocessing import Pool\n",
    "from pathlib import Path\n",
    "import os, itertools\n",
    "from typing import *\n",
    "from tqdm.notebook import tqdm\n",
    "from importlib import reload\n",
    "from pickle import dumps, loads, dump, load\n",
    "\n",
    "from stexls import *\n",
    "\n",
    "%cd ~/MathHub"
   ]
  },
  {
   "cell_type": "code",
   "execution_count": 2,
   "metadata": {},
   "outputs": [],
   "source": [
    "try:\n",
    "    with open('/tmp/linker.bin', 'rb') as fd:\n",
    "        linker = load(fd)\n",
    "except Exception as e:\n",
    "    print(e)\n",
    "    linker = Linker('smglom', limit=None)\n",
    "    linker.update(progress=tqdm)\n",
    "    with open('/tmp/linker.bin', 'w+b') as fd:\n",
    "        dump(linker, fd)"
   ]
  },
  {
   "cell_type": "code",
   "execution_count": 3,
   "metadata": {},
   "outputs": [
    {
     "name": "stdout",
     "output_type": "stream",
     "text": [
      "-rw-rw-r-- 1 marian marian 32M Apr  5 13:48 /tmp/linker.bin\r\n"
     ]
    }
   ],
   "source": [
    "%ls -ahl /tmp/linker.bin"
   ]
  },
  {
   "cell_type": "code",
   "execution_count": 4,
   "metadata": {},
   "outputs": [
    {
     "data": {
      "application/vnd.jupyter.widget-view+json": {
       "model_id": "2cafe8ad9a11480f8dabb06120eac7ef",
       "version_major": 2,
       "version_minor": 0
      },
      "text/plain": [
       "HBox(children=(FloatProgress(value=1.0, bar_style='info', max=1.0), HTML(value='')))"
      ]
     },
     "metadata": {},
     "output_type": "display_data"
    },
    {
     "data": {
      "application/vnd.jupyter.widget-view+json": {
       "model_id": "9c5bbb400fa14319bfb119e2eb6be1ac",
       "version_major": 2,
       "version_minor": 0
      },
      "text/plain": [
       "HBox(children=(FloatProgress(value=1.0, bar_style='info', max=1.0), HTML(value='')))"
      ]
     },
     "metadata": {},
     "output_type": "display_data"
    },
    {
     "data": {
      "application/vnd.jupyter.widget-view+json": {
       "model_id": "d7d2c274007d4448be917424c72bc173",
       "version_major": 2,
       "version_minor": 0
      },
      "text/plain": [
       "HBox(children=(FloatProgress(value=1.0, bar_style='info', max=1.0), HTML(value='')))"
      ]
     },
     "metadata": {},
     "output_type": "display_data"
    },
    {
     "name": "stdout",
     "output_type": "stream",
     "text": [
      "\n"
     ]
    },
    {
     "data": {
      "text/plain": [
       "{}"
      ]
     },
     "execution_count": 4,
     "metadata": {},
     "output_type": "execute_result"
    }
   ],
   "source": [
    "linker.update(progress=tqdm)"
   ]
  },
  {
   "cell_type": "code",
   "execution_count": 5,
   "metadata": {
    "scrolled": true
   },
   "outputs": [
    {
     "name": "stdout",
     "output_type": "stream",
     "text": [
      "Contains files:\n",
      "\tsmglom/primes/source/balancedprime.tex\n",
      "\n",
      "Depends on:\n",
      "\tsmglom/primes/source/balancedprime.tex:2:1:public primenumber from \"smglom/primes/source/primenumber.tex\"\n",
      "\tsmglom/primes/source/balancedprime.tex:3:1:public ratarith from \"smglom/arithmetics/source/ratarith.tex\"\n",
      "\n",
      "Symbols:\n",
      "\tsmglom/primes/source/balancedprime.tex:1:1:public balancedprime/MODULE\n",
      "\tsmglom/primes/source/balancedprime.tex:4:1:public balancedprime.balanced-prime/SYMBOL\n",
      "\n",
      "References:\n",
      "\tsmglom/primes/source/balancedprime.tex:2:1:primenumber\n",
      "\tsmglom/primes/source/balancedprime.tex:3:1:ratarith\n",
      "\n",
      "Errors: <no errors> [Location uri=\"smglom/primes/source/balancedprime.tex\" range=[Range (0 0) (4 12)]]\n"
     ]
    }
   ],
   "source": [
    "for obj in linker.objects[Path('smglom/primes/source/balancedprime.tex')]:\n",
    "    print(obj.format(), obj.symbol_table[obj.module][0].location)"
   ]
  },
  {
   "cell_type": "code",
   "execution_count": 6,
   "metadata": {},
   "outputs": [],
   "source": [
    "linker.view_import_graph('smglom/primes/source/balancedprime.en.tex')"
   ]
  }
 ],
 "metadata": {
  "kernelspec": {
   "display_name": "Python 3",
   "language": "python",
   "name": "python3"
  },
  "language_info": {
   "codemirror_mode": {
    "name": "ipython",
    "version": 3
   },
   "file_extension": ".py",
   "mimetype": "text/x-python",
   "name": "python",
   "nbconvert_exporter": "python",
   "pygments_lexer": "ipython3",
   "version": "3.7.5"
  }
 },
 "nbformat": 4,
 "nbformat_minor": 2
}
