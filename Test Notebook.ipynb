{
 "cells": [
  {
   "cell_type": "code",
   "execution_count": 1,
   "metadata": {},
   "outputs": [],
   "source": [
    "from pathlib import Path\n",
    "from multiprocessing import Pool\n",
    "import time\n",
    "from tqdm.notebook import tqdm\n",
    "from stexls.vscode import *\n",
    "from stexls.util.workspace import Workspace\n",
    "from stexls.stex.compiler import Compiler\n",
    "from stexls.stex.linker import Linker\n",
    "from stexls.linter.linter import Linter\n",
    "from stexls.stex.references import *\n",
    "import os, sys"
   ]
  },
  {
   "cell_type": "code",
   "execution_count": 2,
   "metadata": {
    "scrolled": true
   },
   "outputs": [
    {
     "name": "stdout",
     "output_type": "stream",
     "text": [
      "2951\n"
     ]
    }
   ],
   "source": [
    "outdir = Path('/tmp/out')\n",
    "mathhub = Path('~/MathHub').expanduser()\n",
    "agenttypes = Path('/home/marian/MathHub/MiKoMH/AI/source/rational-agents/en/agent-types.tex')\n",
    "balancedprime = Path('/home/marian/MathHub/smglom/primes/source/balancedprime.en.tex')\n",
    "assert mathhub.is_dir()\n",
    "ws = Workspace(mathhub)\n",
    "ws.include = '.*/smglom/.*'\n",
    "print(len(ws.files))\n",
    "c = Compiler(ws.root, outdir)\n",
    "ln = Linker(outdir)\n",
    "global_step = False\n",
    "linter = Linter(ws, outdir, enable_global_validation=global_step, num_jobs=8)\n",
    "if global_step:\n",
    "    it = list(tqdm(linter.compile_workspace()))"
   ]
  },
  {
   "cell_type": "code",
   "execution_count": 3,
   "metadata": {},
   "outputs": [],
   "source": [
    "res = linter.lint(balancedprime)"
   ]
  },
  {
   "cell_type": "code",
   "execution_count": 5,
   "metadata": {},
   "outputs": [
    {
     "data": {
      "text/plain": [
       "[[Location uri=\"file:///home/marian/MathHub/smglom/primes/source/primenumber.tex\" range=[Range (0 31) (0 44)]],\n",
       " [Location uri=\"file:///home/marian/MathHub/smglom/primes/source/primenumber.tex\" range=[Range (2 1) (2 42)]],\n",
       " [Location uri=\"file:///home/marian/MathHub/smglom/primes/source/primenumber.tex\" range=[Range (3 1) (3 51)]]]"
      ]
     },
     "execution_count": 5,
     "metadata": {},
     "output_type": "execute_result"
    }
   ],
   "source": [
    "res.object.get_definitions_at(Position(2, 47))"
   ]
  }
 ],
 "metadata": {
  "kernelspec": {
   "display_name": "Python 3",
   "language": "python",
   "name": "python3"
  },
  "language_info": {
   "codemirror_mode": {
    "name": "ipython",
    "version": 3
   },
   "file_extension": ".py",
   "mimetype": "text/x-python",
   "name": "python",
   "nbconvert_exporter": "python",
   "pygments_lexer": "ipython3",
   "version": "3.7.5"
  }
 },
 "nbformat": 4,
 "nbformat_minor": 4
}
