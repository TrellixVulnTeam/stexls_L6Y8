{
 "cells": [
  {
   "cell_type": "code",
   "execution_count": 1,
   "metadata": {},
   "outputs": [],
   "source": [
    "from stexls.stex.compiler import StexObject, Compiler\n",
    "from stexls.util.workspace import Workspace\n",
    "from stexls.vscode import *"
   ]
  },
  {
   "cell_type": "code",
   "execution_count": 2,
   "metadata": {},
   "outputs": [],
   "source": [
    "from pathlib import Path\n",
    "from multiprocessing import Pool\n",
    "from tqdm import tqdm"
   ]
  },
  {
   "cell_type": "code",
   "execution_count": 3,
   "metadata": {},
   "outputs": [
    {
     "output_type": "stream",
     "name": "stdout",
     "text": "/home/marian/MathHub\n"
    }
   ],
   "source": [
    "%cd ~/MathHub/"
   ]
  },
  {
   "cell_type": "code",
   "execution_count": 4,
   "metadata": {},
   "outputs": [],
   "source": [
    "root = Path('/home/marian/MathHub')\n",
    "outdir = Path('/tmp/out')\n",
    "\n",
    "ws = Workspace(root)\n",
    "ws.include = '.*/TDM/source/.*'"
   ]
  },
  {
   "cell_type": "code",
   "execution_count": 5,
   "metadata": {},
   "outputs": [],
   "source": [
    "c = Compiler(root, outdir)"
   ]
  },
  {
   "cell_type": "code",
   "execution_count": 6,
   "metadata": {},
   "outputs": [],
   "source": [
    "args = list(zip(ws.files, map(lambda f: ws.read_file(f) if ws.is_open(f) else None, ws.files)))"
   ]
  },
  {
   "cell_type": "code",
   "execution_count": 9,
   "metadata": {},
   "outputs": [
    {
     "output_type": "stream",
     "name": "stderr",
     "text": "100%|██████████| 146/146 [00:05<00:00, 29.02it/s]\n"
    }
   ],
   "source": [
    "objects = [c.compile(path, content=content) for path, content in tqdm(args)]"
   ]
  },
  {
   "cell_type": "code",
   "execution_count": 8,
   "metadata": {},
   "outputs": [
    {
     "output_type": "stream",
     "name": "stdout",
     "text": "Root: \"/home/marian/MathHub\"\nFile: \"/home/marian/MathHub/MiKoMH/TDM/source/course/notes/toolsconcepts.tex\"\nDependencies:n\tNo dependencies.\nReferences:\n\tNo references.\nErrors:\n\tNo errors.\nSymbol Table:\n> [public Symbol __root__]\n-> [public Symbol __ANONYMOUS_SCOPE0__]\n--> [public Symbol __ANONYMOUS_SCOPE1__]\nRoot: \"/home/marian/MathHub\"\nFile: \"/home/marian/MathHub/MiKoMH/TDM/source/doccomp/fragments/genict.tex\"\nDependencies:n\tNo dependencies.\nReferences:\n\tNo references.\nErrors:\n\tNo errors.\nSymbol Table:\n> [public Symbol __root__]\n-> [public Symbol __ANONYMOUS_SCOPE35__]\nRoot: \"/home/marian/MathHub\"\nFile: \"/home/marian/MathHub/MiKoMH/TDM/source/doccomp/en/regexpal.tex\"\nDependencies:\n\t[Dependency at=[Range (1 3) (1 44)] module=regexp-ex type=ModuleType.MODULE file=\"/home/marian/MathHub/MiKoMH/TDM/source/doccomp/en/regexp-ex.tex\" export=True]\nReferences:\n\t[SymbolReference \"['regexp-ex']\" at [Range (1 3) (1 44)]]\n\t[SymbolReference \"['regexp-practical']\" at [Range (4 26) (4 42)]]\n\t[SymbolReference \"['regexp-practical', 'regexp']\" at [Range (4 19) (4 71)]]\n\t[SymbolReference \"['regexp-practical']\" at [Range (13 41) (13 57)]]\n\t[SymbolReference \"['regexp-practical', 'regexp']\" at [Range (13 34) (13 66)]]\nErrors:\n\t[Range (1 3) (1 44)]: Targeted dir \"doccomp/en\" is the current dir.\n\t[Range (4 19) (4 71)]: mtref environments are deprecated.\nSymbol Table:\n> [public Symbol __root__]\n-> [ModuleSymbol \"regexpal\"/MODULE]\n--> [public Symbol __ANONYMOUS_SCOPE83__]\n--> [public Symbol __ANONYMOUS_SCOPE84__]\nRoot: \"/home/marian/MathHub\"\nFile: \"/home/marian/MathHub/MiKoMH/TDM/source/digdocs/fragments/docbook.tex\"\nDependencies:n\tNo dependencies.\nReferences:\n\tNo references.\nErrors:\n\tNo errors.\nSymbol Table:\n> [public Symbol __root__]\n-> [public Symbol __ANONYMOUS_SCOPE134__]\nRoot: \"/home/marian/MathHub\"\nFile: \"/home/marian/MathHub/MiKoMH/TDM/source/vc/en/git-branchfork.tex\"\nDependencies:\n\t[Dependency at=[Range (1 3) (1 41)] module=git-working type=ModuleType.MODULE file=\"/home/marian/MathHub/MiKoMH/TDM/source/vc/en/git-working.tex\" export=True]\n\t[Dependency at=[Range (2 3) (2 39)] module=branching type=ModuleType.MODULE file=\"/home/marian/MathHub/MiKoMH/TDM/source/vc/en/branching.tex\" export=True]\n\t[Dependency at=[Range (35 7) (35 72)] module=GitLabHub type=ModuleType.MODULE file=\"/home/marian/MathHub/MiKoMH/IWGS/source/vci/en/gitlabhub.tex\" export=True]\nReferences:\n\t[SymbolReference \"['git-working']\" at [Range (1 3) (1 41)]]\n\t[SymbolReference \"['branching']\" at [Range (2 3) (2 39)]]\n\t[SymbolReference \"['branching']\" at [Range (5 10) (5 19)]]\n\t[SymbolReference \"['branching', 'branch']\" at [Range (5 3) (5 38)]]\n\t[SymbolReference \"['revision-control']\" at [Range (6 10) (6 26)]]\n\t[SymbolReference \"['revision-control', 'merge']\" at [Range (6 3) (6 42)]]\n\t[SymbolReference \"['GitLabHub']\" at [Range (35 7) (35 72)]]\n\t[SymbolReference \"['branching']\" at [Range (39 45) (39 54)]]\n\t[SymbolReference \"['branching', 'fork']\" at [Range (39 39) (39 61)]]\n\t[SymbolReference \"['git-branchfork', 'fork']\" at [Range (39 11) (39 21)]]\n\t[SymbolReference \"['git']\" at [Range (38 30) (38 33)]]\n\t[SymbolReference \"['git', 'clone']\" at [Range (38 24) (38 41)]]\n\t[SymbolReference \"['git-branchfork', 'pull-request']\" at [Range (41 63) (41 83)]]\nErrors:\n\t[Range (1 3) (1 41)]: Targeted dir \"vc/en\" is the current dir.\n\t[Range (2 3) (2 39)]: Targeted dir \"vc/en\" is the current dir.\n\t[Range (5 3) (5 38)]: mtref environments are deprecated.\n\t[Range (6 3) (6 42)]: mtref environments are deprecated.\nSymbol Table:\n> [public Symbol __root__]\n-> [ModuleSymbol \"git-branchfork\"/MODULE]\n--> [public Symbol __ANONYMOUS_SCOPE191__]\n--> [public Symbol __ANONYMOUS_SCOPE192__]\n---> [public Symbol __ANONYMOUS_SCOPE193__]\n---> [public Symbol __ANONYMOUS_SCOPE194__]\nRoot: \"/home/marian/MathHub\"\nFile: \"/home/marian/MathHub/MiKoMH/TDM/source/digdocs/fragments/epub.tex\"\nDependencies:n\tNo dependencies.\nReferences:\n\tNo references.\nErrors:\n\tNo errors.\nSymbol Table:\n> [public Symbol __root__]\n-> [public Symbol __ANONYMOUS_SCOPE234__]\nRoot: \"/home/marian/MathHub\"\nFile: \"/home/marian/MathHub/MiKoMH/TDM/source/vc/fragments/dvc.tex\"\nDependencies:n\tNo dependencies.\nReferences:\n\tNo references.\nErrors:\n\tNo errors.\nSymbol Table:\n> [public Symbol __root__]\n-> [public Symbol __ANONYMOUS_SCOPE275__]\nRoot: \"/home/marian/MathHub\"\nFile: \"/home/marian/MathHub/MiKoMH/TDM/source/course/fragments/pre.tex\"\nDependencies:n\tNo dependencies.\nReferences:\n\tNo references.\nErrors:\n\tNo errors.\nSymbol Table:\n> [public Symbol __root__]\n-> [public Symbol __ANONYMOUS_SCOPE312__]\n"
    }
   ],
   "source": [
    "for o in objects[::20]:\n",
    "    o.format()"
   ]
  }
 ],
 "metadata": {
  "kernelspec": {
   "display_name": "Python 3",
   "language": "python",
   "name": "python3"
  },
  "language_info": {
   "codemirror_mode": {
    "name": "ipython",
    "version": 3
   },
   "file_extension": ".py",
   "mimetype": "text/x-python",
   "name": "python",
   "nbconvert_exporter": "python",
   "pygments_lexer": "ipython3",
   "version": "3.7.5-final"
  }
 },
 "nbformat": 4,
 "nbformat_minor": 2
}