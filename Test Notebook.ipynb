{
 "cells": [
  {
   "cell_type": "code",
   "execution_count": 1,
   "metadata": {},
   "outputs": [],
   "source": [
    "from pathlib import Path\n",
    "from multiprocessing import Pool\n",
    "import time\n",
    "from tqdm.notebook import tqdm\n",
    "from stexls.vscode import *\n",
    "from stexls.util.workspace import Workspace\n",
    "from stexls.stex.compiler import Compiler\n",
    "from stexls.stex.linker import Linker\n",
    "from stexls.linter.linter import Linter\n",
    "from stexls.stex.references import *\n",
    "import os, sys"
   ]
  },
  {
   "cell_type": "code",
   "execution_count": 2,
   "metadata": {
    "scrolled": true
   },
   "outputs": [
    {
     "name": "stdout",
     "output_type": "stream",
     "text": [
      "8009\n"
     ]
    },
    {
     "data": {
      "application/vnd.jupyter.widget-view+json": {
       "model_id": "da8d51ed7bbb4c59b4d925dc3a2a307a",
       "version_major": 2,
       "version_minor": 0
      },
      "text/plain": [
       "HBox(children=(HTML(value=''), FloatProgress(value=0.0, max=8009.0), HTML(value='')))"
      ]
     },
     "metadata": {},
     "output_type": "display_data"
    },
    {
     "name": "stderr",
     "output_type": "stream",
     "text": [
      "/home/marian/MathHub/MiKoMH/ComSem/source/dml/en/sTeX-SD.tex:1:2: Failed to compile module sTeX-SD.\n",
      "Traceback (most recent call last):\n",
      "  File \"/home/marian/projects/trefier/stexls/stexls/stex/compiler.py\", line 444, in _compile_module\n",
      "    context.add_child(symbol)\n",
      "  File \"/home/marian/projects/trefier/stexls/stexls/stex/symbols.py\", line 186, in add_child\n",
      "    raise DuplicateSymbolDefinedError(child.name, child.location)\n",
      "stexls.stex.exceptions.DuplicateSymbolDefinedError: Duplicate definition of sTeX-SD: Previously defined at /home/marian/MathHub/MiKoMH/ComSem/source/dml/en/sTeX-SD.tex:1:19\n"
     ]
    },
    {
     "name": "stdout",
     "output_type": "stream",
     "text": [
      "\n"
     ]
    }
   ],
   "source": [
    "outdir = Path('/tmp/out')\n",
    "mathhub = Path('~/MathHub').expanduser()\n",
    "agenttypes = Path('/home/marian/MathHub/MiKoMH/AI/source/rational-agents/en/agent-types.tex')\n",
    "balancedprime = Path('/home/marian/MathHub/smglom/primes/source/balancedprime.en.tex')\n",
    "assert mathhub.is_dir()\n",
    "ws = Workspace(mathhub)\n",
    "#ws.include = '.*/smglom/.*'\n",
    "print(len(ws.files))\n",
    "c = Compiler(ws.root, outdir)\n",
    "ln = Linker(outdir)\n",
    "global_step = True\n",
    "linter = Linter(ws, outdir, enable_global_validation=global_step, num_jobs=8)\n",
    "if global_step:\n",
    "    it = list(tqdm(linter.compile_workspace()))"
   ]
  },
  {
   "cell_type": "code",
   "execution_count": 7,
   "metadata": {},
   "outputs": [],
   "source": [
    "for i in it:\n",
    "    if not i:\n",
    "        print(i)"
   ]
  },
  {
   "cell_type": "code",
   "execution_count": 3,
   "metadata": {},
   "outputs": [],
   "source": [
    "res = linter.lint(balancedprime)"
   ]
  },
  {
   "cell_type": "code",
   "execution_count": 4,
   "metadata": {},
   "outputs": [
    {
     "data": {
      "text/plain": [
       "[[Location uri=\"file:///home/marian/MathHub/smglom/primes/source/primenumber.tex\" range=[Range (0 31) (0 44)]]]"
      ]
     },
     "execution_count": 4,
     "metadata": {},
     "output_type": "execute_result"
    }
   ],
   "source": [
    "res.object.get_definitions_at(Position(2, 47))"
   ]
  }
 ],
 "metadata": {
  "kernelspec": {
   "display_name": "Python 3",
   "language": "python",
   "name": "python3"
  },
  "language_info": {
   "codemirror_mode": {
    "name": "ipython",
    "version": 3
   },
   "file_extension": ".py",
   "mimetype": "text/x-python",
   "name": "python",
   "nbconvert_exporter": "python",
   "pygments_lexer": "ipython3",
   "version": "3.7.5"
  }
 },
 "nbformat": 4,
 "nbformat_minor": 4
}
