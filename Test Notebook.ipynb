{
 "cells": [
  {
   "cell_type": "code",
   "execution_count": 1,
   "metadata": {},
   "outputs": [],
   "source": [
    "from pathlib import Path\n",
    "from multiprocessing import Pool\n",
    "import time\n",
    "from tqdm.notebook import tqdm\n",
    "from stexls.vscode import *\n",
    "from stexls.util.workspace import Workspace\n",
    "from stexls.stex.compiler import Compiler\n",
    "from stexls.stex.linker import Linker\n",
    "from stexls.linter.linter import Linter\n",
    "from stexls.stex.references import *\n",
    "import os, sys"
   ]
  },
  {
   "cell_type": "code",
   "execution_count": 2,
   "metadata": {
    "scrolled": true
   },
   "outputs": [
    {
     "name": "stdout",
     "output_type": "stream",
     "text": [
      "2951\n"
     ]
    }
   ],
   "source": [
    "outdir = Path('/tmp/out')\n",
    "mathhub = Path('~/MathHub').expanduser()\n",
    "agenttypes = Path('/home/marian/MathHub/MiKoMH/AI/source/rational-agents/en/agent-types.tex')\n",
    "balancedprime = Path('/home/marian/MathHub/smglom/primes/source/balancedprime.en.tex')\n",
    "assert mathhub.is_dir()\n",
    "ws = Workspace(mathhub)\n",
    "ws.include = '.*/smglom/.*'\n",
    "print(len(ws.files))\n",
    "c = Compiler(ws.root, outdir)\n",
    "ln = Linker(outdir)\n",
    "global_step = False\n",
    "linter = Linter(ws, outdir, enable_global_validation=global_step, num_jobs=8)\n",
    "if global_step:\n",
    "    it = list(tqdm(linter.compile_workspace()))"
   ]
  },
  {
   "cell_type": "code",
   "execution_count": 8,
   "metadata": {
    "scrolled": false
   },
   "outputs": [
    {
     "name": "stdout",
     "output_type": "stream",
     "text": [
      "Preparing 0 False\n",
      "/home/marian/MathHub/MiKoMH/AI/source/rational-agents/en/agent-types.tex 0 False\n",
      "/home/marian/MathHub/MiKoMH/AI/source/rational-agents/en/simple-reflex-agent.tex 1 False\n",
      "/home/marian/MathHub/MiKoMH/AI/source/rational-agents/en/agentenv.tex 2 False\n",
      "/home/marian/MathHub/MiKoMH/AI/source/rational-agents/en/agent-schema.tex 3 False\n",
      "/home/marian/MathHub/MiKoMH/AI/source/rational-agents/en/agent-math.tex 4 False\n",
      "/home/marian/MathHub/smglom/sets/source/functions.tex 5 False\n",
      "/home/marian/MathHub/MiKoMH/AI/source/rational-agents/en/goal-based-agent.tex 6 False\n",
      "/home/marian/MathHub/MiKoMH/AI/source/rational-agents/en/utility-based-agent.tex 7 False\n",
      "/home/marian/MathHub/smglom/sets/source/words.tex 8 False\n",
      "/home/marian/MathHub/MiKoMH/AI/source/rational-agents/en/learning-agent.tex 9 False\n",
      "/home/marian/MathHub/MiKoMH/AI/source/rational-agents/en/stateful-reflex-agent.tex 10 False\n",
      "/home/marian/MathHub/smglom/sets/source/total-relation.tex 11 False\n",
      "/home/marian/MathHub/smglom/sets/source/multirel.tex 12 False\n",
      "/home/marian/MathHub/smglom/sets/source/cartesian-space.tex 13 False\n",
      "/home/marian/MathHub/smglom/sets/source/cartesian-product.tex 14 False\n",
      "/home/marian/MathHub/smglom/sets/source/relation.tex 15 False\n",
      "/home/marian/MathHub/smglom/sets/source/subsupset.tex 16 False\n",
      "/home/marian/MathHub/smglom/sets/source/union.tex 17 False\n",
      "/home/marian/MathHub/smglom/sets/source/pair.tex 18 False\n",
      "/home/marian/MathHub/smglom/arithmetics/source/natarith.tex 19 False\n",
      "/home/marian/MathHub/smglom/arithmetics/source/naturalnumbers.tex 20 False\n",
      "/home/marian/MathHub/smglom/sets/source/set.tex 21 False\n",
      "/home/marian/MathHub/smglom/mv/source/defeq.tex 22 False\n",
      "/home/marian/MathHub/smglom/mv/source/expression.tex 23 False\n",
      "/home/marian/MathHub/smglom/sets/source/partial-order.tex 24 False\n",
      "/home/marian/MathHub/smglom/mv/source/equal.tex 25 False\n",
      "/home/marian/MathHub/smglom/mv/source/mv.tex 26 False\n",
      "/home/marian/MathHub/smglom/sets/source/preorder.tex 27 False\n",
      "/home/marian/MathHub/smglom/mv/source/variable.tex 28 False\n",
      "/home/marian/MathHub/smglom/sets/source/transitive.tex 29 False\n",
      "/home/marian/MathHub/smglom/sets/source/symmetric.tex 30 False\n",
      "/home/marian/MathHub/smglom/mv/source/argseq.tex 31 False\n",
      "/home/marian/MathHub/smglom/sets/source/converse-relation.tex 32 False\n",
      "/home/marian/MathHub/smglom/mv/source/structure.tex 33 False\n",
      "/home/marian/MathHub/smglom/sets/source/reflexive.tex 34 False\n",
      "/home/marian/MathHub/smglom/sets/source/fundefeq.tex 35 False\n",
      "Linking 36 False\n",
      "Validating 37 False\n",
      "Done 38 True\n",
      "/home/marian/MathHub/MiKoMH/AI/source/rational-agents/en/agent-types.tex:2:4 Warning - Already located inside directory \"rational-agents/en\" (is-current-dir-check)\n",
      "/home/marian/MathHub/MiKoMH/AI/source/rational-agents/en/agent-types.tex:10:8 Warning - Already located inside directory \"rational-agents/en\" (is-current-dir-check)\n",
      "/home/marian/MathHub/MiKoMH/AI/source/rational-agents/en/agent-types.tex:26:8 Warning - Already located inside directory \"rational-agents/en\" (is-current-dir-check)\n",
      "/home/marian/MathHub/MiKoMH/AI/source/rational-agents/en/agent-types.tex:27:8 Warning - Already located inside directory \"rational-agents/en\" (is-current-dir-check)\n",
      "/home/marian/MathHub/MiKoMH/AI/source/rational-agents/en/agent-types.tex:29:8 Warning - Already located inside directory \"rational-agents/en\" (is-current-dir-check)\n",
      "/home/marian/MathHub/MiKoMH/AI/source/rational-agents/en/agent-types.tex:30:8 Warning - Already located inside directory \"rational-agents/en\" (is-current-dir-check)\n",
      "/home/marian/MathHub/MiKoMH/AI/source/rational-agents/en/agent-types.tex:12:22 Error - Undefined symbol \"agentenv?agent-function\" of type \"def\", \"dref\", \"symdef\" or \"sym\": Did you mean \"agent-types?agent-math?agent-function\", \"agent-types?agent-math?agentfunction\" or \"agent-types?agent-math?action\"? (undefined-symbol)\n",
      "/home/marian/MathHub/MiKoMH/AI/source/rational-agents/en/agent-types.tex:35:14 Error - Undefined symbol \"stateful-reflex-agent?reflex-agents-with state\" of type \"def\", \"dref\", \"symdef\" or \"sym\" (undefined-symbol)\n",
      "/home/marian/MathHub/MiKoMH/AI/source/rational-agents/en/agent-types.tex:40:47 Error - Undefined symbol \"learning-agent\" of type \"module\" or \"modsig\" (undefined-symbol)\n",
      "/home/marian/MathHub/MiKoMH/AI/source/rational-agents/en/agent-types.tex:40:39 Error - Undefined symbol \"learning-agent?learning-agent\" of type \"def\", \"dref\", \"symdef\" or \"sym\": Did you mean \"agent-types?__frame#4__?__omtext#7__?learning-agent?learning-agent\"? (undefined-symbol)\n"
     ]
    }
   ],
   "source": [
    "ln = linter.lint(agenttypes, on_progress_fun=print)\n",
    "ln.format_messages()"
   ]
  },
  {
   "cell_type": "code",
   "execution_count": null,
   "metadata": {},
   "outputs": [],
   "source": []
  }
 ],
 "metadata": {
  "kernelspec": {
   "display_name": "Python 3",
   "language": "python",
   "name": "python3"
  },
  "language_info": {
   "codemirror_mode": {
    "name": "ipython",
    "version": 3
   },
   "file_extension": ".py",
   "mimetype": "text/x-python",
   "name": "python",
   "nbconvert_exporter": "python",
   "pygments_lexer": "ipython3",
   "version": "3.7.5"
  }
 },
 "nbformat": 4,
 "nbformat_minor": 4
}
