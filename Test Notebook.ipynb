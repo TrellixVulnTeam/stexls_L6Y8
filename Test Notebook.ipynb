{
 "cells": [
  {
   "cell_type": "code",
   "execution_count": 1,
   "metadata": {},
   "outputs": [],
   "source": [
    "from pathlib import Path"
   ]
  },
  {
   "cell_type": "code",
   "execution_count": 2,
   "metadata": {},
   "outputs": [],
   "source": [
    "from stexls.util.latex.parser import LatexParser"
   ]
  },
  {
   "cell_type": "code",
   "execution_count": 3,
   "metadata": {},
   "outputs": [],
   "source": [
    "from stexls.compiler.parse import parse, TokenWithLocation, Location, Range, Position"
   ]
  },
  {
   "cell_type": "code",
   "execution_count": 16,
   "metadata": {},
   "outputs": [],
   "source": [
    "primes = Path.home()/'Downloads/smglom/primes/source/primenumber.tex'"
   ]
  },
  {
   "cell_type": "code",
   "execution_count": 17,
   "metadata": {
    "scrolled": false
   },
   "outputs": [],
   "source": [
    "p = parse(primes, debug_exceptions=True)"
   ]
  },
  {
   "cell_type": "code",
   "execution_count": 18,
   "metadata": {},
   "outputs": [
    {
     "data": {
      "text/plain": [
       "{'path': PosixPath('/home/marian/Downloads/smglom/primes/source/primenumber.tex'),\n",
       " 'modsigs': [[Modsig name=primenumber]],\n",
       " 'mhmodnls': [],\n",
       " 'trefis': [],\n",
       " 'defis': [],\n",
       " 'syms': [],\n",
       " 'symdefs': [[Symdef options=\"name=prime-number\" tokens=[PrimeNumber, p]],\n",
       "  [Symdef options=\"name=prime-number,1\" tokens=[nPrimeNumber, p_{#1]],\n",
       "  [Symdef options=\"1\" tokens=[isPrime, #1\\text{ is prime}]],\n",
       "  [Symdef options=\"noverb,name=NumberPrimeNumber\" tokens=[NumberPrimeNumberOp, \\pi]],\n",
       "  [Symdef options=\"noverb,1\" tokens=[NumberPrimeNumber, \\prefix\\NumberPrimeNumberOp{#1}]]],\n",
       " 'gimports': [[Gimport options=\"smglom/arithmetics\" target=divisor]],\n",
       " 'exceptions': []}"
      ]
     },
     "execution_count": 18,
     "metadata": {},
     "output_type": "execute_result"
    }
   ],
   "source": [
    "p.__dict__"
   ]
  },
  {
   "cell_type": "code",
   "execution_count": 25,
   "metadata": {},
   "outputs": [
    {
     "data": {
      "text/plain": [
       "((['noverb', '1'], {}), ([[Range (7 7) (7 13)], [Range (7 14) (7 15)]], {}))"
      ]
     },
     "execution_count": 25,
     "metadata": {},
     "output_type": "execute_result"
    }
   ],
   "source": [
    "p.symdefs[4].options.parse_options()"
   ]
  }
 ],
 "metadata": {
  "kernelspec": {
   "display_name": "Python 3",
   "language": "python",
   "name": "python3"
  },
  "language_info": {
   "codemirror_mode": {
    "name": "ipython",
    "version": 3
   },
   "file_extension": ".py",
   "mimetype": "text/x-python",
   "name": "python",
   "nbconvert_exporter": "python",
   "pygments_lexer": "ipython3",
   "version": "3.7.5"
  }
 },
 "nbformat": 4,
 "nbformat_minor": 2
}
