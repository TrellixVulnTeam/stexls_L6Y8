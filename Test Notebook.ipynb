{
 "cells": [
  {
   "cell_type": "code",
   "execution_count": 1,
   "metadata": {},
   "outputs": [],
   "source": [
    "from pathlib import Path\n",
    "from tqdm.notebook import tqdm\n",
    "from stexls.util.workspace import Workspace\n",
    "from stexls.stex.compiler import Compiler\n",
    "from stexls.stex.linker import Linker\n",
    "from stexls.linter.linter import Linter\n",
    "import os, sys"
   ]
  },
  {
   "cell_type": "code",
   "execution_count": 2,
   "metadata": {
    "scrolled": true
   },
   "outputs": [
    {
     "name": "stdout",
     "output_type": "stream",
     "text": [
      "1176\n"
     ]
    },
    {
     "data": {
      "application/vnd.jupyter.widget-view+json": {
       "model_id": "5f26a227b802496b877e08c5416132a1",
       "version_major": 2,
       "version_minor": 0
      },
      "text/plain": [
       "HBox(children=(FloatProgress(value=0.0, max=1176.0), HTML(value='')))"
      ]
     },
     "metadata": {},
     "output_type": "display_data"
    }
   ],
   "source": [
    "outdir = Path('/tmp/out')\n",
    "mathhub = Path('~/MathHub').expanduser()\n",
    "agenttypes = Path('/home/marian/MathHub/MiKoMH/AI/source/rational-agents/en/agent-types.tex')\n",
    "balancedprime = Path('/home/marian/MathHub/smglom/primes/source/balancedprime.en.tex')\n",
    "assert mathhub.is_dir()\n",
    "ws = Workspace(mathhub)\n",
    "ws.include = '.*/MiKoMH/AI/.*'\n",
    "print(len(ws.files))\n",
    "c = Compiler(ws.root, outdir)\n",
    "ln = Linker(outdir)\n",
    "global_step = True\n",
    "def on_progress(it, title, files):\n",
    "    try:\n",
    "        total = len(it)\n",
    "    except:\n",
    "        total = len(files)\n",
    "    it = tqdm(it, total=total)\n",
    "    it.set_description(title)\n",
    "    return it\n",
    "linter = Linter(ws, outdir, enable_global_validation=global_step, on_progress_fun=on_progress, num_jobs=8)"
   ]
  },
  {
   "cell_type": "code",
   "execution_count": 3,
   "metadata": {
    "scrolled": true
   },
   "outputs": [],
   "source": [
    "ln = linter.lint(agenttypes)"
   ]
  },
  {
   "cell_type": "code",
   "execution_count": 4,
   "metadata": {},
   "outputs": [
    {
     "name": "stdout",
     "output_type": "stream",
     "text": [
      "/home/marian/MathHub/MiKoMH/AI/source/rational-agents/en/agent-types.tex:2:4 Targeted dir \"rational-agents/en\" is the current dir.\n",
      "/home/marian/MathHub/MiKoMH/AI/source/rational-agents/en/agent-types.tex:25:8 Targeted dir \"rational-agents/en\" is the current dir.\n",
      "/home/marian/MathHub/MiKoMH/AI/source/rational-agents/en/agent-types.tex:26:8 Targeted dir \"rational-agents/en\" is the current dir.\n",
      "/home/marian/MathHub/MiKoMH/AI/source/rational-agents/en/agent-types.tex:28:8 Targeted dir \"rational-agents/en\" is the current dir.\n",
      "/home/marian/MathHub/MiKoMH/AI/source/rational-agents/en/agent-types.tex:29:8 Targeted dir \"rational-agents/en\" is the current dir.\n",
      "/home/marian/MathHub/MiKoMH/AI/source/rational-agents/en/agent-types.tex:10:49 Undefined symbol \"agentenv?agent\" of type \"def\", \"dref\", \"symdef\" or \"sym\"\n",
      "/home/marian/MathHub/MiKoMH/AI/source/rational-agents/en/agent-types.tex:11:22 Undefined symbol \"agentenv?agent-function\" of type \"def\", \"dref\", \"symdef\" or \"sym\"\n",
      "/home/marian/MathHub/MiKoMH/AI/source/rational-agents/en/agent-types.tex:33:14 Undefined symbol \"simple-reflex-agent?simple-reflex-agent\" of type \"def\", \"dref\", \"symdef\" or \"sym\"\n",
      "/home/marian/MathHub/MiKoMH/AI/source/rational-agents/en/agent-types.tex:34:14 Undefined symbol \"stateful-reflex-agent?reflex-agents-with state\" of type \"def\", \"dref\", \"symdef\" or \"sym\"\n",
      "/home/marian/MathHub/MiKoMH/AI/source/rational-agents/en/agent-types.tex:35:14 Undefined symbol \"goal-based-agent?goal-based-agent\" of type \"def\", \"dref\", \"symdef\" or \"sym\"\n",
      "/home/marian/MathHub/MiKoMH/AI/source/rational-agents/en/agent-types.tex:36:14 Undefined symbol \"utility-based-agent?utility-based-agent\" of type \"def\", \"dref\", \"symdef\" or \"sym\"\n",
      "/home/marian/MathHub/MiKoMH/AI/source/rational-agents/en/agent-types.tex:39:47 Undefined symbol \"learning-agent\" of type \"module\" or \"modsig\"\n",
      "/home/marian/MathHub/MiKoMH/AI/source/rational-agents/en/agent-types.tex:39:39 Undefined symbol \"learning-agent?learning-agent\" of type \"def\", \"dref\", \"symdef\" or \"sym\"\n"
     ]
    }
   ],
   "source": [
    "ln.format_messages()"
   ]
  }
 ],
 "metadata": {
  "kernelspec": {
   "display_name": "Python 3",
   "language": "python",
   "name": "python3"
  },
  "language_info": {
   "codemirror_mode": {
    "name": "ipython",
    "version": 3
   },
   "file_extension": ".py",
   "mimetype": "text/x-python",
   "name": "python",
   "nbconvert_exporter": "python",
   "pygments_lexer": "ipython3",
   "version": "3.7.5"
  }
 },
 "nbformat": 4,
 "nbformat_minor": 4
}
