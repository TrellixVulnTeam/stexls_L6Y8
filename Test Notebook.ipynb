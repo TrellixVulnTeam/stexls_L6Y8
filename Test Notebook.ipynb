{
 "cells": [
  {
   "cell_type": "code",
   "execution_count": 1,
   "metadata": {},
   "outputs": [],
   "source": [
    "from stexls.stex.compiler import StexObject, Compiler\n",
    "from stexls.stex.linker import Linker\n",
    "from stexls.util.workspace import Workspace\n",
    "from stexls.vscode import *\n",
    "from stexls.stex import *"
   ]
  },
  {
   "cell_type": "code",
   "execution_count": 2,
   "metadata": {},
   "outputs": [],
   "source": [
    "from typing import *\n",
    "from pathlib import Path\n",
    "from multiprocessing import Pool\n",
    "from tqdm import tqdm"
   ]
  },
  {
   "cell_type": "code",
   "execution_count": 3,
   "metadata": {},
   "outputs": [
    {
     "output_type": "stream",
     "name": "stdout",
     "text": "/home/marian/MathHub\n"
    }
   ],
   "source": [
    "%cd ~/MathHub/"
   ]
  },
  {
   "cell_type": "code",
   "execution_count": 12,
   "metadata": {},
   "outputs": [],
   "source": [
    "root = Path('/home/marian/MathHub')\n",
    "outdir = Path('/tmp/out')\n",
    "\n",
    "ws = Workspace(root)\n",
    "ws.include = '.*/smglom/.*'\n",
    "\n",
    "compiler = Compiler(ws, outdir)\n",
    "\n",
    "linker = Linker(compiler)\n",
    "\n",
    "example_file = Path('/home/marian/MathHub/smglom/arithmetics/source/pinumber.en.tex')\n",
    "#example_file = Path('/home/marian/MathHub/MiKoMH/talks/source/sTeX/ex/sTeX-modules-ex.tex')\n",
    "#example_file = Path('/home/marian/MathHub/MiKoMH/GenICT/source/programming/en/hardware-software-programming.tex')\n",
    "#example_file = Path('/home/marian/MathHub/smglom/primes/source/balancedprime.en.tex')"
   ]
  },
  {
   "cell_type": "code",
   "execution_count": 13,
   "metadata": {},
   "outputs": [],
   "source": [
    "obj = linker.compile_and_link(example_file)"
   ]
  },
  {
   "cell_type": "code",
   "execution_count": 14,
   "metadata": {
    "tags": [
     "outputPrepend"
    ]
   },
   "outputs": [
    {
     "output_type": "stream",
     "name": "stdout",
     "text": "\nFile: \"/home/marian/MathHub/smglom/arithmetics/source/pinumber.en.tex\"\nDependencies:\n\t/home/marian/MathHub/smglom/arithmetics/source/pinumber.en.tex:1:31: pinumber from \"/home/marian/MathHub/smglom/arithmetics/source/pinumber.tex\"\nReferences:\n\t/home/marian/MathHub/smglom/arithmetics/source/pinumber.en.tex:1:31: pinumber of type ReferenceType.MODSIG\nErrors:\n\tNo errors.\nSymbol Table:\n> [public Symbol __root__]\n-> [PUBLIC BindingSymbol pinumber.en]\n-> [ModuleSymbol \"pinumber\"/MODSIG]\n--> [PUBLIC VerbSymbol \"pinumber\"/SYMDEF]\n-> [ModuleSymbol \"realarith\"/MODSIG]\n--> [PUBLIC VerbSymbol \"uminus\"/SYMDEF]\n--> [PUBLIC VerbSymbol \"realuminus\"/SYMDEF]\n--> [PUBLIC VerbSymbol \"absolute-value\"/SYMDEF]\n--> [PUBLIC VerbSymbol \"addition\"/SYMDEF]\n--> [PUBLIC VerbSymbol \"addition\"/SYMDEF]\n--> [PUBLIC VerbSymbol \"subtraction\"/SYMDEF]\n--> [PUBLIC VerbSymbol \"subtraction\"/SYMDEF]\n--> [PUBLIC VerbSymbol \"multiplication\"/SYMDEF]\n--> [PUBLIC VerbSymbol \"multiplication\"/SYMDEF]\n--> [PUBLIC VerbSymbol \"division\"/SYMDEF]\n--> [PUBLIC VerbSymbol \"division\"/SYMDEF]\n--> [PUBLIC VerbSymbol \"exponentiation\"/SYMDEF]\n--> [PUBLIC VerbSymbol \"root\"/SYMDEF]\n--> [PUBLIC VerbSymbol \"square-root\"/SYMDEF]\n--> [PUBLIC VerbSymbol \"morethan\"/SYMDEF]\n--> [PUBLIC VerbSymbol \"morethan\"/SYMDEF]\n--> [PUBLIC VerbSymbol \"mmorethan\"/SYMDEF]\n--> [PUBLIC VerbSymbol \"lessthan\"/SYMDEF]\n--> [PUBLIC VerbSymbol \"lessthan\"/SYMDEF]\n--> [PUBLIC VerbSymbol \"mlessthan\"/SYMDEF]\n--> [PUBLIC VerbSymbol \"methan\"/SYMDEF]\n--> [PUBLIC VerbSymbol \"methan\"/SYMDEF]\n--> [PUBLIC VerbSymbol \"mmethan\"/SYMDEF]\n--> [PUBLIC VerbSymbol \"lethan\"/SYMDEF]\n--> [PUBLIC VerbSymbol \"lethan\"/SYMDEF]\n--> [PUBLIC VerbSymbol \"mlethan\"/SYMDEF]\n-> [ModuleSymbol \"ratarith\"/MODSIG]\n--> [PUBLIC VerbSymbol \"uminus\"/SYMDEF]\n--> [PUBLIC VerbSymbol \"uminus\"/SYMDEF]\n--> [PUBLIC VerbSymbol \"absolute-value\"/SYMDEF]\n--> [PUBLIC VerbSymbol \"addition\"/SYMDEF]\n--> [PUBLIC VerbSymbol \"addition\"/SYMDEF]\n--> [PUBLIC VerbSymbol \"subtraction\"/SYMDEF]\n--> [PUBLIC VerbSymbol \"subtraction\"/SYMDEF]\n--> [PUBLIC VerbSymbol \"multiplication\"/SYMDEF]\n--> [PUBLIC VerbSymbol \"multiplication\"/SYMDEF]\n--> [PUBLIC VerbSymbol \"division\"/SYMDEF]\n--> [PUBLIC VerbSymbol \"division\"/SYMDEF]\n--> [PUBLIC VerbSymbol \"exponentiation\"/SYMDEF]\n--> [PUBLIC VerbSymbol \"root\"/SYMDEF]\n--> [PUBLIC VerbSymbol \"square-root\"/SYMDEF]\n--> [PUBLIC VerbSymbol \"morethan\"/SYMDEF]\n--> [PUBLIC VerbSymbol \"morethan\"/SYMDEF]\n--> [PUBLIC VerbSymbol \"mmorethan\"/SYMDEF]\n--> [PUBLIC VerbSymbol \"lessthan\"/SYMDEF]\n--> [PUBLIC VerbSymbol \"lessthan\"/SYMDEF]\n--> [PUBLIC VerbSymbol \"mlessthan\"/SYMDEF]\n--> [PUBLIC VerbSymbol \"methan\"/SYMDEF]\n--> [PUBLIC VerbSymbol \"methan\"/SYMDEF]\n--> [PUBLIC VerbSymbol \"mmethan\"/SYMDEF]\n--> [PUBLIC VerbSymbol \"lethan\"/SYMDEF]\n--> [PUBLIC VerbSymbol \"lethan\"/SYMDEF]\n--> [PUBLIC VerbSymbol \"mlethan\"/SYMDEF]\n--> [PUBLIC VerbSymbol \"sum\"/SYM]\n--> [PUBLIC VerbSymbol \"product\"/SYM]\n--> [PUBLIC VerbSymbol \"difference\"/SYM]\n--> [PUBLIC VerbSymbol \"quotient\"/SYM]\n--> [PUBLIC VerbSymbol \"base\"/SYM]\n--> [PUBLIC VerbSymbol \"power\"/SYM]\n--> [PUBLIC VerbSymbol \"exponent\"/SYM]\n-> [ModuleSymbol \"rationalnumbers\"/MODSIG]\n--> [PUBLIC VerbSymbol \"RationalNumbers\"/SYMDEF]\n--> [PUBLIC VerbSymbol \"rational-number\"/SYM]\n--> [PUBLIC VerbSymbol \"PositiveRationalNumbers\"/SYMDEF]\n--> [PUBLIC VerbSymbol \"NonPositiveRationalNumbers\"/SYMDEF]\n--> [PUBLIC VerbSymbol \"NegativeRationalNumbers\"/SYMDEF]\n--> [PUBLIC VerbSymbol \"NonNegativeRationalNumbers\"/SYMDEF]\n--> [PUBLIC VerbSymbol \"positive-rational-number\"/SYM]\n--> [PUBLIC VerbSymbol \"negative-rational-number\"/SYM]\n--> [PUBLIC VerbSymbol \"non-positive-rational-number\"/SYM]\n--> [PUBLIC VerbSymbol \"non-negative-rational-number\"/SYM]\n--> [PUBLIC VerbSymbol \"fraction\"/SYMDEF]\n--> [PUBLIC VerbSymbol \"denominator\"/SYM]\n--> [PUBLIC VerbSymbol \"numerator\"/SYM]\n-> [ModuleSymbol \"quotientspace\"/MODSIG]\n--> [PUBLIC VerbSymbol \"equivalence-class\"/SYMDEF]\n--> [PUBLIC VerbSymbol \"quotient-space\"/SYMDEF]\n--> [PUBLIC VerbSymbol \"canonical-projection\"/SYMDEF]\n--> [PUBLIC VerbSymbol \"canonical-projection\"/SYMDEF]\n--> [PUBLIC VerbSymbol \"representative\"/SYM]\n-> [ModuleSymbol \"fundefeq\"/MODSIG]\n--> [PUBLIC VerbSymbol \"function-definition\"/SYMDEF]\n--> [PUBLIC VerbSymbol \"fundefequiv\"/SYMDEF]\n--> [PUBLIC VerbSymbol \"nfundefeq\"/SYMDEF]\n--> [PUBLIC VerbSymbol \"nfundefequiv\"/SYMDEF]\n--> [PUBLIC VerbSymbol \"nfundefeqli\"/SYMDEF]\n--> [PUBLIC VerbSymbol \"nfundefequivli\"/SYMDEF]\n--> [PUBLIC VerbSymbol \"function-pattern\"/SYM]\n--> [PUBLIC VerbSymbol \"body\"/SYM]\n--> [PUBLIC VerbSymbol \"argument\"/SYM]\n-> [ModuleSymbol \"functions\"/MODSIG]\n--> [PUBLIC VerbSymbol \"funspace\"/SYMDEF]\n--> [PUBLIC VerbSymbol \"partfunspace\"/SYMDEF]\n--> [PUBLIC VerbSymbol \"fun\"/SYMDEF]\n--> [PUBLIC VerbSymbol \"mfun\"/SYMDEF]\n--> [PUBLIC VerbSymbol \"map\"/SYMDEF]\n--> [PUBLIC VerbSymbol \"map\"/SYMDEF]\n--> [PUBLIC VerbSymbol \"funmap\"/SYMDEF]\n--> [PUBLIC VerbSymbol \"partfun\"/SYMDEF]\n--> [PUBLIC VerbSymbol \"partfunsuchthat\"/SYMDEF]\n--> [PUBLIC VerbSymbol \"funsuchthat\"/SYMDEF]\n--> [PUBLIC VerbSymbol \"funcascade\"/SYMDEF]\n--> [PUBLIC VerbSymbol \"domain\"/SYMDEF]\n--> [PUBLIC VerbSymbol \"domain\"/SYMDEF]\n--> [PUBLIC VerbSymbol \"codomain\"/SYMDEF]\n--> [PUBLIC VerbSymbol \"codomain\"/SYMDEF]\n--> [PUBLIC VerbSymbol \"function-space\"/SYMDEF]\n--> [PUBLIC VerbSymbol \"partial-function-space\"/SYMDEF]\n--> [PUBLIC VerbSymbol \"undefd\"/SYMDEF]\n--> [PUBLIC VerbSymbol \"funcdot\"/SYMDEF]\n--> [PUBLIC VerbSymbol \"partial-function\"/SYM]\n--> [PUBLIC VerbSymbol \"undefined-at\"/SYM]\n--> [PUBLIC VerbSymbol \"defined-at\"/SYM]\n--> [PUBLIC VerbSymbol \"total-function\"/SYM]\n--> [PUBLIC VerbSymbol \"function\"/SYM]\n--> [PUBLIC VerbSymbol \"argument\"/SYM]\n--> [PUBLIC VerbSymbol \"application\"/SYM]\n-> [ModuleSymbol \"total-relation\"/MODSIG]\n--> [PUBLIC VerbSymbol \"total\"/SYM]\n-> [ModuleSymbol \"relation\"/MODSIG]\n--> [PUBLIC VerbSymbol \"relation\"/SYM]\n--> [PUBLIC VerbSymbol \"relation-on\"/SYM]\n-> [ModuleSymbol \"pair\"/MODSIG]\n--> [PUBLIC VerbSymbol \"pair\"/SYMDEF]\n--> [PUBLIC VerbSymbol \"pair\"/SYMDEF]\n--> [PUBLIC VerbSymbol \"set-of-pairs\"/SYMDEF]\n--> [PUBLIC VerbSymbol \"set-of-pairs\"/SYMDEF]\n--> [PUBLIC VerbSymbol \"twodim\"/SYMDEF]\n--> [PUBLIC VerbSymbol \"first-component\"/SYMDEF]\n--> [PUBLIC VerbSymbol \"second-component\"/SYMDEF]\n-> [ModuleSymbol \"set\"/MODSIG]\n--> [PUBLIC VerbSymbol \"set\"/SYM]\n--> [PUBLIC VerbSymbol \"setlist\"/SYMDEF]\n--> [PUBLIC VerbSymbol \"setst\"/SYMDEF]\n--> [PUBLIC VerbSymbol \"bsetst\"/SYMDEF]\n--> [PUBLIC VerbSymbol \"rsetst\"/SYMDEF]\n--> [PUBLIC VerbSymbol \"brsetst\"/SYMDEF]\n--> [PUBLIC VerbSymbol \"inset\"/SYMDEF]\n--> [PUBLIC VerbSymbol \"inset\"/SYMDEF]\n--> [PUBLIC VerbSymbol \"ninset\"/SYMDEF]\n--> [PUBLIC VerbSymbol \"ninset\"/SYMDEF]\n--> [PUBLIC VerbSymbol \"minset\"/SYMDEF]\n--> [PUBLIC VerbSymbol \"minsetli\"/SYMDEF]\n--> [PUBLIC VerbSymbol \"nminset\"/SYMDEF]\n--> [PUBLIC VerbSymbol \"hasprop\"/SYMDEF]\n--> [PUBLIC VerbSymbol \"setequal\"/SYMDEF]\n--> [PUBLIC VerbSymbol \"setequal\"/SYMDEF]\n--> [PUBLIC VerbSymbol \"nsetequal\"/SYMDEF]\n--> [PUBLIC VerbSymbol \"setwith\"/SYMDEF]\n--> [PUBLIC VerbSymbol \"setwith\"/SYMDEF]\n--> [PUBLIC VerbSymbol \"element\"/SYM]\n-> [ModuleSymbol \"mv\"/MODSIG]\n--> [PUBLIC VerbSymbol \"disj\"/SYMDEF]\n--> [PUBLIC VerbSymbol \"disj\"/SYMDEF]\n--> [PUBLIC VerbSymbol \"conj\"/SYMDEF]\n--> [PUBLIC VerbSymbol \"conj\"/SYMDEF]\n--> [PUBLIC VerbSymbol \"negate\"/SYMDEF]\n--> [PUBLIC VerbSymbol \"negate\"/SYMDEF]\n--> [PUBLIC VerbSymbol \"imply\"/SYMDEF]\n--> [PUBLIC VerbSymbol \"imply\"/SYMDEF]\n--> [PUBLIC VerbSymbol \"iff\"/SYMDEF]\n--> [PUBLIC VerbSymbol \"iff\"/SYMDEF]\n--> [PUBLIC VerbSymbol \"foral\"/SYMDEF]\n--> [PUBLIC VerbSymbol \"foral\"/SYMDEF]\n--> [PUBLIC VerbSymbol \"foralS\"/SYMDEF]\n--> [PUBLIC VerbSymbol \"exis\"/SYMDEF]\n--> [PUBLIC VerbSymbol \"exis\"/SYMDEF]\n--> [PUBLIC VerbSymbol \"exisS\"/SYMDEF]\n--> [PUBLIC VerbSymbol \"uexis\"/SYMDEF]\n--> [PUBLIC VerbSymbol \"uexis\"/SYMDEF]\n--> [PUBLIC VerbSymbol \"uexisS\"/SYMDEF]\n--> [PUBLIC VerbSymbol \"nexis\"/SYMDEF]\n--> [PUBLIC VerbSymbol \"nexis\"/SYMDEF]\n--> [PUBLIC VerbSymbol \"nexisS\"/SYMDEF]\n--> [PUBLIC VerbSymbol \"formula\"/SYM]\n--> [PUBLIC VerbSymbol \"mv\"/SYM]\n--> [PUBLIC VerbSymbol \"math-idiom\"/SYM]\n--> [PUBLIC VerbSymbol \"connective\"/SYM]\n--> [PUBLIC VerbSymbol \"quantifier\"/SYM]\n-> [ModuleSymbol \"expression\"/MODSIG]\n--> [PUBLIC VerbSymbol \"exprinv\"/SYMDEF]\n--> [PUBLIC VerbSymbol \"nexprinvli\"/SYMDEF]\n--> [PUBLIC VerbSymbol \"expression\"/SYM]\n--> [PUBLIC VerbSymbol \"operator-application\"/SYM]\n--> [PUBLIC VerbSymbol \"variable-binding\"/SYM]\n--> [PUBLIC VerbSymbol \"bound\"/SYM]\n--> [PUBLIC VerbSymbol \"free\"/SYM]\n--> [PUBLIC VerbSymbol \"closed\"/SYM]\n-> [ModuleSymbol \"argseq\"/MODSIG]\n--> [PUBLIC VerbSymbol \"aseqdots\"/SYMDEF]\n--> [PUBLIC VerbSymbol \"dotsaseq\"/SYMDEF]\n--> [PUBLIC VerbSymbol \"dotsaseqdots\"/SYMDEF]\n--> [PUBLIC VerbSymbol \"aseqfromto\"/SYMDEF]\n--> [PUBLIC VerbSymbol \"naseqe\"/SYMDEF]\n--> [PUBLIC VerbSymbol \"naseqee\"/SYMDEF]\n--> [PUBLIC VerbSymbol \"naseqli\"/SYMDEF]\n--> [PUBLIC VerbSymbol \"nasequi\"/SYMDEF]\n-> [ModuleSymbol \"variable\"/MODSIG]\n--> [PUBLIC VerbSymbol \"variable\"/SYM]\n--> [PUBLIC VerbSymbol \"unknown\"/SYM]\n--> [PUBLIC VerbSymbol \"value\"/SYM]\n--> [PUBLIC VerbSymbol \"arbitrary\"/SYM]\n--> [PUBLIC VerbSymbol \"underspecified\"/SYM]\n--> [PUBLIC VerbSymbol \"range\"/SYM]\n-> [ModuleSymbol \"defeq\"/MODSIG]\n--> [PUBLIC VerbSymbol \"definitional-equation\"/SYMDEF]\n--> [PUBLIC VerbSymbol \"definitional-equation\"/SYMDEF]\n--> [PUBLIC VerbSymbol \"eqdef\"/SYMDEF]\n--> [PUBLIC VerbSymbol \"eqdef\"/SYMDEF]\n--> [PUBLIC VerbSymbol \"definitional-equivalence\"/SYMDEF]\n--> [PUBLIC VerbSymbol \"definitional-equivalence\"/SYMDEF]\n--> [PUBLIC VerbSymbol \"definiendum\"/SYM]\n--> [PUBLIC VerbSymbol \"definiens\"/SYM]\n-> [ModuleSymbol \"equal\"/MODSIG]\n--> [PUBLIC VerbSymbol \"equal\"/SYMDEF]\n--> [PUBLIC VerbSymbol \"equal\"/SYMDEF]\n--> [PUBLIC VerbSymbol \"notequal\"/SYMDEF]\n--> [PUBLIC VerbSymbol \"notequal\"/SYMDEF]\n--> [PUBLIC VerbSymbol \"mnotequal\"/SYMDEF]\n-> [ModuleSymbol \"subsupset\"/MODSIG]\n--> [PUBLIC VerbSymbol \"subset\"/SYMDEF]\n--> [PUBLIC VerbSymbol \"subset\"/SYMDEF]\n--> [PUBLIC VerbSymbol \"nsseteq\"/SYMDEF]\n--> [PUBLIC VerbSymbol \"msseteq\"/SYMDEF]\n--> [PUBLIC VerbSymbol \"proper-subset\"/SYMDEF]\n--> [PUBLIC VerbSymbol \"proper-subset\"/SYMDEF]\n--> [PUBLIC VerbSymbol \"nsset\"/SYMDEF]\n--> [PUBLIC VerbSymbol \"superset\"/SYMDEF]\n--> [PUBLIC VerbSymbol \"superset\"/SYMDEF]\n--> [PUBLIC VerbSymbol \"nsuperseteq\"/SYMDEF]\n--> [PUBLIC VerbSymbol \"proper-superset\"/SYMDEF]\n--> [PUBLIC VerbSymbol \"proper-superset\"/SYMDEF]\n--> [PUBLIC VerbSymbol \"nsuperset\"/SYMDEF]\n--> [PUBLIC VerbSymbol \"set-inclusion\"/SYM]\n-> [ModuleSymbol \"equivalence-relation\"/MODSIG]\n--> [PUBLIC VerbSymbol \"equivalence-relation\"/SYM]\n-> [ModuleSymbol \"transitive\"/MODSIG]\n--> [PUBLIC VerbSymbol \"transitive\"/SYM]\n-> [ModuleSymbol \"reflexive\"/MODSIG]\n--> [PUBLIC VerbSymbol \"reflexive\"/SYM]\n--> [PUBLIC VerbSymbol \"irreflexive\"/SYM]\n-> [ModuleSymbol \"symmetric\"/MODSIG]\n--> [PUBLIC VerbSymbol \"symmetric\"/SYM]\n--> [PUBLIC VerbSymbol \"asymmetric\"/SYM]\n--> [PUBLIC VerbSymbol \"antisymmetric\"/SYM]\n-> [ModuleSymbol \"union\"/MODSIG]\n--> [PUBLIC VerbSymbol \"union\"/SYMDEF]\n--> [PUBLIC VerbSymbol \"union\"/SYMDEF]\n--> [PUBLIC VerbSymbol \"munionCollection\"/SYMDEF]\n--> [PUBLIC VerbSymbol \"munionProp\"/SYMDEF]\n--> [PUBLIC VerbSymbol \"munionfromto\"/SYMDEF]\n-> [ModuleSymbol \"intersection\"/MODSIG]\n--> [PUBLIC VerbSymbol \"intersection\"/SYMDEF]\n--> [PUBLIC VerbSymbol \"intersection\"/SYMDEF]\n--> [PUBLIC VerbSymbol \"mintersectCollection\"/SYMDEF]\n--> [PUBLIC VerbSymbol \"mintersectProp\"/SYMDEF]\n--> [PUBLIC VerbSymbol \"mintersectfromto\"/SYMDEF]\n-> [ModuleSymbol \"intarith\"/MODSIG]\n--> [PUBLIC VerbSymbol \"uminus\"/SYMDEF]\n--> [PUBLIC VerbSymbol \"intuminus\"/SYMDEF]\n--> [PUBLIC VerbSymbol \"absolute-value\"/SYMDEF]\n--> [PUBLIC VerbSymbol \"addition\"/SYMDEF]\n--> [PUBLIC VerbSymbol \"addition\"/SYMDEF]\n--> [PUBLIC VerbSymbol \"subtraction\"/SYMDEF]\n--> [PUBLIC VerbSymbol \"subtraction\"/SYMDEF]\n--> [PUBLIC VerbSymbol \"multiplication\"/SYMDEF]\n--> [PUBLIC VerbSymbol \"multiplication\"/SYMDEF]\n--> [PUBLIC VerbSymbol \"integer-division\"/SYMDEF]\n--> [PUBLIC VerbSymbol \"integer-division\"/SYMDEF]\n--> [PUBLIC VerbSymbol \"mod\"/SYMDEF]\n--> [PUBLIC VerbSymbol \"mod\"/SYMDEF]\n--> [PUBLIC VerbSymbol \"exponentiation\"/SYMDEF]\n--> [PUBLIC VerbSymbol \"root\"/SYMDEF]\n--> [PUBLIC VerbSymbol \"square-root\"/SYMDEF]\n--> [PUBLIC VerbSymbol \"greater-than\"/SYMDEF]\n--> [PUBLIC VerbSymbol \"greater-than\"/SYMDEF]\n--> [PUBLIC VerbSymbol \"mmorethan\"/SYMDEF]\n--> [PUBLIC VerbSymbol \"less-than\"/SYMDEF]\n--> [PUBLIC VerbSymbol \"less-than\"/SYMDEF]\n--> [PUBLIC VerbSymbol \"mlessthan\"/SYMDEF]\n--> [PUBLIC VerbSymbol \"methan\"/SYMDEF]\n--> [PUBLIC VerbSymbol \"methan\"/SYMDEF]\n--> [PUBLIC VerbSymbol \"mmethan\"/SYMDEF]\n--> [PUBLIC VerbSymbol \"lethan\"/SYMDEF]\n--> [PUBLIC VerbSymbol \"lethan\"/SYMDEF]\n--> [PUBLIC VerbSymbol \"mlethan\"/SYMDEF]\n--> [PUBLIC VerbSymbol \"sum\"/SYM]\n--> [PUBLIC VerbSymbol \"difference\"/SYM]\n--> [PUBLIC VerbSymbol \"modulus\"/SYM]\n--> [PUBLIC VerbSymbol \"remainder\"/SYM]\n--> [PUBLIC VerbSymbol \"base\"/SYM]\n--> [PUBLIC VerbSymbol \"power\"/SYM]\n--> [PUBLIC VerbSymbol \"exponent\"/SYM]\n--> [PUBLIC VerbSymbol \"product\"/SYM]\n-> [ModuleSymbol \"integernumbers\"/MODSIG]\n--> [PUBLIC VerbSymbol \"IntegerNumbers\"/SYMDEF]\n--> [PUBLIC VerbSymbol \"negative\"/SYMDEF]\n--> [PUBLIC VerbSymbol \"negative\"/SYMDEF]\n--> [PUBLIC VerbSymbol \"PositiveIntegerNumbers\"/SYMDEF]\n--> [PUBLIC VerbSymbol \"NonNegativeIntegerNumbers\"/SYMDEF]\n--> [PUBLIC VerbSymbol \"NegativeIntegerNumbers\"/SYMDEF]\n--> [PUBLIC VerbSymbol \"NonPositiveIntegerNumbers\"/SYMDEF]\n--> [PUBLIC VerbSymbol \"integer\"/SYM]\n--> [PUBLIC VerbSymbol \"positive-integer\"/SYM]\n--> [PUBLIC VerbSymbol \"negative-integer\"/SYM]\n--> [PUBLIC VerbSymbol \"non-positive-integer\"/SYM]\n--> [PUBLIC VerbSymbol \"non-negative-integer\"/SYM]\n-> [ModuleSymbol \"naturalnumbers\"/MODSIG]\n--> [PUBLIC VerbSymbol \"NaturalNumbers\"/SYMDEF]\n--> [PUBLIC VerbSymbol \"PositiveNaturalNumbers\"/SYMDEF]\n--> [PUBLIC VerbSymbol \"zero\"/SYMDEF]\n--> [PUBLIC VerbSymbol \"successor\"/SYMDEF]\n--> [PUBLIC VerbSymbol \"successor\"/SYMDEF]\n--> [PUBLIC VerbSymbol \"natural-number\"/SYM]\n--> [PUBLIC VerbSymbol \"positive-natural-number\"/SYM]\n-> [ModuleSymbol \"reflexive-extension\"/MODSIG]\n--> [PUBLIC VerbSymbol \"reflexive-extension\"/SYM]\n-> [ModuleSymbol \"identity-function\"/MODSIG]\n--> [PUBLIC VerbSymbol \"identity-function\"/SYMDEF]\n-> [ModuleSymbol \"multirel\"/MODSIG]\n--> [PUBLIC VerbSymbol \"multi-relation-expression\"/SYMDEF]\n--> [PUBLIC VerbSymbol \"multirelii\"/SYMDEF]\n--> [PUBLIC VerbSymbol \"multireliii\"/SYMDEF]\n--> [PUBLIC VerbSymbol \"multireliv\"/SYMDEF]\n-> [ModuleSymbol \"piecewise\"/MODSIG]\n--> [PUBLIC VerbSymbol \"piece\"/SYMDEF]\n--> [PUBLIC VerbSymbol \"otherwise\"/SYMDEF]\n--> [PUBLIC VerbSymbol \"defined-piecewise\"/SYMDEF]\n-> [ModuleSymbol \"natarith\"/MODSIG]\n--> [PUBLIC VerbSymbol \"addition\"/SYMDEF]\n--> [PUBLIC VerbSymbol \"addition\"/SYMDEF]\n--> [PUBLIC VerbSymbol \"subtraction\"/SYMDEF]\n--> [PUBLIC VerbSymbol \"subtraction\"/SYMDEF]\n--> [PUBLIC VerbSymbol \"multiplication\"/SYMDEF]\n--> [PUBLIC VerbSymbol \"multiplication\"/SYMDEF]\n--> [PUBLIC VerbSymbol \"modulus\"/SYMDEF]\n--> [PUBLIC VerbSymbol \"modulus\"/SYMDEF]\n--> [PUBLIC VerbSymbol \"remainder\"/SYMDEF]\n--> [PUBLIC VerbSymbol \"remainder\"/SYMDEF]\n--> [PUBLIC VerbSymbol \"exponentiation\"/SYMDEF]\n--> [PUBLIC VerbSymbol \"root\"/SYMDEF]\n--> [PUBLIC VerbSymbol \"square-root\"/SYMDEF]\n--> [PUBLIC VerbSymbol \"morethan\"/SYMDEF]\n--> [PUBLIC VerbSymbol \"morethan\"/SYMDEF]\n--> [PUBLIC VerbSymbol \"mmorethan\"/SYMDEF]\n--> [PUBLIC VerbSymbol \"lessthan\"/SYMDEF]\n--> [PUBLIC VerbSymbol \"lessthan\"/SYMDEF]\n--> [PUBLIC VerbSymbol \"mlessthan\"/SYMDEF]\n--> [PUBLIC VerbSymbol \"methan\"/SYMDEF]\n--> [PUBLIC VerbSymbol \"methan\"/SYMDEF]\n--> [PUBLIC VerbSymbol \"mmethan\"/SYMDEF]\n--> [PUBLIC VerbSymbol \"lethan\"/SYMDEF]\n--> [PUBLIC VerbSymbol \"lethan\"/SYMDEF]\n--> [PUBLIC VerbSymbol \"lethan\"/SYMDEF]\n--> [PUBLIC VerbSymbol \"sum\"/SYM]\n--> [PUBLIC VerbSymbol \"difference\"/SYM]\n--> [PUBLIC VerbSymbol \"product\"/SYM]\n--> [PUBLIC VerbSymbol \"base\"/SYM]\n--> [PUBLIC VerbSymbol \"power\"/SYM]\n--> [PUBLIC VerbSymbol \"exponent\"/SYM]\n--> [PUBLIC VerbSymbol \"division\"/SYM]\n-> [ModuleSymbol \"partial-order\"/MODSIG]\n--> [PUBLIC VerbSymbol \"partial-ordering\"/SYM]\n--> [PUBLIC VerbSymbol \"strict-ordering\"/SYM]\n--> [PUBLIC VerbSymbol \"poset\"/SYM]\n-> [ModuleSymbol \"converse-relation\"/MODSIG]\n--> [PUBLIC VerbSymbol \"converse-relation\"/SYMDEF]\n-> [ModuleSymbol \"preorder\"/MODSIG]\n--> [PUBLIC VerbSymbol \"pomore\"/SYMDEF]\n--> [PUBLIC VerbSymbol \"pomore\"/SYMDEF]\n--> [PUBLIC VerbSymbol \"mpomore\"/SYMDEF]\n--> [PUBLIC VerbSymbol \"apomore\"/SYMDEF]\n--> [PUBLIC VerbSymbol \"poless\"/SYMDEF]\n--> [PUBLIC VerbSymbol \"poless\"/SYMDEF]\n--> [PUBLIC VerbSymbol \"mpoless\"/SYMDEF]\n--> [PUBLIC VerbSymbol \"apoless\"/SYMDEF]\n--> [PUBLIC VerbSymbol \"pome\"/SYMDEF]\n--> [PUBLIC VerbSymbol \"pome\"/SYMDEF]\n--> [PUBLIC VerbSymbol \"mpome\"/SYMDEF]\n--> [PUBLIC VerbSymbol \"apome\"/SYMDEF]\n--> [PUBLIC VerbSymbol \"pole\"/SYMDEF]\n--> [PUBLIC VerbSymbol \"pole\"/SYMDEF]\n--> [PUBLIC VerbSymbol \"mpole\"/SYMDEF]\n--> [PUBLIC VerbSymbol \"apole\"/SYMDEF]\n--> [PUBLIC VerbSymbol \"pobetween\"/SYMDEF]\n--> [PUBLIC VerbSymbol \"preorder\"/SYM]\n--> [PUBLIC VerbSymbol \"proset\"/SYM]\n-> [ModuleSymbol \"structure\"/MODSIG]\n--> [PUBLIC VerbSymbol \"mathematical-structure\"/SYMDEF]\n--> [PUBLIC VerbSymbol \"component\"/SYM]\n-> [ModuleSymbol \"realnumbers\"/MODSIG]\n--> [PUBLIC VerbSymbol \"RealNumbers\"/SYMDEF]\n--> [PUBLIC VerbSymbol \"PositiveRealNumbers\"/SYMDEF]\n--> [PUBLIC VerbSymbol \"NonNegativeRealNumbers\"/SYMDEF]\n--> [PUBLIC VerbSymbol \"NegativeRealNumbers\"/SYMDEF]\n--> [PUBLIC VerbSymbol \"NonPositiveRealNumbers\"/SYMDEF]\n--> [PUBLIC VerbSymbol \"positive-real-number\"/SYM]\n--> [PUBLIC VerbSymbol \"negative-real-number\"/SYM]\n--> [PUBLIC VerbSymbol \"non-positive-real-number\"/SYM]\n--> [PUBLIC VerbSymbol \"non-negative-real-number\"/SYM]\n--> [PUBLIC VerbSymbol \"startswith\"/SYMDEF]\n--> [PUBLIC VerbSymbol \"real-number\"/SYM]\n"
    }
   ],
   "source": [
    "obj.format()"
   ]
  },
  {
   "cell_type": "code",
   "execution_count": null,
   "metadata": {},
   "outputs": [],
   "source": []
  }
 ],
 "metadata": {
  "kernelspec": {
   "display_name": "Python 3",
   "language": "python",
   "name": "python3"
  },
  "language_info": {
   "codemirror_mode": {
    "name": "ipython",
    "version": 3
   },
   "file_extension": ".py",
   "mimetype": "text/x-python",
   "name": "python",
   "nbconvert_exporter": "python",
   "pygments_lexer": "ipython3",
   "version": "3.7.5-final"
  }
 },
 "nbformat": 4,
 "nbformat_minor": 2
}