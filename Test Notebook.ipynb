{
 "cells": [
  {
   "cell_type": "code",
   "execution_count": 1,
   "metadata": {},
   "outputs": [
    {
     "name": "stdout",
     "output_type": "stream",
     "text": [
      "/home/marian/MathHub\n"
     ]
    }
   ],
   "source": [
    "import json\n",
    "from glob import glob\n",
    "import fnmatch\n",
    "from multiprocessing import Pool\n",
    "from pathlib import Path\n",
    "import os, itertools\n",
    "from typing import *\n",
    "from tqdm.notebook import tqdm\n",
    "from importlib import reload\n",
    "from pickle import dumps, loads, dump, load\n",
    "\n",
    "from stexls import *\n",
    "\n",
    "%cd ~/MathHub"
   ]
  },
  {
   "cell_type": "code",
   "execution_count": 2,
   "metadata": {},
   "outputs": [],
   "source": [
    "%rm /tmp/linker.bin"
   ]
  },
  {
   "cell_type": "code",
   "execution_count": 3,
   "metadata": {},
   "outputs": [
    {
     "name": "stdout",
     "output_type": "stream",
     "text": [
      "[Errno 2] No such file or directory: '/tmp/linker.bin'\n"
     ]
    },
    {
     "data": {
      "application/vnd.jupyter.widget-view+json": {
       "model_id": "dbc45eb5168e422cb5c4af0b6d5e67dd",
       "version_major": 2,
       "version_minor": 0
      },
      "text/plain": [
       "HBox(children=(FloatProgress(value=0.0, max=8008.0), HTML(value='')))"
      ]
     },
     "metadata": {},
     "output_type": "display_data"
    },
    {
     "name": "stdout",
     "output_type": "stream",
     "text": [
      "\n"
     ]
    },
    {
     "data": {
      "application/vnd.jupyter.widget-view+json": {
       "model_id": "a17313f0c187461a9dcc2d62249cf33f",
       "version_major": 2,
       "version_minor": 0
      },
      "text/plain": [
       "HBox(children=(FloatProgress(value=0.0, max=8008.0), HTML(value='')))"
      ]
     },
     "metadata": {},
     "output_type": "display_data"
    },
    {
     "name": "stdout",
     "output_type": "stream",
     "text": [
      "\n"
     ]
    },
    {
     "data": {
      "application/vnd.jupyter.widget-view+json": {
       "model_id": "e63f9551c0824bc9968bd5c535894c3c",
       "version_major": 2,
       "version_minor": 0
      },
      "text/plain": [
       "HBox(children=(FloatProgress(value=0.0, max=5822.0), HTML(value='')))"
      ]
     },
     "metadata": {},
     "output_type": "display_data"
    },
    {
     "name": "stdout",
     "output_type": "stream",
     "text": [
      "MiKoMH/CompLog/source/stlc/en/lambda-calc-syntax.tex:6:1: File not indexed:\"smglom/smglom/source/alpharenaming.tex\"\n",
      "MiKoMH/GenCS/source/memory/en/bitbyte.tex:2:1: File not indexed:\"BaseMH/physics/source/units/en/quantities.tex\"\n",
      "MiKoMH/talks/source/arxmliv/en/arxmliv.tex:6:1: File not indexed:\"BaseMH/physics/source/units/en/siunits-prefixed.tex\"\n",
      "MiKoMH/CompLog/source/trs/en/intro.tex:2:1: File not indexed:\"smglom/smglom/source/abstract-reduction-system.tex\"\n",
      "MiKoMH/talks/source/kwarc/en/projects.tex:5:1: File not indexed:\"MiKoMH/talks/source/sTeX/en/sTeX-approach.tex\"\n",
      "MiKoMH/talks/source/sTeX/en/stexide.tex:2:1: File not indexed:\"MiKoMH/talks/source/sTeX/en/sTeX-approach.tex\"\n",
      "MiKoMH/talks/source/planetary/en/realizing.tex:8:3: File not indexed:\"MiKoMH/talks/source/sTeX/en/sTeX-approach.tex\"\n",
      "MiKoMH/CompLog/source/trs/en/confluent.tex:2:1: File not indexed:\"smglom/smglom/source/abstract-reduction-system.tex\"\n",
      "MiKoMH/AI/source/ml/en/brains.tex:2:3: File not indexed:\"BaseMH/physics/source/units/en/time.tex\"\n",
      "MiKoMH/AI/source/ml/en/brains.tex:3:3: File not indexed:\"BaseMH/physics/source/units/en/qranges.tex\"\n",
      "MiKoMH/AI/source/ml/en/brains.tex:4:3: File not indexed:\"BaseMH/physics/source/units/en/siunits-prefixed.tex\"\n",
      "Undefined module: \"linear-regression-intro\" not defined in \"MiKoMH/AI/source/ml/en/linear-regression-intro.tex\"\n",
      "Undefined module: \"inducitive-learning\" not defined in \"MiKoMH/AI/source/ml/en/inductive-learning.tex\"\n",
      "Undefined module: \"symtax-base\" not defined in \"MiKoMH/GenCS/source/logic/en/syntax-base.tex\"\n",
      "Undefined module: \"dl-ontology\" not defined in \"MiKoMH/CompLog/source/kr/en/ontology.tex\"\n",
      "Undefined module: \"aboxes\" not defined in \"MiKoMH/CompLog/source/kr/en/aboxes.tex\"\n",
      "Undefined module: \"modal-logic-ideas\" not defined in \"MiKoMH/CompLog/source/modallogic/en/modal-data.tex\"\n",
      "Undefined module: \"alphabeta\" not defined in \"MiKoMH/AI/source/game-play/en/alphabeta.tex\"\n",
      "MiKoMH/AI/source/logic/en/DPLLvsResolution-ex.tex:4:3: File not indexed:\"MiKoMH/AI/source/logic/en/DPLLvsResolution-ex.tex\"\n",
      "MiKoMH/AI/source/prolog/en/kb-repn.tex:3:1: File not indexed:\"MiKoMH/AI/source/pl0/en/HilbertCalc.tex\"\n",
      "MiKoMH/AI/source/prolog/en/kb-repn.tex:4:1: File not indexed:\"MiKoMH/AI/source/pl0/en/adt-pl0-example.tex\"\n",
      "MiKoMH/AI/source/prolog/en/kb-repn.tex:5:1: File not indexed:\"MiKoMH/AI/source/logic/en/formal-system.tex\"\n",
      "MiKoMH/talks/source/eLearning/fragments/kr-experiment.tex:2:3: File not indexed:\"MiKoMH/talks/source/sTeX/en/sTeX-approach.tex\"\n",
      "MiKoMH/GenCS/source/memory/en/units-information.tex:5:1: File not indexed:\"BaseMH/physics/source/units/en/siunits-prefixed.tex\"\n",
      "MiKoMH/GenCS/source/memory/en/units-information.tex:64:7: File not indexed:\"BaseMH/physics/source/units/en/siunits-prefixed.tex\"\n",
      "MiKoMH/talks/source/mws/en/index-statistics.tex:3:1: File not indexed:\"BaseMH/physics/source/units/en/time.tex\"\n",
      "MiKoMH/talks/source/mws/en/index-statistics.tex:4:1: File not indexed:\"BaseMH/physics/source/units/en/siunits-prefixed.tex\"\n",
      "MiKoMH/CAPL/source/course/fragments/acknowledgements.tex:18:5: File not indexed:\"MiKoMH/CAPL/source/sTeX/en/sTeX-approach.tex\"\n",
      "MiKoMH/ComSem/source/dml/en/challenges.tex:2:3: File not indexed:\"MiKoMH/talks/source/sTeX/en/sTeX-approach.tex\"\n",
      "Undefined module: \"landau-sets\" not defined in \"MiKoMH/GenCS/source/dmath/en/landau-sets.tex\"\n",
      "MiKoMH/talks/source/eScience/fragments/authoring.tex:3:1: File not indexed:\"MiKoMH/talks/source/sTeX/en/sTeX-approach.tex\"\n",
      "Undefined module: \"entailment-thm\" not defined in \"MiKoMH/GenCS/source/pl0/en/entailment-thm.tex\"\n",
      "MiKoMH/talks/source/mathml/en/mathml-unicode.tex:4:1: File not indexed:\"MiKoMH/talks/source/pns/en/PNS-common.tex\"\n",
      "MiKoMH/talks/source/jobad/en/cooking-recipe.tex:10:1: File not indexed:\"BaseMH/physics/source/units/en/time.tex\"\n",
      "MiKoMH/talks/source/jobad/en/cooking-recipe.tex:11:1: File not indexed:\"BaseMH/physics/source/units/en/temperature.tex\"\n",
      "Undefined module: \"sqlite-parasubts\" not defined in \"MiKoMH/IWGS/source/databases/en/sqlite-parasubst.tex\"\n",
      "MiKoMH/talks/source/sTeX/talks/MathUI05.tex:27:1: File not indexed:\"MiKoMH/talks/source/sTeX/en/sTeX-approach.tex\"\n",
      "Undefined module: \"python-nutshell\" not defined in \"MiKoMH/GenICT/source/programming/en/genict-python.tex\"\n",
      "MiKoMH/talks/source/eLearning/talks/ecnx.tex:91:1: File not indexed:\"MiKoMH/talks/source/sTeX/en/sTeX-approach.tex\"\n",
      "MiKoMH/CAPL/source/course/en/ap.tex:26:7: File not indexed:\"MiKoMH/CAPL/source/missing/en/proglang.tex\"\n",
      "MiKoMH/talks/source/physml/en/stex.tex:3:1: File not indexed:\"MiKoMH/talks/source/sTeX/en/sTeX-approach.tex\"\n",
      "MiKoMH/GenCS/source/graphs-trees/en/balanced-binary-trees.tex:7:5: File not indexed:\"MiKoMH/GenCS/source/search/en/ts-algo.tex\"\n",
      "MiKoMH/talks/source/sTeX/en/sTeX-modules.tex:2:1: File not indexed:\"MiKoMH/talks/source/sTeX/en/sTeX-approach.tex\"\n",
      "Undefined module: \"symtax-base\" not defined in \"MiKoMH/GenCS/source/logic/en/syntax-base.tex\"\n",
      "MiKoMH/talks/source/sTeX/en/sTeX-CNXML.tex:3:1: File not indexed:\"MiKoMH/talks/source/sTeX/en/sTeX-approach.tex\"\n",
      "MiKoMH/CAPL/source/course/en/resources.tex:2:1: File not indexed:\"MiKoMH/CAPL/source/planetary/en/pantarhei.tex\"\n",
      "MiKoMH/CAPL/source/course/en/resources.tex:3:1: File not indexed:\"MiKoMH/CAPL/source/missing/en/systems.tex\"\n",
      "Undefined module: \"goalbased-agent\" not defined in \"MiKoMH/AI/source/rational-agents/en/goal-based-agent.tex\"\n",
      "MiKoMH/talks/source/sTeX/en/sTeX-example.tex:2:1: File not indexed:\"MiKoMH/talks/source/sTeX/en/sTeX-approach.tex\"\n",
      "MiKoMH/talks/source/eLearning/en/cnxlatex.tex:2:1: File not indexed:\"MiKoMH/talks/source/sTeX/en/sTeX-approach.tex\"\n",
      "Undefined module: \"aboxes\" not defined in \"MiKoMH/CompLog/source/kr/en/aboxes.tex\"\n",
      "MiKoMH/talks/source/physml/de/physml-theories.tex:2:3: File not indexed:\"BaseMH/physics/source/units/en/temperature.tex\"\n",
      "MiKoMH/GenCS/source/course/fragments/acknowledgements.tex:18:5: File not indexed:\"MiKoMH/talks/source/sTeX/en/sTeX-approach.tex\"\n",
      "Undefined module: \"physml-observables\" not defined in \"MiKoMH/talks/source/physml/en/nutshell.tex\"\n",
      "MiKoMH/CompLog/source/atp1/en/west-criminal-ex.tex:18:7: File not indexed:\"BaseMH/physics/source/units/en/time.tex\"\n",
      "MiKoMH/CompLog/source/atp1/en/west-criminal-ex.tex:19:7: File not indexed:\"BaseMH/physics/source/units/en/siunits-prefixed.tex\"\n",
      "Undefined module: \"gitlabhub\" not defined in \"MiKoMH/IWGS/source/vci/en/gitlabhub.tex\"\n",
      "MiKoMH/CAPL/source/course/fragments/proglang.tex:4:1: File not indexed:\"MiKoMH/CAPL/source/machines/en/microML.tex\"\n",
      "MiKoMH/CAPL/source/course/fragments/proglang.tex:5:1: File not indexed:\"MiKoMH/CAPL/source/machines/en/SW-intro.tex\"\n",
      "MiKoMH/CAPL/source/course/fragments/proglang.tex:6:1: File not indexed:\"MiKoMH/CAPL/source/machines/en/VM-intro.tex\"\n",
      "MiKoMH/CAPL/source/course/fragments/proglang.tex:7:1: File not indexed:\"MiKoMH/CAPL/source/machines/en/asm-base.tex\"\n",
      "MiKoMH/CAPL/source/course/fragments/proglang.tex:29:3: File not indexed:\"MiKoMH/CAPL/source/SML/en/SML-basics.tex\"\n",
      "smglom/chevahir/source/maximaltorus.tex:2:1: File not indexed:\"smglom/algebra/source/algebraictorus.tex\"\n",
      "Undefined module: \"OMDoc-nutshell\" not defined in \"MiKoMH/talks/source/omdoc/en/nutshell.tex\"\n",
      "MiKoMH/CAPL/source/course/fragments/concept.tex:12:5: File not indexed:\"MiKoMH/CAPL/source/missing/en/proglang.tex\"\n",
      "MiKoMH/talks/source/sTeX/en/sTeX-LaTeXML.tex:2:1: File not indexed:\"MiKoMH/talks/source/sTeX/en/sTeX-approach.tex\"\n",
      "MiKoMH/TDM/source/vc/en/vc-motivation.tex:4:3: File not indexed:\"BaseMH/physics/source/units/en/siunits-prefixed.tex\"\n",
      "MiKoMH/CompLog/source/pl1/en/alpharenaming.tex:2:1: File not indexed:\"smglom/smglom/source/alpharenaming.tex\"\n",
      "MiKoMH/talks/source/mathhub/en/architecture.tex:9:1: File not indexed:\"MiKoMH/talks/source/sTeX/en/sTeX-approach.tex\"\n",
      "MiKoMH/CAPL/source/course/de/CS-sample-performance.tex:2:1: File not indexed:\"MiKoMH/CAPL/source/units/en/time.tex\"\n",
      "MiKoMH/CAPL/source/course/de/CS-sample-performance.tex:3:1: File not indexed:\"MiKoMH/CAPL/source/units/en/siunits-prefixed.tex\"\n",
      "MiKoMH/talks/source/eLearning/talks/once-cs.tex:34:1: File not indexed:\"MiKoMH/talks/source/sTeX/en/sTeX-approach.tex\"\n",
      "MiKoMH/TDM/source/doccomp/en/yacc-ex.tex:2:1: File not indexed:\"MiKoMH/TDM/source/doccomp/en/yacc.tex\"\n",
      "Undefined module: \"VMarithmetic\" not defined in \"MiKoMH/GenCS/source/machines/en/VM-arithmetic.tex\"\n",
      "MiKoMH/CAPL/source/course/fragments/contents.tex:2:3: File not indexed:\"MiKoMH/CAPL/source/missing/en/proglang.tex\"\n"
     ]
    },
    {
     "name": "stdout",
     "output_type": "stream",
     "text": [
      "MiKoMH/talks/source/mathhub/en/nutshell2.tex:9:1: File not indexed:\"MiKoMH/talks/source/sTeX/en/sTeX-approach.tex\"\n",
      "Undefined module: \"dtl-ago\" not defined in \"MiKoMH/AI/source/ml/en/dtl-algo.tex\"\n",
      "Undefined module: \"decisions-network\" not defined in \"MiKoMH/AI/source/rational-decisions/en/decision-network.tex\"\n",
      "MiKoMH/talks/source/formalcad/en/flange-ontology.tex:2:1: File not indexed:\"KwarcMH/FormalCAD/source/flange/cds/ISOmetricthread.tex\"\n",
      "Undefined module: \"OEIS-generating-functions\" not defined in \"MiKoMH/talks/source/OEIS/en/generating-functions.tex\"\n",
      "Undefined module: \"category\" not defined in \"MiKoMH/KRMT/source/categories/en/category.tex\"\n",
      "MiKoMH/talks/source/eLearning/talks/forcnx.tex:34:1: File not indexed:\"MiKoMH/talks/source/sTeX/en/sTeX-approach.tex\"\n",
      "Undefined module: \"abstract-consistency\" not defined in \"MiKoMH/CompLog/source/hopl/en/abstract-consistency.tex\"\n",
      "Undefined module: \"authentication\" not defined in \"MiKoMH/SecDep/source/auth/en/ssh-authentication.tex\"\n",
      "MiKoMH/GenCS/source/course/en/CS-sample-performance.tex:2:1: File not indexed:\"BaseMH/physics/source/units/en/time.tex\"\n",
      "MiKoMH/GenCS/source/course/en/CS-sample-performance.tex:3:1: File not indexed:\"BaseMH/physics/source/units/en/siunits-prefixed.tex\"\n",
      "MiKoMH/GenCS/source/course/de/CS-sample-performance.tex:2:1: File not indexed:\"BaseMH/physics/source/units/en/time.tex\"\n",
      "MiKoMH/GenCS/source/course/de/CS-sample-performance.tex:3:1: File not indexed:\"BaseMH/physics/source/units/en/siunits-prefixed.tex\"\n",
      "MiKoMH/SecDep/source/errors/en/effects.tex:3:3: File not indexed:\"KwarcMH/SiSsI/source/winograd/cds/money.tex\"\n",
      "MiKoMH/GenCS/source/legal/en/gdpr.tex:4:1: File not indexed:\"KwarcMH/SiSsi/source/winograd/cds/money.tex\"\n",
      "MiKoMH/GenCS/source/legal/en/gdpr.tex:5:1: File not indexed:\"BaseMH/physics/source/units/en/siunits-prefixed.tex\"\n",
      "Undefined module: \"BNF\" not defined in \"MiKoMH/ACS/source/cfl/en/cfg.tex\"\n",
      "MiKoMH/talks/source/sTeX/talks/MathNot07.tex:28:1: File not indexed:\"MiKoMH/talks/source/sTeX/en/sTeX-approach.tex\"\n",
      "MiKoMH/talks/source/arxmliv/en/applications.tex:4:1: File not indexed:\"BaseMH/physics/source/units/en/time.tex\"\n",
      "Undefined module: \"substapp-wellsorted\" not defined in \"MiKoMH/GenCS/source/adt/en/substapp-wellsorted.tex\"\n",
      "MiKoMH/GenCS/source/encryption/en/diffie-hellman.tex:3:1: File not indexed:\"MiKoMH/GenCS/source/encryption/en/diffie-hellman-color.tex\"\n",
      "MiKoMH/CAPL/source/course/en/ap.tex:26:7: File not indexed:\"MiKoMH/CAPL/source/missing/en/proglang.tex\"\n",
      "MiKoMH/SecDep/source/course/fragments/acknowledgements.tex:18:5: File not indexed:\"MiKoMH/talks/source/sTeX/en/sTeX-approach.tex\"\n",
      "MiKoMH/talks/source/physml/en/physml-theories.tex:2:3: File not indexed:\"BaseMH/physics/source/units/en/temperature.tex\"\n",
      "MiKoMH/talks/source/oaf/en/library-integration.tex:2:3: File not indexed:\"MiKoMH/talks/source/oaf/en/library-exports.tex\"\n",
      "MiKoMH/TDM/source/digdocs/en/epub-ncx.ex.tex:2:3: File not indexed:\"MiKoMH/TDM/source/digdocs/en/epub-ops.tex\"\n",
      "Undefined module: \"aboxes\" not defined in \"MiKoMH/CompLog/source/kr/en/aboxes.tex\"\n",
      "Undefined module: \"diffie-hellman-color\" not defined in \"MiKoMH/GenCS/source/encryption/de/diffie-hellman-color.tex\"\n",
      "Undefined module: \"aboxes\" not defined in \"MiKoMH/CompLog/source/kr/en/aboxes.tex\"\n",
      "MiKoMH/CompLog/source/trs/en/commuting.tex:2:1: File not indexed:\"smglom/smglom/source/abstract-reduction-system.tex\"\n",
      "MiKoMH/talks/source/eScience/talks/ima.tex:92:1: File not indexed:\"MiKoMH/talks/source/sTeX/en/sTeX-approach.tex\"\n",
      "MiKoMH/CAPL/source/course/fragments/overview.tex:2:1: File not indexed:\"MiKoMH/CAPL/source/SML/en/SML-basics.tex\"\n",
      "\n"
     ]
    }
   ],
   "source": [
    "try:\n",
    "    with open('/tmp/linker.bin', 'rb') as fd:\n",
    "        linker = load(fd)\n",
    "except Exception as e:\n",
    "    print(e)\n",
    "    linker = Linker('.', limit=None)\n",
    "    linker.update(progress=tqdm)\n",
    "    with open('/tmp/linker.bin', 'w+b') as fd:\n",
    "        dump(linker, fd)"
   ]
  },
  {
   "cell_type": "code",
   "execution_count": 4,
   "metadata": {},
   "outputs": [
    {
     "name": "stdout",
     "output_type": "stream",
     "text": [
      "-rw-rw-r-- 1 marian marian 61M Apr  5 16:36 /tmp/linker.bin\r\n"
     ]
    }
   ],
   "source": [
    "%ls -ahl /tmp/linker.bin"
   ]
  },
  {
   "cell_type": "code",
   "execution_count": 5,
   "metadata": {},
   "outputs": [],
   "source": [
    "path = Path('MiKoMH/talks/source/sTeX/ex/sTeX-modules-ex.tex')"
   ]
  },
  {
   "cell_type": "code",
   "execution_count": 6,
   "metadata": {},
   "outputs": [
    {
     "name": "stdout",
     "output_type": "stream",
     "text": [
      "Contains files:\n",
      "\tMiKoMH/talks/source/sTeX/ex/sTeX-modules-ex.tex\n",
      "\n",
      "Depends on:\n",
      "\tMiKoMH/talks/source/sTeX/ex/sTeX-modules-ex.tex:9:3:public pairs from \"MiKoMH/talks/source/sTeX/ex/sTeX-modules-ex.tex\"\n",
      "\tMiKoMH/talks/source/sTeX/ex/sTeX-modules-ex.tex:9:25:public sets from \"MiKoMH/talks/source/sTeX/ex/sTeX-modules-ex.tex\"\n",
      "\tMiKoMH/talks/source/sTeX/ex/sTeX-modules-ex.tex:20:3:public setoid from \"MiKoMH/talks/source/sTeX/ex/sTeX-modules-ex.tex\"\n",
      "\n",
      "Symbols:\n",
      "\tMiKoMH/talks/source/sTeX/ex/sTeX-modules-ex.tex:3:19:public sets/MODULE\n",
      "\tMiKoMH/talks/source/sTeX/ex/sTeX-modules-ex.tex:4:3:public sets.member/SYMBOL\n",
      "\tMiKoMH/talks/source/sTeX/ex/sTeX-modules-ex.tex:5:3:public sets.mmember/SYMBOL\n",
      "\tMiKoMH/talks/source/sTeX/ex/sTeX-modules-ex.tex:1:19:public pairs/MODULE\n",
      "\tMiKoMH/talks/source/sTeX/ex/sTeX-modules-ex.tex:1:25:public pairs.pair/SYMBOL\n",
      "\tMiKoMH/talks/source/sTeX/ex/sTeX-modules-ex.tex:8:19:public setoid/MODULE\n",
      "\tMiKoMH/talks/source/sTeX/ex/sTeX-modules-ex.tex:10:3:public setoid.sset/SYMBOL\n",
      "\tMiKoMH/talks/source/sTeX/ex/sTeX-modules-ex.tex:11:3:public setoid.sopa/SYMBOL\n",
      "\tMiKoMH/talks/source/sTeX/ex/sTeX-modules-ex.tex:12:3:public setoid.sop/SYMBOL\n",
      "\tMiKoMH/talks/source/sTeX/ex/sTeX-modules-ex.tex:14:47:public setoid.setoid/SYMBOL\n",
      "\tMiKoMH/talks/source/sTeX/ex/sTeX-modules-ex.tex:19:19:public semigroup/MODULE\n",
      "\tMiKoMH/talks/source/sTeX/ex/sTeX-modules-ex.tex:22:60:public semigroup.monoid/SYMBOL\n",
      "\n",
      "References:\n",
      "\tMiKoMH/talks/source/sTeX/ex/sTeX-modules-ex.tex:20:3:setoid\n",
      "\tMiKoMH/talks/source/sTeX/ex/sTeX-modules-ex.tex:22:14:setoid\n",
      "\tMiKoMH/talks/source/sTeX/ex/sTeX-modules-ex.tex:22:7:setoid.setoid\n",
      "\n",
      "Errors: <no errors>\n",
      "\n",
      "--------------------------------------------------------------------------------\n",
      "\n",
      "Contains files:\n",
      "\tMiKoMH/talks/source/sTeX/ex/sTeX-modules-ex.tex\n",
      "\n",
      "Depends on:\n",
      "\tMiKoMH/talks/source/sTeX/ex/sTeX-modules-ex.tex:9:3:public pairs from \"MiKoMH/talks/source/sTeX/ex/sTeX-modules-ex.tex\"\n",
      "\tMiKoMH/talks/source/sTeX/ex/sTeX-modules-ex.tex:9:25:public sets from \"MiKoMH/talks/source/sTeX/ex/sTeX-modules-ex.tex\"\n",
      "\n",
      "Symbols:\n",
      "\tMiKoMH/talks/source/sTeX/ex/sTeX-modules-ex.tex:3:19:public sets/MODULE\n",
      "\tMiKoMH/talks/source/sTeX/ex/sTeX-modules-ex.tex:4:3:public sets.member/SYMBOL\n",
      "\tMiKoMH/talks/source/sTeX/ex/sTeX-modules-ex.tex:5:3:public sets.mmember/SYMBOL\n",
      "\tMiKoMH/talks/source/sTeX/ex/sTeX-modules-ex.tex:1:19:public pairs/MODULE\n",
      "\tMiKoMH/talks/source/sTeX/ex/sTeX-modules-ex.tex:1:25:public pairs.pair/SYMBOL\n",
      "\tMiKoMH/talks/source/sTeX/ex/sTeX-modules-ex.tex:8:19:public setoid/MODULE\n",
      "\tMiKoMH/talks/source/sTeX/ex/sTeX-modules-ex.tex:10:3:public setoid.sset/SYMBOL\n",
      "\tMiKoMH/talks/source/sTeX/ex/sTeX-modules-ex.tex:11:3:public setoid.sopa/SYMBOL\n",
      "\tMiKoMH/talks/source/sTeX/ex/sTeX-modules-ex.tex:12:3:public setoid.sop/SYMBOL\n",
      "\tMiKoMH/talks/source/sTeX/ex/sTeX-modules-ex.tex:14:47:public setoid.setoid/SYMBOL\n",
      "\n",
      "References:\n",
      "\tMiKoMH/talks/source/sTeX/ex/sTeX-modules-ex.tex:9:3:pairs\n",
      "\tMiKoMH/talks/source/sTeX/ex/sTeX-modules-ex.tex:9:25:sets\n",
      "\n",
      "Errors: <no errors>\n",
      "\n",
      "--------------------------------------------------------------------------------\n",
      "\n",
      "Contains files:\n",
      "\tMiKoMH/talks/source/sTeX/ex/sTeX-modules-ex.tex\n",
      "\n",
      "Depends on: <no dependencies>\n",
      "\n",
      "Symbols:\n",
      "\tMiKoMH/talks/source/sTeX/ex/sTeX-modules-ex.tex:3:19:public sets/MODULE\n",
      "\tMiKoMH/talks/source/sTeX/ex/sTeX-modules-ex.tex:4:3:public sets.member/SYMBOL\n",
      "\tMiKoMH/talks/source/sTeX/ex/sTeX-modules-ex.tex:5:3:public sets.mmember/SYMBOL\n",
      "\n",
      "References: <no references>\n",
      "\n",
      "Errors: <no errors>\n",
      "\n",
      "--------------------------------------------------------------------------------\n",
      "\n",
      "Contains files:\n",
      "\tMiKoMH/talks/source/sTeX/ex/sTeX-modules-ex.tex\n",
      "\n",
      "Depends on: <no dependencies>\n",
      "\n",
      "Symbols:\n",
      "\tMiKoMH/talks/source/sTeX/ex/sTeX-modules-ex.tex:1:19:public pairs/MODULE\n",
      "\tMiKoMH/talks/source/sTeX/ex/sTeX-modules-ex.tex:1:25:public pairs.pair/SYMBOL\n",
      "\n",
      "References: <no references>\n",
      "\n",
      "Errors: <no errors>\n",
      "\n",
      "--------------------------------------------------------------------------------\n",
      "\n"
     ]
    }
   ],
   "source": [
    "for object in linker.objects[path]:\n",
    "    print(linker.links[object].format())\n",
    "    print()\n",
    "    print('-'*80)\n",
    "    print()"
   ]
  },
  {
   "cell_type": "code",
   "execution_count": 20,
   "metadata": {},
   "outputs": [],
   "source": [
    "linker.view_import_graph(path)"
   ]
  },
  {
   "cell_type": "code",
   "execution_count": 19,
   "metadata": {},
   "outputs": [
    {
     "name": "stdout",
     "output_type": "stream",
     "text": [
      "Contains files:\n",
      "\tMiKoMH/talks/source/sTeX/ex/sTeX-modules-ex.tex\n",
      "\n",
      "Depends on:\n",
      "\tMiKoMH/talks/source/sTeX/ex/sTeX-modules-ex.tex:9:3:public pairs from \"MiKoMH/talks/source/sTeX/ex/sTeX-modules-ex.tex\"\n",
      "\tMiKoMH/talks/source/sTeX/ex/sTeX-modules-ex.tex:9:25:public sets from \"MiKoMH/talks/source/sTeX/ex/sTeX-modules-ex.tex\"\n",
      "\tMiKoMH/talks/source/sTeX/ex/sTeX-modules-ex.tex:20:3:public setoid from \"MiKoMH/talks/source/sTeX/ex/sTeX-modules-ex.tex\"\n",
      "\n",
      "Symbols:\n",
      "\tMiKoMH/talks/source/sTeX/ex/sTeX-modules-ex.tex:3:19:public sets/MODULE\n",
      "\tMiKoMH/talks/source/sTeX/ex/sTeX-modules-ex.tex:4:3:public sets.member/SYMBOL\n",
      "\tMiKoMH/talks/source/sTeX/ex/sTeX-modules-ex.tex:5:3:public sets.mmember/SYMBOL\n",
      "\tMiKoMH/talks/source/sTeX/ex/sTeX-modules-ex.tex:1:19:public pairs/MODULE\n",
      "\tMiKoMH/talks/source/sTeX/ex/sTeX-modules-ex.tex:1:25:public pairs.pair/SYMBOL\n",
      "\tMiKoMH/talks/source/sTeX/ex/sTeX-modules-ex.tex:8:19:public setoid/MODULE\n",
      "\tMiKoMH/talks/source/sTeX/ex/sTeX-modules-ex.tex:10:3:public setoid.sset/SYMBOL\n",
      "\tMiKoMH/talks/source/sTeX/ex/sTeX-modules-ex.tex:11:3:public setoid.sopa/SYMBOL\n",
      "\tMiKoMH/talks/source/sTeX/ex/sTeX-modules-ex.tex:12:3:public setoid.sop/SYMBOL\n",
      "\tMiKoMH/talks/source/sTeX/ex/sTeX-modules-ex.tex:14:47:public setoid.setoid/SYMBOL\n",
      "\tMiKoMH/talks/source/sTeX/ex/sTeX-modules-ex.tex:19:19:public semigroup/MODULE\n",
      "\tMiKoMH/talks/source/sTeX/ex/sTeX-modules-ex.tex:22:60:public semigroup.monoid/SYMBOL\n",
      "\n",
      "References:\n",
      "\tMiKoMH/talks/source/sTeX/ex/sTeX-modules-ex.tex:20:3:setoid\n",
      "\tMiKoMH/talks/source/sTeX/ex/sTeX-modules-ex.tex:22:14:setoid\n",
      "\tMiKoMH/talks/source/sTeX/ex/sTeX-modules-ex.tex:22:7:setoid.setoid\n",
      "\n",
      "Errors: <no errors>\n",
      "\n",
      "--------------------------------------------------------------------------------\n",
      "\n",
      "Contains files:\n",
      "\tMiKoMH/talks/source/sTeX/ex/sTeX-modules-ex.tex\n",
      "\n",
      "Depends on:\n",
      "\tMiKoMH/talks/source/sTeX/ex/sTeX-modules-ex.tex:9:3:public pairs from \"MiKoMH/talks/source/sTeX/ex/sTeX-modules-ex.tex\"\n",
      "\tMiKoMH/talks/source/sTeX/ex/sTeX-modules-ex.tex:9:25:public sets from \"MiKoMH/talks/source/sTeX/ex/sTeX-modules-ex.tex\"\n",
      "\n",
      "Symbols:\n",
      "\tMiKoMH/talks/source/sTeX/ex/sTeX-modules-ex.tex:3:19:public sets/MODULE\n",
      "\tMiKoMH/talks/source/sTeX/ex/sTeX-modules-ex.tex:4:3:public sets.member/SYMBOL\n",
      "\tMiKoMH/talks/source/sTeX/ex/sTeX-modules-ex.tex:5:3:public sets.mmember/SYMBOL\n",
      "\tMiKoMH/talks/source/sTeX/ex/sTeX-modules-ex.tex:1:19:public pairs/MODULE\n",
      "\tMiKoMH/talks/source/sTeX/ex/sTeX-modules-ex.tex:1:25:public pairs.pair/SYMBOL\n",
      "\tMiKoMH/talks/source/sTeX/ex/sTeX-modules-ex.tex:8:19:public setoid/MODULE\n",
      "\tMiKoMH/talks/source/sTeX/ex/sTeX-modules-ex.tex:10:3:public setoid.sset/SYMBOL\n",
      "\tMiKoMH/talks/source/sTeX/ex/sTeX-modules-ex.tex:11:3:public setoid.sopa/SYMBOL\n",
      "\tMiKoMH/talks/source/sTeX/ex/sTeX-modules-ex.tex:12:3:public setoid.sop/SYMBOL\n",
      "\tMiKoMH/talks/source/sTeX/ex/sTeX-modules-ex.tex:14:47:public setoid.setoid/SYMBOL\n",
      "\n",
      "References:\n",
      "\tMiKoMH/talks/source/sTeX/ex/sTeX-modules-ex.tex:9:3:pairs\n",
      "\tMiKoMH/talks/source/sTeX/ex/sTeX-modules-ex.tex:9:25:sets\n",
      "\n",
      "Errors: <no errors>\n",
      "\n",
      "--------------------------------------------------------------------------------\n",
      "\n",
      "Contains files:\n",
      "\tMiKoMH/talks/source/sTeX/ex/sTeX-modules-ex.tex\n",
      "\n",
      "Depends on: <no dependencies>\n",
      "\n",
      "Symbols:\n",
      "\tMiKoMH/talks/source/sTeX/ex/sTeX-modules-ex.tex:3:19:public sets/MODULE\n",
      "\tMiKoMH/talks/source/sTeX/ex/sTeX-modules-ex.tex:4:3:public sets.member/SYMBOL\n",
      "\tMiKoMH/talks/source/sTeX/ex/sTeX-modules-ex.tex:5:3:public sets.mmember/SYMBOL\n",
      "\n",
      "References: <no references>\n",
      "\n",
      "Errors: <no errors>\n",
      "\n",
      "--------------------------------------------------------------------------------\n",
      "\n",
      "Contains files:\n",
      "\tMiKoMH/talks/source/sTeX/ex/sTeX-modules-ex.tex\n",
      "\n",
      "Depends on: <no dependencies>\n",
      "\n",
      "Symbols:\n",
      "\tMiKoMH/talks/source/sTeX/ex/sTeX-modules-ex.tex:1:19:public pairs/MODULE\n",
      "\tMiKoMH/talks/source/sTeX/ex/sTeX-modules-ex.tex:1:25:public pairs.pair/SYMBOL\n",
      "\n",
      "References: <no references>\n",
      "\n",
      "Errors: <no errors>\n",
      "\n",
      "--------------------------------------------------------------------------------\n",
      "\n"
     ]
    }
   ],
   "source": [
    "for object in linker.objects[path]:\n",
    "    print(linker.links[object].format())\n",
    "    print()\n",
    "    print('-'*80)\n",
    "    print()"
   ]
  }
 ],
 "metadata": {
  "kernelspec": {
   "display_name": "Python 3",
   "language": "python",
   "name": "python3"
  },
  "language_info": {
   "codemirror_mode": {
    "name": "ipython",
    "version": 3
   },
   "file_extension": ".py",
   "mimetype": "text/x-python",
   "name": "python",
   "nbconvert_exporter": "python",
   "pygments_lexer": "ipython3",
   "version": "3.7.5"
  }
 },
 "nbformat": 4,
 "nbformat_minor": 2
}
