{
 "cells": [
  {
   "cell_type": "code",
   "execution_count": 1,
   "metadata": {},
   "outputs": [],
   "source": [
    "import json\n",
    "from glob import glob\n",
    "import fnmatch\n",
    "from multiprocessing import Pool\n",
    "from pathlib import Path\n",
    "import os, itertools\n",
    "from typing import *\n",
    "from tqdm.notebook import tqdm\n",
    "from importlib import reload\n",
    "from pickle import dumps, loads, dump, load\n",
    "\n",
    "from stexls import *"
   ]
  },
  {
   "cell_type": "code",
   "execution_count": 2,
   "metadata": {},
   "outputs": [],
   "source": [
    "%rm /tmp/linker.bin"
   ]
  },
  {
   "cell_type": "code",
   "execution_count": 3,
   "metadata": {},
   "outputs": [],
   "source": [
    "root = Path.home()/'MathHub'"
   ]
  },
  {
   "cell_type": "code",
   "execution_count": null,
   "metadata": {
    "scrolled": true
   },
   "outputs": [
    {
     "name": "stdout",
     "output_type": "stream",
     "text": [
      "[Errno 2] No such file or directory: '/tmp/linker.bin'\n"
     ]
    },
    {
     "data": {
      "application/vnd.jupyter.widget-view+json": {
       "model_id": "3de97da7283c4afe9dc9a0f2de27db5b",
       "version_major": 2,
       "version_minor": 0
      },
      "text/plain": [
       "HBox(children=(FloatProgress(value=0.0, max=8009.0), HTML(value='')))"
      ]
     },
     "metadata": {},
     "output_type": "display_data"
    },
    {
     "name": "stdout",
     "output_type": "stream",
     "text": [
      "\n"
     ]
    },
    {
     "data": {
      "application/vnd.jupyter.widget-view+json": {
       "model_id": "01ad09aefb564ae6a681dcb23da0b560",
       "version_major": 2,
       "version_minor": 0
      },
      "text/plain": [
       "HBox(children=(FloatProgress(value=0.0, max=8009.0), HTML(value='')))"
      ]
     },
     "metadata": {},
     "output_type": "display_data"
    },
    {
     "name": "stdout",
     "output_type": "stream",
     "text": [
      "\n"
     ]
    },
    {
     "data": {
      "application/vnd.jupyter.widget-view+json": {
       "model_id": "146f9e0fb8d944118f9ac46f00c17438",
       "version_major": 2,
       "version_minor": 0
      },
      "text/plain": [
       "HBox(children=(FloatProgress(value=0.0, max=5818.0), HTML(value='')))"
      ]
     },
     "metadata": {},
     "output_type": "display_data"
    }
   ],
   "source": [
    "try:\n",
    "    with open('/tmp/linker.bin', 'rb') as fd:\n",
    "        linker = load(fd)\n",
    "except Exception as e:\n",
    "    print(e)\n",
    "    linker = Linker(root=root, file_pattern='**/*.tex')\n",
    "    print(linker.update(progress=tqdm, use_multiprocessing=True))\n",
    "    with open('/tmp/linker.bin', 'w+b') as fd:\n",
    "        dump(linker, fd)\n"
   ]
  },
  {
   "cell_type": "code",
   "execution_count": null,
   "metadata": {},
   "outputs": [],
   "source": [
    "%ls -ahl /tmp/linker.bin"
   ]
  },
  {
   "cell_type": "code",
   "execution_count": null,
   "metadata": {
    "scrolled": true
   },
   "outputs": [],
   "source": [
    "for o, link in linker.links.items():\n",
    "    if link.errors:\n",
    "        for loc, errs in link.errors.items():\n",
    "            for err in errs:\n",
    "                print(loc.format_link(True, root), err)\n",
    "            print()\n",
    "            print('-'*80)\n",
    "            print()"
   ]
  },
  {
   "cell_type": "code",
   "execution_count": null,
   "metadata": {
    "scrolled": true
   },
   "outputs": [],
   "source": [
    "proglang_path = Path('/home/marian/MathHub/MiKoMH/KWARC/source/missing/en/proglang.tex')\n",
    "for proglang_object in linker.objects[proglang_path]:\n",
    "    proglang_link = linker.links[proglang_object]\n",
    "proglang_order = linker.build_orders[proglang_object]"
   ]
  },
  {
   "cell_type": "code",
   "execution_count": null,
   "metadata": {
    "scrolled": false
   },
   "outputs": [],
   "source": [
    "microML_path = Path('/home/marian/MathHub/MiKoMH/GenCS/source/machines/en/microML.tex')\n",
    "for microML_object in linker.objects[microML_path]:\n",
    "    microML_link = linker.links[microML_object]\n",
    "microML_order = linker.build_orders[microML_object]"
   ]
  },
  {
   "cell_type": "code",
   "execution_count": null,
   "metadata": {},
   "outputs": [],
   "source": [
    "p = latex.parser.LatexParser(Path('/home/marian/MathHub/MiKoMH/IWGS/source/progintro/en/pythonanywhere.tex'))\n",
    "p.parse()\n",
    "p.root.children[-1].children[-1].children[1].children[2].children[2]"
   ]
  },
  {
   "cell_type": "code",
   "execution_count": null,
   "metadata": {},
   "outputs": [],
   "source": [
    "for o in linker.objects[Path('/home/marian/MathHub/MiKoMH/IWGS/source/progintro/en/pythonanywhere.tex')]:\n",
    "    print(o.format())"
   ]
  },
  {
   "cell_type": "code",
   "execution_count": null,
   "metadata": {},
   "outputs": [],
   "source": [
    "for o in linker.objects[Path('/home/marian/MathHub/MiKoMH/GenICT/source/python/en/methods.tex')]:\n",
    "    print(o.format())"
   ]
  },
  {
   "cell_type": "code",
   "execution_count": null,
   "metadata": {},
   "outputs": [],
   "source": [
    "linker.info('/home/marian/MathHub/MiKoMH/GenICT/source/python/en/methods.tex')"
   ]
  }
 ],
 "metadata": {
  "kernelspec": {
   "display_name": "Python 3",
   "language": "python",
   "name": "python3"
  },
  "language_info": {
   "codemirror_mode": {
    "name": "ipython",
    "version": 3
   },
   "file_extension": ".py",
   "mimetype": "text/x-python",
   "name": "python",
   "nbconvert_exporter": "python",
   "pygments_lexer": "ipython3",
   "version": "3.7.5"
  }
 },
 "nbformat": 4,
 "nbformat_minor": 2
}
