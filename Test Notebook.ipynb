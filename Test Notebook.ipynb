{
 "cells": [
  {
   "cell_type": "code",
   "execution_count": 1,
   "metadata": {},
   "outputs": [],
   "source": [
    "import json\n",
    "from glob import glob\n",
    "import fnmatch\n",
    "from multiprocessing import Pool\n",
    "from pathlib import Path\n",
    "import os, itertools\n",
    "from typing import *\n",
    "from tqdm.notebook import tqdm\n",
    "from importlib import reload\n",
    "from pickle import dumps, loads, dump, load\n",
    "\n",
    "from stexls import *"
   ]
  },
  {
   "cell_type": "code",
   "execution_count": 2,
   "metadata": {},
   "outputs": [],
   "source": [
    "%rm /tmp/linker.bin"
   ]
  },
  {
   "cell_type": "code",
   "execution_count": 3,
   "metadata": {},
   "outputs": [],
   "source": [
    "root = Path.home()/'MathHub'"
   ]
  },
  {
   "cell_type": "code",
   "execution_count": 4,
   "metadata": {
    "scrolled": true
   },
   "outputs": [
    {
     "name": "stdout",
     "output_type": "stream",
     "text": [
      "[Errno 2] No such file or directory: '/tmp/linker.bin'\n"
     ]
    },
    {
     "data": {
      "application/vnd.jupyter.widget-view+json": {
       "model_id": "21eae405b71b43d99df26ebbad7d2100",
       "version_major": 2,
       "version_minor": 0
      },
      "text/plain": [
       "HBox(children=(FloatProgress(value=0.0, max=8009.0), HTML(value='')))"
      ]
     },
     "metadata": {},
     "output_type": "display_data"
    },
    {
     "name": "stdout",
     "output_type": "stream",
     "text": [
      "\n"
     ]
    },
    {
     "data": {
      "application/vnd.jupyter.widget-view+json": {
       "model_id": "a60b75d6bd2f4c799eb4ee5cc3960848",
       "version_major": 2,
       "version_minor": 0
      },
      "text/plain": [
       "HBox(children=(FloatProgress(value=0.0, max=8009.0), HTML(value='')))"
      ]
     },
     "metadata": {},
     "output_type": "display_data"
    },
    {
     "name": "stdout",
     "output_type": "stream",
     "text": [
      "\n"
     ]
    },
    {
     "data": {
      "application/vnd.jupyter.widget-view+json": {
       "model_id": "04f6d743be30471eb7973f8cf93db279",
       "version_major": 2,
       "version_minor": 0
      },
      "text/plain": [
       "HBox(children=(FloatProgress(value=0.0, max=5823.0), HTML(value='')))"
      ]
     },
     "metadata": {},
     "output_type": "display_data"
    },
    {
     "name": "stdout",
     "output_type": "stream",
     "text": [
      "/home/marian/MathHub/MiKoMH/AI/source/ml/en/brains.tex:2:3: File not indexed:\"/home/marian/MathHub/BaseMH/physics/source/units/en/time.tex\"\n",
      "/home/marian/MathHub/MiKoMH/AI/source/ml/en/brains.tex:3:3: File not indexed:\"/home/marian/MathHub/BaseMH/physics/source/units/en/qranges.tex\"\n",
      "/home/marian/MathHub/MiKoMH/AI/source/ml/en/brains.tex:4:3: File not indexed:\"/home/marian/MathHub/BaseMH/physics/source/units/en/siunits-prefixed.tex\"\n",
      "Undefined module: \"linear-regression-intro/MODULE\" not defined in \"/home/marian/MathHub/MiKoMH/AI/source/ml/en/linear-regression-intro.tex\"\n",
      "/home/marian/MathHub/MiKoMH/GenCS/source/memory/en/bitbyte.tex:2:1: File not indexed:\"/home/marian/MathHub/BaseMH/physics/source/units/en/quantities.tex\"\n",
      "/home/marian/MathHub/MiKoMH/CAPL/source/course/fragments/acknowledgements.tex:18:5: File not indexed:\"/home/marian/MathHub/MiKoMH/CAPL/source/sTeX/en/sTeX-approach.tex\"\n",
      "Undefined module: \"symtax-base/MODULE\" not defined in \"/home/marian/MathHub/MiKoMH/GenCS/source/logic/en/syntax-base.tex\"\n",
      "/home/marian/MathHub/MiKoMH/GenCS/source/course/de/CS-sample-performance.tex:2:1: File not indexed:\"/home/marian/MathHub/BaseMH/physics/source/units/en/time.tex\"\n",
      "/home/marian/MathHub/MiKoMH/GenCS/source/course/de/CS-sample-performance.tex:3:1: File not indexed:\"/home/marian/MathHub/BaseMH/physics/source/units/en/siunits-prefixed.tex\"\n",
      "/home/marian/MathHub/MiKoMH/CompLog/source/pl1/en/alpharenaming.tex:2:1: File not indexed:\"/home/marian/MathHub/smglom/smglom/source/alpharenaming.tex\"\n",
      "/home/marian/MathHub/MiKoMH/CompLog/source/stlc/en/lambda-calc-syntax.tex:6:1: File not indexed:\"/home/marian/MathHub/smglom/smglom/source/alpharenaming.tex\"\n",
      "Undefined module: \"aboxes/MODULE\" not defined in \"/home/marian/MathHub/MiKoMH/CompLog/source/kr/en/aboxes.tex\"\n",
      "/home/marian/MathHub/smglom/chevahir/source/maximaltorus.tex:2:1: File not indexed:\"/home/marian/MathHub/smglom/algebra/source/algebraictorus.tex\"\n",
      "/home/marian/MathHub/MiKoMH/CompLog/source/trs/en/intro.tex:2:1: File not indexed:\"/home/marian/MathHub/smglom/smglom/source/abstract-reduction-system.tex\"\n",
      "/home/marian/MathHub/MiKoMH/talks/source/arxmliv/en/arxmliv.tex:6:1: File not indexed:\"/home/marian/MathHub/BaseMH/physics/source/units/en/siunits-prefixed.tex\"\n",
      "Undefined module: \"dl-ontology/MODULE\" not defined in \"/home/marian/MathHub/MiKoMH/CompLog/source/kr/en/ontology.tex\"\n",
      "/home/marian/MathHub/MiKoMH/talks/source/jobad/en/cooking-recipe.tex:10:1: File not indexed:\"/home/marian/MathHub/BaseMH/physics/source/units/en/time.tex\"\n",
      "/home/marian/MathHub/MiKoMH/talks/source/jobad/en/cooking-recipe.tex:11:1: File not indexed:\"/home/marian/MathHub/BaseMH/physics/source/units/en/temperature.tex\"\n",
      "Undefined module: \"inducitive-learning/MODULE\" not defined in \"/home/marian/MathHub/MiKoMH/AI/source/ml/en/inductive-learning.tex\"\n",
      "Undefined module: \"OMDoc-nutshell/MODULE\" not defined in \"/home/marian/MathHub/MiKoMH/talks/source/omdoc/en/nutshell.tex\"\n",
      "/home/marian/MathHub/MiKoMH/CompLog/source/trs/en/confluent.tex:2:1: File not indexed:\"/home/marian/MathHub/smglom/smglom/source/abstract-reduction-system.tex\"\n",
      "/home/marian/MathHub/smglom/categories/source/tikz/exponential.tex:6:1: File not indexed:\"/home/marian/MathHub/smglom/categories/source/tikz/cat-exponential.tex\"\n",
      "/home/marian/MathHub/MiKoMH/CAPL/source/course/de/CS-sample-performance.tex:2:1: File not indexed:\"/home/marian/MathHub/MiKoMH/CAPL/source/units/en/time.tex\"\n",
      "/home/marian/MathHub/MiKoMH/CAPL/source/course/de/CS-sample-performance.tex:3:1: File not indexed:\"/home/marian/MathHub/MiKoMH/CAPL/source/units/en/siunits-prefixed.tex\"\n",
      "Undefined module: \"diffie-hellman-color/MODULE\" not defined in \"/home/marian/MathHub/MiKoMH/GenCS/source/encryption/de/diffie-hellman-color.tex\"\n",
      "/home/marian/MathHub/MiKoMH/GenCS/source/graphs-trees/en/balanced-binary-trees.tex:7:5: File not indexed:\"/home/marian/MathHub/MiKoMH/GenCS/source/search/en/ts-algo.tex\"\n",
      "Undefined module: \"BNF/MODULE\" not defined in \"/home/marian/MathHub/MiKoMH/ACS/source/cfl/en/cfg.tex\"\n",
      "/home/marian/MathHub/MiKoMH/CAPL/source/course/en/ap.tex:26:7: File not indexed:\"/home/marian/MathHub/MiKoMH/CAPL/source/missing/en/proglang.tex\"\n",
      "/home/marian/MathHub/MiKoMH/GenCS/source/memory/en/units-information.tex:5:1: File not indexed:\"/home/marian/MathHub/BaseMH/physics/source/units/en/siunits-prefixed.tex\"\n",
      "/home/marian/MathHub/MiKoMH/GenCS/source/memory/en/units-information.tex:64:7: File not indexed:\"/home/marian/MathHub/BaseMH/physics/source/units/en/siunits-prefixed.tex\"\n",
      "/home/marian/MathHub/MiKoMH/talks/source/physml/en/physml-theories.tex:2:3: File not indexed:\"/home/marian/MathHub/BaseMH/physics/source/units/en/temperature.tex\"\n",
      "Undefined module: \"diffie-hellman-color/MODULE\" not defined in \"/home/marian/MathHub/MiKoMH/GenCS/source/encryption/en/diffie-hellman-color.tex\"\n",
      "Undefined module: \"alphabeta/MODULE\" not defined in \"/home/marian/MathHub/MiKoMH/AI/source/game-play/en/alphabeta.tex\"\n",
      "Undefined module: \"sqlite-parasubts/MODULE\" not defined in \"/home/marian/MathHub/MiKoMH/IWGS/source/databases/en/sqlite-parasubst.tex\"\n",
      "/home/marian/MathHub/MiKoMH/talks/source/mathml/en/mathml-unicode.tex:4:1: File not indexed:\"/home/marian/MathHub/MiKoMH/talks/source/pns/en/PNS-common.tex\"\n",
      "/home/marian/MathHub/MiKoMH/TDM/source/vc/en/vc-motivation.tex:4:3: File not indexed:\"/home/marian/MathHub/BaseMH/physics/source/units/en/siunits-prefixed.tex\"\n",
      "/home/marian/MathHub/MiKoMH/CAPL/source/course/en/resources.tex:2:1: File not indexed:\"/home/marian/MathHub/MiKoMH/CAPL/source/planetary/en/pantarhei.tex\"\n",
      "/home/marian/MathHub/MiKoMH/CAPL/source/course/en/resources.tex:3:1: File not indexed:\"/home/marian/MathHub/MiKoMH/CAPL/source/missing/en/systems.tex\"\n",
      "Undefined module: \"aboxes/MODULE\" not defined in \"/home/marian/MathHub/MiKoMH/CompLog/source/kr/en/aboxes.tex\"\n",
      "/home/marian/MathHub/MiKoMH/AI/source/prolog/en/kb-repn.tex:3:1: File not indexed:\"/home/marian/MathHub/MiKoMH/AI/source/pl0/en/HilbertCalc.tex\"\n",
      "/home/marian/MathHub/MiKoMH/AI/source/prolog/en/kb-repn.tex:4:1: File not indexed:\"/home/marian/MathHub/MiKoMH/AI/source/pl0/en/adt-pl0-example.tex\"\n",
      "/home/marian/MathHub/MiKoMH/AI/source/prolog/en/kb-repn.tex:5:1: File not indexed:\"/home/marian/MathHub/MiKoMH/AI/source/logic/en/formal-system.tex\"\n",
      "Undefined module: \"decisions-network/MODULE\" not defined in \"/home/marian/MathHub/MiKoMH/AI/source/rational-decisions/en/decision-network.tex\"\n",
      "Undefined module: \"gitlabhub/MODULE\" not defined in \"/home/marian/MathHub/MiKoMH/IWGS/source/vci/en/gitlabhub.tex\"\n",
      "/home/marian/MathHub/MiKoMH/talks/source/mws/en/index-statistics.tex:3:1: File not indexed:\"/home/marian/MathHub/BaseMH/physics/source/units/en/time.tex\"\n",
      "/home/marian/MathHub/MiKoMH/talks/source/mws/en/index-statistics.tex:4:1: File not indexed:\"/home/marian/MathHub/BaseMH/physics/source/units/en/siunits-prefixed.tex\"\n",
      "/home/marian/MathHub/MiKoMH/CAPL/source/course/en/ap.tex:26:7: File not indexed:\"/home/marian/MathHub/MiKoMH/CAPL/source/missing/en/proglang.tex\"\n",
      "Undefined module: \"authentication/MODULE\" not defined in \"/home/marian/MathHub/MiKoMH/SecDep/source/auth/en/ssh-authentication.tex\"\n",
      "Undefined module: \"category/MODULE\" not defined in \"/home/marian/MathHub/MiKoMH/KRMT/source/categories/en/category.tex\"\n",
      "Undefined module: \"landau-sets/MODULE\" not defined in \"/home/marian/MathHub/MiKoMH/GenCS/source/dmath/en/landau-sets.tex\"\n",
      "Undefined module: \"substapp-wellsorted/MODULE\" not defined in \"/home/marian/MathHub/MiKoMH/GenCS/source/adt/en/substapp-wellsorted.tex\"\n",
      "Undefined module: \"library-exports/MODULE\" not defined in \"/home/marian/MathHub/MiKoMH/talks/source/oaf/en/library-exports.tex\"\n",
      "Undefined module: \"abstract-consistency/MODULE\" not defined in \"/home/marian/MathHub/MiKoMH/CompLog/source/hopl/en/abstract-consistency.tex\"\n",
      "Undefined module: \"physml-observables/MODULE\" not defined in \"/home/marian/MathHub/MiKoMH/talks/source/physml/en/nutshell.tex\"\n",
      "/home/marian/MathHub/MiKoMH/SecDep/source/errors/en/effects.tex:3:3: File not indexed:\"/home/marian/MathHub/KwarcMH/SiSsI/source/winograd/cds/money.tex\"\n",
      "Undefined module: \"modal-logic-ideas/MODULE\" not defined in \"/home/marian/MathHub/MiKoMH/CompLog/source/modallogic/en/modal-data.tex\"\n",
      "Undefined module: \"aboxes/MODULE\" not defined in \"/home/marian/MathHub/MiKoMH/CompLog/source/kr/en/aboxes.tex\"\n"
     ]
    },
    {
     "name": "stdout",
     "output_type": "stream",
     "text": [
      "/home/marian/MathHub/MiKoMH/GenCS/source/legal/en/gdpr.tex:4:1: File not indexed:\"/home/marian/MathHub/KwarcMH/SiSsi/source/winograd/cds/money.tex\"\n",
      "/home/marian/MathHub/MiKoMH/GenCS/source/legal/en/gdpr.tex:5:1: File not indexed:\"/home/marian/MathHub/BaseMH/physics/source/units/en/siunits-prefixed.tex\"\n",
      "/home/marian/MathHub/MiKoMH/CAPL/source/course/fragments/proglang.tex:4:1: File not indexed:\"/home/marian/MathHub/MiKoMH/CAPL/source/machines/en/microML.tex\"\n",
      "/home/marian/MathHub/MiKoMH/CAPL/source/course/fragments/proglang.tex:5:1: File not indexed:\"/home/marian/MathHub/MiKoMH/CAPL/source/machines/en/SW-intro.tex\"\n",
      "/home/marian/MathHub/MiKoMH/CAPL/source/course/fragments/proglang.tex:6:1: File not indexed:\"/home/marian/MathHub/MiKoMH/CAPL/source/machines/en/VM-intro.tex\"\n",
      "/home/marian/MathHub/MiKoMH/CAPL/source/course/fragments/proglang.tex:7:1: File not indexed:\"/home/marian/MathHub/MiKoMH/CAPL/source/machines/en/asm-base.tex\"\n",
      "/home/marian/MathHub/MiKoMH/CAPL/source/course/fragments/proglang.tex:29:3: File not indexed:\"/home/marian/MathHub/MiKoMH/CAPL/source/SML/en/SML-basics.tex\"\n",
      "/home/marian/MathHub/MiKoMH/talks/source/formalcad/en/flange-ontology.tex:2:1: File not indexed:\"/home/marian/MathHub/KwarcMH/FormalCAD/source/flange/cds/ISOmetricthread.tex\"\n",
      "/home/marian/MathHub/MiKoMH/talks/source/arxmliv/en/applications.tex:4:1: File not indexed:\"/home/marian/MathHub/BaseMH/physics/source/units/en/time.tex\"\n",
      "/home/marian/MathHub/MiKoMH/TDM/source/digdocs/en/epub-ncx.ex.tex:2:3: File not indexed:\"/home/marian/MathHub/MiKoMH/TDM/source/digdocs/en/epub-ops.tex\"\n",
      "/home/marian/MathHub/MiKoMH/CompLog/source/atp1/en/west-criminal-ex.tex:18:7: File not indexed:\"/home/marian/MathHub/BaseMH/physics/source/units/en/time.tex\"\n",
      "/home/marian/MathHub/MiKoMH/CompLog/source/atp1/en/west-criminal-ex.tex:19:7: File not indexed:\"/home/marian/MathHub/BaseMH/physics/source/units/en/siunits-prefixed.tex\"\n",
      "Undefined module: \"yacc/MODULE\" not defined in \"/home/marian/MathHub/MiKoMH/TDM/source/doccomp/en/yacc.tex\"\n",
      "/home/marian/MathHub/MiKoMH/CAPL/source/course/fragments/concept.tex:12:5: File not indexed:\"/home/marian/MathHub/MiKoMH/CAPL/source/missing/en/proglang.tex\"\n",
      "Undefined module: \"python-nutshell/MODULE\" not defined in \"/home/marian/MathHub/MiKoMH/GenICT/source/programming/en/genict-python.tex\"\n",
      "Undefined module: \"aboxes/MODULE\" not defined in \"/home/marian/MathHub/MiKoMH/CompLog/source/kr/en/aboxes.tex\"\n",
      "/home/marian/MathHub/MiKoMH/CAPL/source/course/fragments/overview.tex:2:1: File not indexed:\"/home/marian/MathHub/MiKoMH/CAPL/source/SML/en/SML-basics.tex\"\n",
      "Undefined module: \"symtax-base/MODULE\" not defined in \"/home/marian/MathHub/MiKoMH/GenCS/source/logic/en/syntax-base.tex\"\n",
      "Undefined module: \"VMarithmetic/MODULE\" not defined in \"/home/marian/MathHub/MiKoMH/GenCS/source/machines/en/VM-arithmetic.tex\"\n",
      "/home/marian/MathHub/MiKoMH/CAPL/source/course/fragments/contents.tex:2:3: File not indexed:\"/home/marian/MathHub/MiKoMH/CAPL/source/missing/en/proglang.tex\"\n",
      "/home/marian/MathHub/MiKoMH/talks/source/physml/de/physml-theories.tex:2:3: File not indexed:\"/home/marian/MathHub/BaseMH/physics/source/units/en/temperature.tex\"\n",
      "Undefined module: \"OEIS-generating-functions/MODULE\" not defined in \"/home/marian/MathHub/MiKoMH/talks/source/OEIS/en/generating-functions.tex\"\n",
      "Undefined module: \"dtl-ago/MODULE\" not defined in \"/home/marian/MathHub/MiKoMH/AI/source/ml/en/dtl-algo.tex\"\n",
      "Undefined module: \"DPLLvsResolution/MODULE\" not defined in \"/home/marian/MathHub/MiKoMH/AI/source/logic/en/DPLLvsResolution-ex.tex\"\n",
      "/home/marian/MathHub/MiKoMH/CompLog/source/trs/en/commuting.tex:2:1: File not indexed:\"/home/marian/MathHub/smglom/smglom/source/abstract-reduction-system.tex\"\n",
      "/home/marian/MathHub/MiKoMH/GenCS/source/course/en/CS-sample-performance.tex:2:1: File not indexed:\"/home/marian/MathHub/BaseMH/physics/source/units/en/time.tex\"\n",
      "/home/marian/MathHub/MiKoMH/GenCS/source/course/en/CS-sample-performance.tex:3:1: File not indexed:\"/home/marian/MathHub/BaseMH/physics/source/units/en/siunits-prefixed.tex\"\n",
      "Undefined module: \"goalbased-agent/MODULE\" not defined in \"/home/marian/MathHub/MiKoMH/AI/source/rational-agents/en/goal-based-agent.tex\"\n",
      "Undefined module: \"entailment-thm/MODULE\" not defined in \"/home/marian/MathHub/MiKoMH/GenCS/source/pl0/en/entailment-thm.tex\"\n",
      "/home/marian/MathHub/smglom/categories/source/tikz/product.tex:6:1: File not indexed:\"/home/marian/MathHub/smglom/categories/source/tikz/cat-product.tex\"\n",
      "\n",
      "{}\n"
     ]
    }
   ],
   "source": [
    "try:\n",
    "    with open('/tmp/linker.bin', 'rb') as fd:\n",
    "        linker = load(fd)\n",
    "except Exception as e:\n",
    "    print(e)\n",
    "    linker = Linker(root=root, file_pattern='**/*.tex')\n",
    "    print(linker.update(progress=tqdm, use_multiprocessing=True))\n",
    "    with open('/tmp/linker.bin', 'w+b') as fd:\n",
    "        dump(linker, fd)"
   ]
  },
  {
   "cell_type": "code",
   "execution_count": 5,
   "metadata": {},
   "outputs": [
    {
     "name": "stdout",
     "output_type": "stream",
     "text": [
      "-rw-rw-r-- 1 marian marian 69M Apr  7 17:46 /tmp/linker.bin\r\n"
     ]
    }
   ],
   "source": [
    "%ls -ahl /tmp/linker.bin"
   ]
  },
  {
   "cell_type": "code",
   "execution_count": 6,
   "metadata": {},
   "outputs": [],
   "source": [
    "path = root / Path('MiKoMH/talks/source/sTeX/en/sTeX-approach.tex')"
   ]
  },
  {
   "cell_type": "code",
   "execution_count": 10,
   "metadata": {},
   "outputs": [],
   "source": [
    "linker.view_import_graph(path)"
   ]
  },
  {
   "cell_type": "code",
   "execution_count": 8,
   "metadata": {
    "scrolled": false
   },
   "outputs": [
    {
     "data": {
      "application/vnd.jupyter.widget-view+json": {
       "model_id": "33d1ffb5e8a4430285e902011017e1b7",
       "version_major": 2,
       "version_minor": 0
      },
      "text/plain": [
       "HBox(children=(FloatProgress(value=1.0, bar_style='info', max=1.0), HTML(value='')))"
      ]
     },
     "metadata": {},
     "output_type": "display_data"
    },
    {
     "data": {
      "application/vnd.jupyter.widget-view+json": {
       "model_id": "9f3709e3a64c45eab22ef0dacc4160fe",
       "version_major": 2,
       "version_minor": 0
      },
      "text/plain": [
       "HBox(children=(FloatProgress(value=1.0, bar_style='info', max=1.0), HTML(value='')))"
      ]
     },
     "metadata": {},
     "output_type": "display_data"
    },
    {
     "data": {
      "application/vnd.jupyter.widget-view+json": {
       "model_id": "1d8e46c8f91c4521adcd88461f738dd7",
       "version_major": 2,
       "version_minor": 0
      },
      "text/plain": [
       "HBox(children=(FloatProgress(value=1.0, bar_style='info', max=1.0), HTML(value='')))"
      ]
     },
     "metadata": {},
     "output_type": "display_data"
    },
    {
     "name": "stdout",
     "output_type": "stream",
     "text": [
      "\n"
     ]
    },
    {
     "data": {
      "text/plain": [
       "{}"
      ]
     },
     "execution_count": 8,
     "metadata": {},
     "output_type": "execute_result"
    }
   ],
   "source": [
    "linker.update(tqdm)"
   ]
  },
  {
   "cell_type": "code",
   "execution_count": 9,
   "metadata": {},
   "outputs": [
    {
     "name": "stdout",
     "output_type": "stream",
     "text": [
      "\n",
      "\n"
     ]
    },
    {
     "ename": "TypeError",
     "evalue": "'LinkError' object is not iterable",
     "output_type": "error",
     "traceback": [
      "\u001b[0;31m---------------------------------------------------------------------------\u001b[0m",
      "\u001b[0;31mTypeError\u001b[0m                                 Traceback (most recent call last)",
      "\u001b[0;32m<ipython-input-9-cbe6b8473414>\u001b[0m in \u001b[0;36m<module>\u001b[0;34m\u001b[0m\n\u001b[1;32m      1\u001b[0m \u001b[0;32mfor\u001b[0m \u001b[0mobject\u001b[0m \u001b[0;32min\u001b[0m \u001b[0mlinker\u001b[0m\u001b[0;34m.\u001b[0m\u001b[0mobjects\u001b[0m\u001b[0;34m[\u001b[0m\u001b[0mpath\u001b[0m\u001b[0;34m]\u001b[0m\u001b[0;34m:\u001b[0m\u001b[0;34m\u001b[0m\u001b[0;34m\u001b[0m\u001b[0m\n\u001b[0;32m----> 2\u001b[0;31m     \u001b[0mprint\u001b[0m\u001b[0;34m(\u001b[0m\u001b[0mlinker\u001b[0m\u001b[0;34m.\u001b[0m\u001b[0mlinks\u001b[0m\u001b[0;34m[\u001b[0m\u001b[0mobject\u001b[0m\u001b[0;34m]\u001b[0m\u001b[0;34m.\u001b[0m\u001b[0mformat\u001b[0m\u001b[0;34m(\u001b[0m\u001b[0;34m)\u001b[0m\u001b[0;34m)\u001b[0m\u001b[0;34m\u001b[0m\u001b[0;34m\u001b[0m\u001b[0m\n\u001b[0m\u001b[1;32m      3\u001b[0m     \u001b[0mprint\u001b[0m\u001b[0;34m(\u001b[0m\u001b[0;34m)\u001b[0m\u001b[0;34m\u001b[0m\u001b[0;34m\u001b[0m\u001b[0m\n\u001b[1;32m      4\u001b[0m     \u001b[0mprint\u001b[0m\u001b[0;34m(\u001b[0m\u001b[0;34m'-'\u001b[0m\u001b[0;34m*\u001b[0m\u001b[0;36m80\u001b[0m\u001b[0;34m)\u001b[0m\u001b[0;34m\u001b[0m\u001b[0;34m\u001b[0m\u001b[0m\n\u001b[1;32m      5\u001b[0m     \u001b[0mprint\u001b[0m\u001b[0;34m(\u001b[0m\u001b[0;34m)\u001b[0m\u001b[0;34m\u001b[0m\u001b[0;34m\u001b[0m\u001b[0m\n",
      "\u001b[0;32m~/projects/trefier/stexls/stexls/compiler/compiler.py\u001b[0m in \u001b[0;36mformat\u001b[0;34m(self)\u001b[0m\n\u001b[1;32m    350\u001b[0m         \u001b[0;32melse\u001b[0m\u001b[0;34m:\u001b[0m\u001b[0;34m\u001b[0m\u001b[0;34m\u001b[0m\u001b[0m\n\u001b[1;32m    351\u001b[0m             \u001b[0;32mfor\u001b[0m \u001b[0mlocation\u001b[0m\u001b[0;34m,\u001b[0m \u001b[0merrors\u001b[0m \u001b[0;32min\u001b[0m \u001b[0mself\u001b[0m\u001b[0;34m.\u001b[0m\u001b[0merrors\u001b[0m\u001b[0;34m.\u001b[0m\u001b[0mitems\u001b[0m\u001b[0;34m(\u001b[0m\u001b[0;34m)\u001b[0m\u001b[0;34m:\u001b[0m\u001b[0;34m\u001b[0m\u001b[0;34m\u001b[0m\u001b[0m\n\u001b[0;32m--> 352\u001b[0;31m                 \u001b[0;32mfor\u001b[0m \u001b[0merror\u001b[0m \u001b[0;32min\u001b[0m \u001b[0merrors\u001b[0m\u001b[0;34m:\u001b[0m\u001b[0;34m\u001b[0m\u001b[0;34m\u001b[0m\u001b[0m\n\u001b[0m\u001b[1;32m    353\u001b[0m                     \u001b[0mformatted\u001b[0m \u001b[0;34m+=\u001b[0m \u001b[0;34mf'\\n\\t{location.format_link(True, self.root)}:{error}'\u001b[0m\u001b[0;34m\u001b[0m\u001b[0;34m\u001b[0m\u001b[0m\n\u001b[1;32m    354\u001b[0m \u001b[0;34m\u001b[0m\u001b[0m\n",
      "\u001b[0;31mTypeError\u001b[0m: 'LinkError' object is not iterable"
     ]
    }
   ],
   "source": [
    "for object in linker.objects[path]:\n",
    "    print(linker.links[object].format())\n",
    "    print()\n",
    "    print('-'*80)\n",
    "    print()"
   ]
  }
 ],
 "metadata": {
  "kernelspec": {
   "display_name": "Python 3",
   "language": "python",
   "name": "python3"
  },
  "language_info": {
   "codemirror_mode": {
    "name": "ipython",
    "version": 3
   },
   "file_extension": ".py",
   "mimetype": "text/x-python",
   "name": "python",
   "nbconvert_exporter": "python",
   "pygments_lexer": "ipython3",
   "version": "3.7.5"
  }
 },
 "nbformat": 4,
 "nbformat_minor": 2
}
