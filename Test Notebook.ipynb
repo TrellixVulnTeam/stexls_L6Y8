{
 "cells": [
  {
   "cell_type": "code",
   "execution_count": 1,
   "metadata": {},
   "outputs": [
    {
     "name": "stdout",
     "output_type": "stream",
     "text": [
      "/home/marian/MathHub\n"
     ]
    }
   ],
   "source": [
    "import json\n",
    "from glob import glob\n",
    "import fnmatch\n",
    "from multiprocessing import Pool\n",
    "from pathlib import Path\n",
    "import os, itertools\n",
    "from typing import *\n",
    "from tqdm.notebook import tqdm\n",
    "from importlib import reload\n",
    "from pickle import dumps, loads, dump, load\n",
    "\n",
    "from stexls import *\n",
    "\n",
    "%cd ~/MathHub"
   ]
  },
  {
   "cell_type": "code",
   "execution_count": 2,
   "metadata": {},
   "outputs": [],
   "source": [
    "linker = Linker('smglom', limit=None)"
   ]
  },
  {
   "cell_type": "code",
   "execution_count": 3,
   "metadata": {},
   "outputs": [
    {
     "data": {
      "application/vnd.jupyter.widget-view+json": {
       "model_id": "c6369c3a4bb24f23b4e988995272bb91",
       "version_major": 2,
       "version_minor": 0
      },
      "text/plain": [
       "HBox(children=(FloatProgress(value=0.0, max=2918.0), HTML(value='')))"
      ]
     },
     "metadata": {},
     "output_type": "display_data"
    },
    {
     "name": "stdout",
     "output_type": "stream",
     "text": [
      "\n"
     ]
    },
    {
     "data": {
      "application/vnd.jupyter.widget-view+json": {
       "model_id": "99ab5794640b4fdf8db199778888f85b",
       "version_major": 2,
       "version_minor": 0
      },
      "text/plain": [
       "HBox(children=(FloatProgress(value=0.0, max=2918.0), HTML(value='')))"
      ]
     },
     "metadata": {},
     "output_type": "display_data"
    },
    {
     "name": "stdout",
     "output_type": "stream",
     "text": [
      "\n"
     ]
    },
    {
     "data": {
      "application/vnd.jupyter.widget-view+json": {
       "model_id": "82ee951b45044b91b61829e9e0d78b75",
       "version_major": 2,
       "version_minor": 0
      },
      "text/plain": [
       "HBox(children=(FloatProgress(value=0.0, max=2836.0), HTML(value='')))"
      ]
     },
     "metadata": {},
     "output_type": "display_data"
    },
    {
     "name": "stdout",
     "output_type": "stream",
     "text": [
      "smglom/chevahir/source/maximaltorus.tex:2:1: File not indexed:\"smglom/algebra/source/algebraictorus.tex\"\n",
      "smglom/IWGS/source/jupyterNB.tex:2:3: File not indexed:\"MiKoMH/TDM/source/digdocs/en/markdown.tex\"\n",
      "smglom/IWGS/source/jupyterNB.tex:3:3: File not indexed:\"MiKoMH/TDM/source/LaTeX/en/tex-packages.tex\"\n",
      "\n"
     ]
    },
    {
     "data": {
      "text/plain": [
       "{}"
      ]
     },
     "execution_count": 3,
     "metadata": {},
     "output_type": "execute_result"
    }
   ],
   "source": [
    "linker.update(progress=tqdm)"
   ]
  },
  {
   "cell_type": "code",
   "execution_count": null,
   "metadata": {},
   "outputs": [],
   "source": []
  }
 ],
 "metadata": {
  "kernelspec": {
   "display_name": "Python 3",
   "language": "python",
   "name": "python3"
  },
  "language_info": {
   "codemirror_mode": {
    "name": "ipython",
    "version": 3
   },
   "file_extension": ".py",
   "mimetype": "text/x-python",
   "name": "python",
   "nbconvert_exporter": "python",
   "pygments_lexer": "ipython3",
   "version": "3.7.5"
  }
 },
 "nbformat": 4,
 "nbformat_minor": 2
}
