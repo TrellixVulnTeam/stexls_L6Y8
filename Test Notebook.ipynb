{
 "cells": [
  {
   "cell_type": "code",
   "execution_count": 1,
   "metadata": {},
   "outputs": [],
   "source": [
    "import numpy as np\n",
    "from pathlib import Path\n",
    "import matplotlib.pyplot as plt\n",
    "from stexls.util.latex.tokenizer import LatexTokenizer\n",
    "from stexls.util.latex.parser import LatexParser\n",
    "from stexls.trefier import Seq2SeqModel\n",
    "from stexls.stex import Compiler"
   ]
  },
  {
   "cell_type": "code",
   "execution_count": 2,
   "metadata": {},
   "outputs": [],
   "source": [
    "mathhub = Path('~/MathHub').expanduser()\n",
    "out = Path('/tmp/out')"
   ]
  },
  {
   "cell_type": "code",
   "execution_count": 3,
   "metadata": {},
   "outputs": [],
   "source": [
    "balancedprime = mathhub / 'smglom/primes/source/balancedprime.en.tex'\n",
    "assert balancedprime.is_file()"
   ]
  },
  {
   "cell_type": "code",
   "execution_count": 4,
   "metadata": {},
   "outputs": [],
   "source": [
    "compiler = Compiler(mathhub, out)"
   ]
  },
  {
   "cell_type": "code",
   "execution_count": 5,
   "metadata": {},
   "outputs": [],
   "source": [
    "compiler.model = Seq2SeqModel.load('seq2seq.model')"
   ]
  },
  {
   "cell_type": "code",
   "execution_count": 6,
   "metadata": {},
   "outputs": [],
   "source": [
    "obj = compiler.compile(balancedprime)"
   ]
  },
  {
   "cell_type": "code",
   "execution_count": 7,
   "metadata": {},
   "outputs": [
    {
     "name": "stdout",
     "output_type": "stream",
     "text": [
      "[Range (3 2) (3 3)] Label for \"A\": 0.0 DiagnosticSeverity.Information\n",
      "[Range (3 28) (3 30)] Label for \"is\": 0.0 DiagnosticSeverity.Information\n",
      "[Range (3 31) (3 32)] Label for \"a\": 0.0 DiagnosticSeverity.Information\n",
      "[Range (3 69) (3 73)] Label for \"that\": 0.0 DiagnosticSeverity.Information\n",
      "[Range (3 74) (3 76)] Label for \"is\": 0.0 DiagnosticSeverity.Information\n",
      "[Range (3 77) (3 82)] Label for \"equal\": 0.0 DiagnosticSeverity.Information\n",
      "[Range (3 83) (3 85)] Label for \"to\": 0.0 DiagnosticSeverity.Information\n",
      "[Range (3 86) (3 89)] Label for \"the\": 0.0 DiagnosticSeverity.Information\n",
      "[Range (4 2) (4 12)] Label for \"arithmetic\": 0.01 DiagnosticSeverity.Information\n",
      "[Range (4 13) (4 17)] Label for \"mean\": 0.0 DiagnosticSeverity.Information\n",
      "[Range (4 18) (4 20)] Label for \"of\": 0.0 DiagnosticSeverity.Information\n",
      "[Range (4 21) (4 24)] Label for \"the\": 0.0 DiagnosticSeverity.Information\n",
      "[Range (4 25) (4 32)] Label for \"nearest\": 0.0 DiagnosticSeverity.Information\n",
      "[Range (4 33) (4 39)] Label for \"primes\": 0.0 DiagnosticSeverity.Information\n",
      "[Range (4 40) (4 45)] Label for \"above\": 0.0 DiagnosticSeverity.Information\n",
      "[Range (4 46) (4 49)] Label for \"and\": 0.0 DiagnosticSeverity.Information\n",
      "[Range (4 50) (4 55)] Label for \"below\": 0.0 DiagnosticSeverity.Information\n",
      "[Range (4 55) (4 56)] Label for \".\": 0.0 DiagnosticSeverity.Information\n",
      "[Range (5 2) (6 95)] Label for \"\\[\\eq{\\nPrimeNumber{n},\n",
      "      \\ratdivide[frac]{\\natplus{\\nPrimeNumber{\\natplus{n,1}},\\nPrimeNumber{\\natplus{n,1}}}}2}\\]\": 0.0 DiagnosticSeverity.Information\n",
      "[Range (7 2) (7 7)] Label for \"where\": 0.0 DiagnosticSeverity.Information\n",
      "[Range (7 8) (7 26)] Label for \"$\\nPrimeNumber{n}$\": 0.0 DiagnosticSeverity.Information\n",
      "[Range (7 27) (7 29)] Label for \"is\": 0.0 DiagnosticSeverity.Information\n",
      "[Range (7 30) (7 33)] Label for \"the\": 0.0 DiagnosticSeverity.Information\n",
      "[Range (7 34) (7 37)] Label for \"$n$\": 0.0 DiagnosticSeverity.Information\n",
      "[Range (7 37) (7 39)] Label for \"th\": 0.0 DiagnosticSeverity.Information\n",
      "[Range (7 40) (7 45)] Label for \"prime\": 1.0 DiagnosticSeverity.Information\n",
      "[Range (7 46) (7 52)] Label for \"number\": 1.0 DiagnosticSeverity.Information\n",
      "[Range (7 52) (7 53)] Label for \".\": 0.0 DiagnosticSeverity.Information\n",
      "[Range (2 3) (2 14)] Trefi argument count mismatch: Expected 1 vs. actual 2. DiagnosticSeverity.Error\n"
     ]
    }
   ],
   "source": [
    "for i in obj.diagnostics.diagnostics:\n",
    "    print(i.range, i.message, i.severity)"
   ]
  }
 ],
 "metadata": {
  "kernelspec": {
   "display_name": "Python 3",
   "language": "python",
   "name": "python3"
  },
  "language_info": {
   "codemirror_mode": {
    "name": "ipython",
    "version": 3
   },
   "file_extension": ".py",
   "mimetype": "text/x-python",
   "name": "python",
   "nbconvert_exporter": "python",
   "pygments_lexer": "ipython3",
   "version": "3.7.5"
  }
 },
 "nbformat": 4,
 "nbformat_minor": 4
}
