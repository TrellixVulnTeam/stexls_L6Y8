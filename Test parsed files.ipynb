{
 "cells": [
  {
   "cell_type": "code",
   "execution_count": 1,
   "metadata": {},
   "outputs": [
    {
     "name": "stdout",
     "output_type": "stream",
     "text": [
      "/home/marian/repositories\n"
     ]
    }
   ],
   "source": [
    "import json\n",
    "from glob import glob\n",
    "from multiprocessing import Pool\n",
    "from pathlib import Path\n",
    "import os\n",
    "from typing import *\n",
    "from tqdm.notebook import tqdm\n",
    "from importlib import reload\n",
    "from stexls.util import file_watcher\n",
    "from pickle import dumps, loads, dump, load\n",
    "\n",
    "from stexls.util.latex.parser import LatexParser\n",
    "\n",
    "from stexls import *\n",
    "\n",
    "%cd ~/repositories"
   ]
  },
  {
   "cell_type": "code",
   "execution_count": 9,
   "metadata": {},
   "outputs": [
    {
     "name": "stdout",
     "output_type": "stream",
     "text": [
      "\\begin{module}[id=resources]\r\n",
      "\\importmhmodule[mhrepos=MiKoMH/talks,dir=planetary/en]{pantarhei}\r\n",
      "\\importmhmodule[mhrepos=MiKoMH/KWARC,dir=missing/en]{systems} \r\n",
      "\r\n",
      "\\begin{note}\r\n",
      "\\begin{omtext}  \r\n",
      "  Even though the lecture itself will be the main source of information in the course,\r\n",
      "  there are various resources from which to study the material.\r\n",
      "\\end{omtext}\r\n",
      "\\end{note}\r\n",
      "\r\n",
      "\\begin{frame}[label=slide.resources]\r\n",
      "  \\frametitle{Textbooks, Handouts and Information, Forum}\r\n",
      "  \\begin{itemize}\r\n",
      "  \\item {\\red{No required textbook, but course notes, posted slides}}\r\n",
      "  \\item Course notes in PDF will be posted at\r\n",
      "    \\url{http://minds.jacobs-university.de/teaching/GenICTFall2015}\r\n",
      "  \\item Everything will be posted on $\\pantarhei$\\lec{Notes+assignments+course forum} \r\n",
      "    \\begin{itemize}\r\n",
      "    \\item announcements, contact information, course schedule and calendar\r\n",
      "    \\item discussion among your fellow students\\lec{careful, I will occasionally check for\r\n",
      "        academic integrity!}\r\n",
      "    \\item \\url{http://panta.kwarc.info}\\lec{use your Jacobs login}\r\n",
      "    \\end{itemize}\r\n",
      "    \\item \r\n",
      "      \\begin{omtext}[title=Set Up $\\pantarhei$ Access] to get notifications\r\n",
      "        \\begin{enumerate}\r\n",
      "        \\item Log into $\\pantarhei$, \r\n",
      "        \\item find the course \\lstinline|GenICT Fall 2015|, \r\n",
      "        \\item request membership \\lec{I will approve you}\r\n",
      "        \\end{enumerate}\r\n",
      "      \\end{omtext}\r\n",
      "    \\item if there are problems send e-mail me\\lec{\\url{mkohlhase@jacobs-university.de}}\r\n",
      "    \\end{itemize}\r\n",
      "\\end{frame}\r\n",
      "\r\n",
      "\\begin{note}\r\n",
      "  \\begin{omtext}[title=No Textbook]\r\n",
      "    There is no single textbook that covers the course. Instead we have a comprehensive\r\n",
      "    set of course notes (this document). They are provided in two forms: as a large $\\pdf$\r\n",
      "    that is posted at the course web page and on the $\\pantarhei$ system. The latter is\r\n",
      "    actually the preferred method of interaction with the course materials, since it\r\n",
      "    allows to discuss the material in place, to play with notations, to give feedback,\r\n",
      "    etc. The $\\pdf$ file is for printing and as a fallback, if the $\\pantarhei$ system,\r\n",
      "    which is still under development, develops problems.\r\n",
      "  \\end{omtext}\r\n",
      "\r\n",
      "  \\begin{omtext}\r\n",
      "    But of course, there is a wealth of literature on the subject, and the references at\r\n",
      "    the end of the lecture notes can serve as a starting point for further reading. We\r\n",
      "    will try to point out the relevant literature throughout the notes.\r\n",
      "  \\end{omtext}\r\n",
      "\\end{note}\r\n",
      "\\end{module}\r\n",
      "\r\n",
      "%%% Local Variables: \r\n",
      "%%% mode: LaTeX\r\n",
      "%%% TeX-master: t\r\n",
      "%%% End: \r\n",
      "\r\n",
      "% LocalWords: frametitle lec omtext itemize\r\n"
     ]
    }
   ],
   "source": [
    "%cat MiKoMH/GenICT/source/course/en/resources.tex"
   ]
  },
  {
   "cell_type": "code",
   "execution_count": 10,
   "metadata": {
    "scrolled": true
   },
   "outputs": [
    {
     "data": {
      "text/plain": [
       "{'path': PosixPath('MiKoMH/GenICT/source/course/en/resources.tex'),\n",
       " 'modsigs': [],\n",
       " 'modnls': [],\n",
       " 'modules': [[Module id=\"resources\"]],\n",
       " 'trefis': [],\n",
       " 'defis': [],\n",
       " 'syms': [],\n",
       " 'symdefs': [],\n",
       " 'importmodules': [[public ImportModule pantarhei from \"/home/marian/repositories/MiKoMH/talks/source/planetary/en/pantarhei.tex\"],\n",
       "  [public ImportModule systems from \"/home/marian/repositories/MiKoMH/KWARC/source/missing/en/systems.tex\"]],\n",
       " 'gimports': [],\n",
       " 'errors': defaultdict(list, {})}"
      ]
     },
     "execution_count": 10,
     "metadata": {},
     "output_type": "execute_result"
    }
   ],
   "source": [
    "importmhmodule = parse(Path('MiKoMH/GenICT/source/course/en/resources.tex'))\n",
    "importmhmodule.__dict__"
   ]
  },
  {
   "cell_type": "code",
   "execution_count": 3,
   "metadata": {},
   "outputs": [
    {
     "name": "stdout",
     "output_type": "stream",
     "text": [
      "\\begin{modsig}[creators=miko]{jupyterNB}\r\n",
      "  \\importmhmodule[mhrepos=MiKoMH/TDM,path=digdocs/en/markdown]{markdown}\r\n",
      "  \\importmhmodule[mhrepos=MiKoMH/TDM,path=LaTeX/en/tex-packages]{tex-packages}\r\n",
      "  \\gimport[smglom/computing]{code}\r\n",
      "  \\symii{jupyter}{notebook}\r\n",
      "\\end{modsig}\r\n",
      "%%% Local Variables:\r\n",
      "%%% mode: latex\r\n",
      "%%% TeX-master: t\r\n",
      "%%% End:\r\n"
     ]
    }
   ],
   "source": [
    "%cat smglom/IWGS/source/jupyterNB.tex"
   ]
  },
  {
   "cell_type": "code",
   "execution_count": 8,
   "metadata": {},
   "outputs": [
    {
     "data": {
      "text/plain": [
       "{'path': PosixPath('smglom/IWGS/source/jupyterNB.tex'),\n",
       " 'modsigs': [[Modsig name=modsig]],\n",
       " 'modnls': [],\n",
       " 'modules': [],\n",
       " 'trefis': [],\n",
       " 'defis': [],\n",
       " 'syms': [[Sym i=2 tokens=[jupyter, notebook]]],\n",
       " 'symdefs': [],\n",
       " 'importmodules': [],\n",
       " 'gimports': [[public gimport code from \"/home/marian/repositories/smglom/computing/source/code.tex\"]],\n",
       " 'errors': defaultdict(list,\n",
       "             {[Location uri=\"smglom/IWGS/source/jupyterNB.tex\" range=[Range (1 3) (1 72)]]: [stexls.compiler.exceptions.CompilerException('Invalid argument configuration in importmhmodule: \"dir\" must be specified.')],\n",
       "              [Location uri=\"smglom/IWGS/source/jupyterNB.tex\" range=[Range (2 3) (2 78)]]: [stexls.compiler.exceptions.CompilerException('Invalid argument configuration in importmhmodule: \"dir\" must be specified.')]})}"
      ]
     },
     "execution_count": 8,
     "metadata": {},
     "output_type": "execute_result"
    }
   ],
   "source": [
    "importmodule_patharg = parse(Path('smglom/IWGS/source/jupyterNB.tex'))\n",
    "importmodule_patharg.__dict__"
   ]
  },
  {
   "cell_type": "code",
   "execution_count": 5,
   "metadata": {},
   "outputs": [
    {
     "name": "stdout",
     "output_type": "stream",
     "text": [
      "\\begin{omgroup}{Course Contents}\r\n",
      "  \\usemhmodule[mhrepos=MiKoMH/KWARC,dir=missing/en]{proglang}\r\n",
      "  \\begin{omtext}[title=Goal]\r\n",
      "    We want to demonstrate both theoretical foundations of CS as Computer Science, and we\r\n",
      "    want to provide practical knowledge helping students to cope with understanding and\r\n",
      "    handling Computers, electronic documents and data, and the Web. Roughly the first half\r\n",
      "    of the first semester is devoted to theoretical foundations and core concepts\r\n",
      "    (Kohlhase and Jaeger), and the second half of the semester to the practical real-world\r\n",
      "    stuff (Schönwälder and Baumann). Throughout the semester, students will be introduced\r\n",
      "    stepwise to one of the main programming languages of today, Python.\r\n",
      "  \\end{omtext}\r\n",
      "\\end{omgroup}\r\n",
      "\r\n",
      "%%% Local Variables: \r\n",
      "%%% mode: latex\r\n",
      "%%% TeX-master: t\r\n",
      "%%% End: \r\n"
     ]
    }
   ],
   "source": [
    "%cat MiKoMH/GenICT/source/course/fragments/contents.tex"
   ]
  },
  {
   "cell_type": "code",
   "execution_count": 11,
   "metadata": {},
   "outputs": [
    {
     "data": {
      "text/plain": [
       "{'path': PosixPath('MiKoMH/GenICT/source/course/fragments/contents.tex'),\n",
       " 'modsigs': [],\n",
       " 'modnls': [],\n",
       " 'modules': [],\n",
       " 'trefis': [],\n",
       " 'defis': [],\n",
       " 'syms': [],\n",
       " 'symdefs': [],\n",
       " 'importmodules': [[private ImportModule proglang from \"/home/marian/repositories/MiKoMH/KWARC/source/missing/en/proglang.tex\"]],\n",
       " 'gimports': [],\n",
       " 'errors': defaultdict(list, {})}"
      ]
     },
     "execution_count": 11,
     "metadata": {},
     "output_type": "execute_result"
    }
   ],
   "source": [
    "usemhmodule = parse(Path('MiKoMH/GenICT/source/course/fragments/contents.tex'))\n",
    "usemhmodule.__dict__"
   ]
  }
 ],
 "metadata": {
  "kernelspec": {
   "display_name": "Python 3",
   "language": "python",
   "name": "python3"
  },
  "language_info": {
   "codemirror_mode": {
    "name": "ipython",
    "version": 3
   },
   "file_extension": ".py",
   "mimetype": "text/x-python",
   "name": "python",
   "nbconvert_exporter": "python",
   "pygments_lexer": "ipython3",
   "version": "3.7.5"
  }
 },
 "nbformat": 4,
 "nbformat_minor": 2
}
